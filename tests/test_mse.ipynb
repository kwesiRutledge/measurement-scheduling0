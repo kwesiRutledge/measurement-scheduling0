{
 "cells": [
  {
   "cell_type": "code",
   "execution_count": 1,
   "metadata": {},
   "outputs": [],
   "source": [
    "using Combinatorics"
   ]
  },
  {
   "cell_type": "code",
   "execution_count": 2,
   "metadata": {},
   "outputs": [
    {
     "data": {
      "text/plain": [
       "scheduleCost (generic function with 1 method)"
      ]
     },
     "execution_count": 2,
     "metadata": {},
     "output_type": "execute_result"
    }
   ],
   "source": [
    "include(\"mse/utils_mse.jl\")"
   ]
  },
  {
   "cell_type": "code",
   "execution_count": 3,
   "metadata": {},
   "outputs": [
    {
     "data": {
      "text/plain": [
       "KalmanFilter([0.2 0.0; 0.0 1.3], [1 0; 0 1], [0.5 1.5; 0.0 1.0], [1 0; 0 1], [1 0; 0 1])"
      ]
     },
     "execution_count": 3,
     "metadata": {},
     "output_type": "execute_result"
    }
   ],
   "source": [
    "T=10\n",
    "N=3\n",
    "kf=loadKF()"
   ]
  },
  {
   "cell_type": "code",
   "execution_count": 4,
   "metadata": {},
   "outputs": [],
   "source": [
    "time_instants=0:T-1 # MODIFIED\n",
    "all_schedules=combinations(time_instants,N); # do we need to collect ?\n",
    "#n_schedules=size(all_schedules,1)"
   ]
  },
  {
   "cell_type": "code",
   "execution_count": 6,
   "metadata": {},
   "outputs": [
    {
     "name": "stdout",
     "output_type": "stream",
     "text": [
      "Sched=[0, 1, 2], cost=279.11634268393186\n",
      "Sched=[0, 1, 3], cost=169.19893555725014\n",
      "Sched=[0, 1, 4], cost=105.13994714527371\n",
      "Sched=[0, 1, 5], cost=72.18454719795122\n",
      "Sched=[0, 1, 6], cost=61.872415574610855\n",
      "Sched=[0, 1, 7], cost=71.53719410767334\n",
      "Sched=[0, 1, 8], cost=103.97630716652226\n",
      "Sched=[0, 1, 9], cost=168.352945452335\n",
      "Sched=[0, 2, 3], cost=167.4043822011549\n",
      "Sched=[0, 2, 4], cost=103.49452880643776\n",
      "Sched=[0, 2, 5], cost=67.68036642529879\n",
      "Sched=[0, 2, 6], cost=51.75074188330458\n",
      "Sched=[0, 2, 7], cost=51.694432496875265\n",
      "Sched=[0, 2, 8], cost=67.63437258587746\n",
      "Sched=[0, 2, 9], cost=104.10473473310358\n",
      "Sched=[0, 3, 4], cost=105.74791962629054\n",
      "Sched=[0, 3, 5], cost=69.1347091957568\n",
      "Sched=[0, 3, 6], cost=50.04183938504208\n",
      "Sched=[0, 3, 7], cost=44.17936696947251\n",
      "Sched=[0, 3, 8], cost=50.173897038161975\n",
      "Sched=[0, 3, 9], cost=69.79556198438809\n",
      "Sched=[0, 4, 5], cost=76.92119102183418\n",
      "Sched=[0, 4, 6], cost=56.478990576558566\n",
      "Sched=[0, 4, 7], cost=47.282555652770554\n",
      "Sched=[0, 4, 8], cost=47.375004507494396\n",
      "Sched=[0, 4, 9], cost=56.94525287322819\n",
      "Sched=[0, 5, 6], cost=72.84009305610988\n",
      "Sched=[0, 5, 7], cost=61.972285186030916\n",
      "Sched=[0, 5, 8], cost=58.63238407355469\n",
      "Sched=[0, 5, 9], cost=62.247969889195545\n",
      "Sched=[0, 6, 7], cost=92.36583404927471\n",
      "Sched=[0, 6, 8], cost=87.16519799998959\n",
      "Sched=[0, 6, 9], cost=87.29103453618268\n",
      "Sched=[0, 7, 8], cost=141.00261226383134\n",
      "Sched=[0, 7, 9], cost=139.15607878218046\n",
      "Sched=[0, 8, 9], cost=232.4534768111424\n",
      "Sched=[1, 2, 3], cost=164.61026631267663\n",
      "Sched=[1, 2, 4], cost=100.84188600609525\n",
      "Sched=[1, 2, 5], cost=64.94764469868348\n",
      "Sched=[1, 2, 6], cost=48.82156266108358\n",
      "Sched=[1, 2, 7], cost=48.417648891782406\n",
      "Sched=[1, 2, 8], cost=63.765562693940694\n",
      "Sched=[1, 2, 9], cost=99.23396662182412\n",
      "Sched=[1, 3, 4], cost=99.16498506624805\n",
      "Sched=[1, 3, 5], cost=62.5766361934178\n",
      "Sched=[1, 3, 6], cost=43.43782225109193\n",
      "Sched=[1, 3, 7], cost=37.481149937534234\n",
      "Sched=[1, 3, 8], cost=43.31231311536321\n",
      "Sched=[1, 3, 9], cost=62.65667756459066\n",
      "Sched=[1, 4, 5], cost=63.62459436793173\n",
      "Sched=[1, 4, 6], cost=43.18253976350512\n",
      "Sched=[1, 4, 7], cost=33.95972625258214\n",
      "Sched=[1, 4, 8], cost=34.00262080174519\n",
      "Sched=[1, 4, 9], cost=43.48788291919088\n",
      "Sched=[1, 5, 6], cost=48.10994048272518\n",
      "Sched=[1, 5, 7], cost=37.2381110455765\n",
      "Sched=[1, 5, 8], cost=33.882946003634544\n",
      "Sched=[1, 5, 9], cost=37.471164883438895\n",
      "Sched=[1, 6, 7], cost=48.28431159471147\n",
      "Sched=[1, 6, 8], cost=43.08004077727446\n",
      "Sched=[1, 6, 9], cost=43.19697601486554\n",
      "Sched=[1, 7, 8], cost=64.20675196525723\n",
      "Sched=[1, 7, 9], cost=62.357663374961376\n",
      "Sched=[1, 8, 9], cost=100.36610666690028\n",
      "Sched=[2, 3, 4], cost=100.19662970766319\n",
      "Sched=[2, 3, 5], cost=63.64657095586436\n",
      "Sched=[2, 3, 6], cost=44.436626781717344\n",
      "Sched=[2, 3, 7], cost=38.33361087007893\n",
      "Sched=[2, 3, 8], cost=43.91079790228453\n",
      "Sched=[2, 3, 9], cost=62.82400404797364\n",
      "Sched=[2, 4, 5], cost=62.73286293049893\n",
      "Sched=[2, 4, 6], cost=42.29118434395494\n",
      "Sched=[2, 4, 7], cost=33.032147657212114\n",
      "Sched=[2, 4, 8], cost=33.0069051104457\n",
      "Sched=[2, 4, 9], cost=42.375286958828646\n",
      "Sched=[2, 5, 6], cost=43.8273660818078\n",
      "Sched=[2, 5, 7], cost=32.95041392417846\n",
      "Sched=[2, 5, 8], cost=29.575610745982814\n",
      "Sched=[2, 5, 9], cost=33.12860352807341\n",
      "Sched=[2, 6, 7], cost=38.230058016254574\n",
      "Sched=[2, 6, 8], cost=33.02130017256723\n",
      "Sched=[2, 6, 9], cost=33.12721935346995\n",
      "Sched=[2, 7, 8], cost=44.3842491643733\n",
      "Sched=[2, 7, 9], cost=42.5320730132054\n",
      "Sched=[2, 8, 9], cost=64.02979424312541\n",
      "Sched=[3, 4, 5], cost=66.62033892065335\n",
      "Sched=[3, 4, 6], cost=46.17906268552191\n",
      "Sched=[3, 4, 7], cost=36.841633875513004\n",
      "Sched=[3, 4, 8], cost=36.66874063007111\n",
      "Sched=[3, 4, 9], cost=45.78376102538722\n",
      "Sched=[3, 5, 6], cost=45.713575744859114\n",
      "Sched=[3, 5, 7], cost=34.826708809522884\n",
      "Sched=[3, 5, 8], cost=31.413651474910775\n",
      "Sched=[3, 5, 9], cost=34.8979865348087\n",
      "Sched=[3, 6, 7], cost=36.64528832776787\n",
      "Sched=[3, 6, 8], cost=31.428292543049025\n",
      "Sched=[3, 6, 9], cost=31.51392892387819\n",
      "Sched=[3, 7, 8], cost=36.90525091859306\n",
      "Sched=[3, 7, 9], cost=35.047582701462254\n",
      "Sched=[3, 8, 9], cost=46.57913024475196\n",
      "Sched=[4, 5, 6], cost=54.43351503954577\n",
      "Sched=[4, 5, 7], cost=43.52491600438597\n",
      "Sched=[4, 5, 8], cost=40.02925826648315\n",
      "Sched=[4, 5, 9], cost=43.36525702889346\n",
      "Sched=[4, 6, 7], cost=43.323730436391656\n",
      "Sched=[4, 6, 8], cost=38.09075397009252\n",
      "Sched=[4, 6, 9], cost=38.136969056750615\n",
      "Sched=[4, 7, 8], cost=40.0746805434314\n",
      "Sched=[4, 7, 9], cost=38.206937167380374\n",
      "Sched=[4, 8, 9], cost=43.79766148810744\n",
      "Sched=[5, 6, 7], cost=60.20585549028149\n",
      "Sched=[5, 6, 8], cost=54.93815524717558\n",
      "Sched=[5, 6, 9], cost=54.89930460955231\n",
      "Sched=[5, 7, 8], cost=54.893080589742326\n",
      "Sched=[5, 7, 9], cost=53.005778964166296\n",
      "Sched=[5, 8, 9], cost=55.087020446029165\n",
      "Sched=[6, 7, 8], cost=85.56439844114792\n",
      "Sched=[6, 7, 9], cost=83.63472301259701\n",
      "Sched=[6, 8, 9], cost=83.68194189634863\n",
      "Sched=[7, 8, 9], cost=137.6534710884245\n",
      "[2, 5, 8]"
     ]
    }
   ],
   "source": [
    "best_cost=Inf\n",
    "best_sched=NaN\n",
    "for sched in all_schedules\n",
    "    cost,_=scheduleCost(kf,sched,T)\n",
    "    print(\"Sched=$sched, cost=$cost\\n\")\n",
    "    if cost<best_cost\n",
    "        best_cost=cost\n",
    "        best_sched=sched\n",
    "    end\n",
    "end\n",
    "print(best_sched)"
   ]
  },
  {
   "cell_type": "code",
   "execution_count": null,
   "metadata": {},
   "outputs": [],
   "source": []
  },
  {
   "cell_type": "code",
   "execution_count": null,
   "metadata": {},
   "outputs": [],
   "source": []
  },
  {
   "cell_type": "code",
   "execution_count": null,
   "metadata": {},
   "outputs": [],
   "source": []
  },
  {
   "cell_type": "code",
   "execution_count": null,
   "metadata": {},
   "outputs": [],
   "source": []
  }
 ],
 "metadata": {
  "kernelspec": {
   "display_name": "Julia 1.4.2",
   "language": "julia",
   "name": "julia-1.4"
  },
  "language_info": {
   "file_extension": ".jl",
   "mimetype": "application/julia",
   "name": "julia",
   "version": "1.4.2"
  }
 },
 "nbformat": 4,
 "nbformat_minor": 2
}
