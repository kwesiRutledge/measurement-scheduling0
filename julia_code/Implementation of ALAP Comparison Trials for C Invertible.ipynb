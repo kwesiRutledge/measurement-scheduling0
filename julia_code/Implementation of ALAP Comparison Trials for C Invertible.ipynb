{
 "cells": [
  {
   "cell_type": "markdown",
   "metadata": {},
   "source": [
    "# Implementation of ALAP Comparison Trials for C Invertible\n"
   ]
  },
  {
   "cell_type": "code",
   "execution_count": 19,
   "metadata": {},
   "outputs": [],
   "source": [
    "using Test\n",
    "using JuMP\n",
    "using Gurobi\n",
    "using LinearAlgebra"
   ]
  },
  {
   "cell_type": "code",
   "execution_count": 20,
   "metadata": {},
   "outputs": [
    {
     "name": "stdout",
     "output_type": "stream",
     "text": [
      "\u001b[37m\u001b[1mTest Summary:                | \u001b[22m\u001b[39m\u001b[32m\u001b[1mPass  \u001b[22m\u001b[39m\u001b[36m\u001b[1mTotal\u001b[22m\u001b[39m\n",
      "compute_Sx0() Function Tests | \u001b[32m   1  \u001b[39m\u001b[36m    1\u001b[39m\n",
      "\u001b[37m\u001b[1mTest Summary:               | \u001b[22m\u001b[39m\u001b[32m\u001b[1mPass  \u001b[22m\u001b[39m\u001b[36m\u001b[1mTotal\u001b[22m\u001b[39m\n",
      "compute_Sw() Function Tests | \u001b[32m   2  \u001b[39m\u001b[36m    2\u001b[39m\n",
      "\u001b[37m\u001b[1mTest Summary:                | \u001b[22m\u001b[39m\u001b[32m\u001b[1mPass  \u001b[22m\u001b[39m\u001b[36m\u001b[1mTotal\u001b[22m\u001b[39m\n",
      "compute_C_M() Function Tests | \u001b[32m   1  \u001b[39m\u001b[36m    1\u001b[39m\n"
     ]
    },
    {
     "ename": "LoadError",
     "evalue": "LoadError: cannot document the following expression:\n\nusing LinearAlgebra\n\nin expression starting at /Users/kwesirutledge/Documents/Research/measurement-scheduling0/julia_code/linear_system.jl:1",
     "output_type": "error",
     "traceback": [
      "LoadError: cannot document the following expression:\n\nusing LinearAlgebra\n\nin expression starting at /Users/kwesirutledge/Documents/Research/measurement-scheduling0/julia_code/linear_system.jl:1",
      "",
      "Stacktrace:",
      " [1] error(::String, ::String) at ./error.jl:42",
      " [2] top-level scope at /Users/kwesirutledge/Documents/Research/measurement-scheduling0/julia_code/linear_system.jl:1",
      " [3] include(::String) at ./client.jl:457",
      " [4] top-level scope at In[20]:3",
      " [5] include_string(::Function, ::Module, ::String, ::String) at ./loading.jl:1091",
      " [6] execute_code(::String, ::String) at /Users/kwesirutledge/.julia/packages/IJulia/a1SNk/src/execute_request.jl:27",
      " [7] execute_request(::ZMQ.Socket, ::IJulia.Msg) at /Users/kwesirutledge/.julia/packages/IJulia/a1SNk/src/execute_request.jl:86",
      " [8] #invokelatest#1 at ./essentials.jl:710 [inlined]",
      " [9] invokelatest at ./essentials.jl:709 [inlined]",
      " [10] eventloop(::ZMQ.Socket) at /Users/kwesirutledge/.julia/packages/IJulia/a1SNk/src/eventloop.jl:8",
      " [11] (::IJulia.var\"#15#18\")() at ./task.jl:356"
     ]
    }
   ],
   "source": [
    "include(\"./mpc_functions.jl\")\n",
    "include(\"./mpc_functions_tests.jl\")\n",
    "include(\"./linear_system.jl\")\n",
    "include(\"./linear_system_test.jl\")"
   ]
  },
  {
   "cell_type": "code",
   "execution_count": 22,
   "metadata": {},
   "outputs": [
    {
     "name": "stdout",
     "output_type": "stream",
     "text": [
      "Academic license - for non-commercial use only - expires 2020-12-31\n"
     ]
    },
    {
     "ename": "LoadError",
     "evalue": "UndefVarError: n_x0 not defined",
     "output_type": "error",
     "traceback": [
      "UndefVarError: n_x0 not defined",
      "",
      "Stacktrace:",
      " [1] top-level scope at /Users/kwesirutledge/.julia/packages/JuMP/qhoVb/src/macros.jl:91",
      " [2] top-level scope at In[22]:23",
      " [3] include_string(::Function, ::Module, ::String, ::String) at ./loading.jl:1091",
      " [4] execute_code(::String, ::String) at /Users/kwesirutledge/.julia/packages/IJulia/a1SNk/src/execute_request.jl:27",
      " [5] execute_request(::ZMQ.Socket, ::IJulia.Msg) at /Users/kwesirutledge/.julia/packages/IJulia/a1SNk/src/execute_request.jl:86",
      " [6] #invokelatest#1 at ./essentials.jl:710 [inlined]",
      " [7] invokelatest at ./essentials.jl:709 [inlined]",
      " [8] eventloop(::ZMQ.Socket) at /Users/kwesirutledge/.julia/packages/IJulia/a1SNk/src/eventloop.jl:8",
      " [9] (::IJulia.var\"#15#18\")() at ./task.jl:356"
     ]
    }
   ],
   "source": [
    "A = [1 0;\n",
    "     -0.5 2];\n",
    "B = [1;0]\n",
    "C = [0 1]\n",
    "eta_w = 0.2\n",
    "eta_v = 0.1\n",
    "\n",
    "sys1 = LinearSystem(A,B,C,eta_w,eta_v)\n",
    "\n",
    "T = 3\n",
    "\n",
    "dim_x = n_x(sys1)\n",
    "dim_y = n_y(sys1)\n",
    "\n",
    "model = Model(Gurobi.Optimizer)\n",
    "\n",
    "#Clear the model?\n",
    "empty!(model)\n",
    "\n",
    "#Create the Optimization Variables\n",
    "@variable(model,Q[1:dim_x*T,1:dim_x*T])\n",
    "@variable(model,r[1:dim_x*T,1])\n",
    "@variable(model,Lambda[1:2*dim_x*(T+1),1:T*(dim_x+dim_y)+n_x0])\n",
    "@variable(model,alpha0[1:T+1,1])\n",
    "\n",
    "# compute H_eta and h_eta\n",
    "H_eta=[kron(Matrix(1I,T,T), H_w) zeros(T*n_w,T*n_y + n_x) ;\n",
    "    zeros(T*n_v, T*n_x) kron(Matrix(1I,T,T), H_v) zeros(T*n_v,n_x);\n",
    "    zeros(n_x0,T*(n_x+n_y)) H_x0]\n",
    "\n",
    "h_eta=[kron(ones(T),h_w); kron(ones(T),h_v); h_x0];\n",
    "\n",
    "#Constraints\n",
    "@constraint(model,alpha0.>=0)\n",
    "@constraint(model,Lambda.>=zeros(size(Lambda)))\n",
    "\n",
    "S = compute_Sw( system_in.A , T )\n",
    "C_bar = compute_C_M( system_in.C , [T-1] , T )\n",
    "J = compute_Sx0( system_in.A , T)\n",
    "\n",
    "P_xi_w = S + S*Q*C_bar*S\n",
    "P_xi_v = S * Q \n",
    "P_xi_xi0 = ( I + S*Q*C_bar)*J\n",
    "\n",
    "R_T_mT = [ I ; -Matrix(1I, n_x*(T+1), n_x*(T+1)) ]\n",
    "\n",
    "# Add dual equality constraint\n",
    "LHS1 = Lambda[schedule_idx,:,:] * H_eta\n",
    "RHS1 = R_T_mT * [ P_xi_w P_xi_v P_xi_xi0 ]\n",
    "\n",
    "@constraint(model, LHS1 .== RHS1 )\n",
    "\n",
    "# Add dual inequality constraint\n",
    "alpha_bar=kron(alpha0,ones(n_x(sys1))')\n",
    "alpha_bar=[alpha_bar alpha_bar];\n",
    "\n",
    "LHS2 = Lambda * h_eta    \n",
    "RHS2 = alpha_bar[schedule_idx,:] - R_T_mT * S*r\n",
    "@constraint(model, LHS2.<=RHS2 )\n",
    "\n",
    "# low diagonal constraint\n",
    "for blk_row_idx = 1:div(size(Q_in,1), n_x)-1\n",
    "    LHS_bloc = Q[(blk_row_idx-1)*n_x.+(1:n_x),blk_row_idx*n_y+1:end]\n",
    "    @constraint(model,LHS_bloc.==zeros(size(LHS_bloc)))\n",
    "end\n",
    "\n",
    "#Optimize!\n",
    "optimize!(model)\n",
    "\n",
    "print(\"termination_status = $(termination_status(model))\\n\")"
   ]
  },
  {
   "cell_type": "code",
   "execution_count": 45,
   "metadata": {},
   "outputs": [
    {
     "ename": "LoadError",
     "evalue": "ArgumentError: Expected argument A to be a square matrix.",
     "output_type": "error",
     "traceback": [
      "ArgumentError: Expected argument A to be a square matrix.",
      "",
      "Stacktrace:",
      " [1] compute_Sw(::Array{Int64,2}, ::Int64) at /Users/kwesirutledge/Documents/Research/measurement-scheduling0/julia_code/mpc_functions.jl:45",
      " [2] top-level scope at In[45]:2",
      " [3] include_string(::Function, ::Module, ::String, ::String) at ./loading.jl:1091",
      " [4] execute_code(::String, ::String) at /Users/kwesirutledge/.julia/packages/IJulia/a1SNk/src/execute_request.jl:27",
      " [5] execute_request(::ZMQ.Socket, ::IJulia.Msg) at /Users/kwesirutledge/.julia/packages/IJulia/a1SNk/src/execute_request.jl:86",
      " [6] #invokelatest#1 at ./essentials.jl:710 [inlined]",
      " [7] invokelatest at ./essentials.jl:709 [inlined]",
      " [8] eventloop(::ZMQ.Socket) at /Users/kwesirutledge/.julia/packages/IJulia/a1SNk/src/eventloop.jl:8",
      " [9] (::IJulia.var\"#15#18\")() at ./task.jl:356"
     ]
    }
   ],
   "source": []
  },
  {
   "cell_type": "code",
   "execution_count": 39,
   "metadata": {},
   "outputs": [
    {
     "name": "stdout",
     "output_type": "stream",
     "text": [
      "[0.0 0.0 0.0 0.0 0.0 0.0; 0.0 0.0 0.0 0.0 0.0 0.0; 1.0 0.0 0.0 0.0 0.0 0.0; 0.0 1.0 0.0 0.0 0.0 0.0; 1.0 0.0 1.0 0.0 0.0 0.0; 0.0 2.0 0.0 1.0 0.0 0.0; 1.0 0.0 1.0 0.0 1.0 0.0; 0.0 4.0 0.0 2.0 0.0 1.0]\n"
     ]
    }
   ],
   "source": [
    "println(compute_Sw(A, 3))"
   ]
  },
  {
   "cell_type": "code",
   "execution_count": null,
   "metadata": {},
   "outputs": [],
   "source": []
  }
 ],
 "metadata": {
  "kernelspec": {
   "display_name": "Julia 1.5.2",
   "language": "julia",
   "name": "julia-1.5"
  },
  "language_info": {
   "file_extension": ".jl",
   "mimetype": "application/julia",
   "name": "julia",
   "version": "1.5.2"
  }
 },
 "nbformat": 4,
 "nbformat_minor": 4
}
