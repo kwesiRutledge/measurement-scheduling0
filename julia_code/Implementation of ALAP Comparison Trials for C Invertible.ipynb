{
 "cells": [
  {
   "cell_type": "markdown",
   "metadata": {},
   "source": [
    "# Implementation of ALAP Comparison Trials for C Invertible\n"
   ]
  },
  {
   "cell_type": "code",
   "execution_count": 35,
   "metadata": {},
   "outputs": [],
   "source": [
    "using Test\n",
    "using LinearAlgebra"
   ]
  },
  {
   "cell_type": "code",
   "execution_count": 51,
   "metadata": {},
   "outputs": [
    {
     "name": "stdout",
     "output_type": "stream",
     "text": [
      "\u001b[37m\u001b[1mTest Summary:                | \u001b[22m\u001b[39m\u001b[32m\u001b[1mPass  \u001b[22m\u001b[39m\u001b[36m\u001b[1mTotal\u001b[22m\u001b[39m\n",
      "compute_Sx0() Function Tests | \u001b[32m   1  \u001b[39m\u001b[36m    1\u001b[39m\n",
      "\u001b[37m\u001b[1mTest Summary:               | \u001b[22m\u001b[39m\u001b[32m\u001b[1mPass  \u001b[22m\u001b[39m\u001b[36m\u001b[1mTotal\u001b[22m\u001b[39m\n",
      "compute_Sw() Function Tests | \u001b[32m   2  \u001b[39m\u001b[36m    2\u001b[39m\n",
      "\u001b[37mcompute_C_M() Function Tests: \u001b[39m\u001b[91m\u001b[1mTest Failed\u001b[22m\u001b[39m at \u001b[39m\u001b[1m/Users/kwesirutledge/Documents/Research/measurement-scheduling0/julia_code/mpc_functions_tests.jl:23\u001b[22m\n",
      "  Expression: compute_C_M(C, M, T) == [1.0 0 0 0 0 0; 0 0 1 0 0 0]\n",
      "   Evaluated: [1.0 0.0 0.0 0.0; 0.0 0.0 1.0 0.0] == [1.0 0.0 … 0.0 0.0; 0.0 0.0 … 0.0 0.0]\n",
      "Stacktrace:\n",
      " [1] top-level scope at \u001b[1m/Users/kwesirutledge/Documents/Research/measurement-scheduling0/julia_code/mpc_functions_tests.jl:23\u001b[22m\n",
      " [2] top-level scope at \u001b[1m/Users/julia/buildbot/worker/package_macos64/build/usr/share/julia/stdlib/v1.5/Test/src/Test.jl:1115\u001b[22m\n",
      " [3] top-level scope at \u001b[1m/Users/kwesirutledge/Documents/Research/measurement-scheduling0/julia_code/mpc_functions_tests.jl:18\u001b[22m\n",
      "\u001b[37m\u001b[1mTest Summary:                | \u001b[22m\u001b[39m\u001b[91m\u001b[1mFail  \u001b[22m\u001b[39m\u001b[36m\u001b[1mTotal\u001b[22m\u001b[39m\n",
      "compute_C_M() Function Tests | \u001b[91m   1  \u001b[39m\u001b[36m    1\u001b[39m\n"
     ]
    },
    {
     "ename": "LoadError",
     "evalue": "LoadError: Some tests did not pass: 0 passed, 1 failed, 0 errored, 0 broken.\nin expression starting at /Users/kwesirutledge/Documents/Research/measurement-scheduling0/julia_code/mpc_functions_tests.jl:17",
     "output_type": "error",
     "traceback": [
      "LoadError: Some tests did not pass: 0 passed, 1 failed, 0 errored, 0 broken.\nin expression starting at /Users/kwesirutledge/Documents/Research/measurement-scheduling0/julia_code/mpc_functions_tests.jl:17",
      "",
      "Stacktrace:",
      " [1] finish(::Test.DefaultTestSet) at /Users/julia/buildbot/worker/package_macos64/build/usr/share/julia/stdlib/v1.5/Test/src/Test.jl:879",
      " [2] top-level scope at /Users/julia/buildbot/worker/package_macos64/build/usr/share/julia/stdlib/v1.5/Test/src/Test.jl:1125",
      " [3] top-level scope at /Users/kwesirutledge/Documents/Research/measurement-scheduling0/julia_code/mpc_functions_tests.jl:18",
      " [4] include(::String) at ./client.jl:457",
      " [5] top-level scope at In[51]:2",
      " [6] include_string(::Function, ::Module, ::String, ::String) at ./loading.jl:1091",
      " [7] execute_code(::String, ::String) at /Users/kwesirutledge/.julia/packages/IJulia/a1SNk/src/execute_request.jl:27",
      " [8] execute_request(::ZMQ.Socket, ::IJulia.Msg) at /Users/kwesirutledge/.julia/packages/IJulia/a1SNk/src/execute_request.jl:86",
      " [9] #invokelatest#1 at ./essentials.jl:710 [inlined]",
      " [10] invokelatest at ./essentials.jl:709 [inlined]",
      " [11] eventloop(::ZMQ.Socket) at /Users/kwesirutledge/.julia/packages/IJulia/a1SNk/src/eventloop.jl:8",
      " [12] (::IJulia.var\"#15#18\")() at ./task.jl:356"
     ]
    }
   ],
   "source": [
    "include(\"./mpc_functions.jl\")\n",
    "include(\"./mpc_functions_tests.jl\")"
   ]
  },
  {
   "cell_type": "code",
   "execution_count": 47,
   "metadata": {},
   "outputs": [
    {
     "name": "stdout",
     "output_type": "stream",
     "text": [
      "[1 0; 0 2]\n",
      "[1 0; 0 1; 1 0; 0 2; 1 0; 0 4; 1 0; 0 8]\n"
     ]
    }
   ],
   "source": [
    "A = [1 0;\n",
    "     0 2];\n",
    "println(A)\n",
    "println(compute_Sx0(A,3))"
   ]
  },
  {
   "cell_type": "code",
   "execution_count": 45,
   "metadata": {},
   "outputs": [
    {
     "ename": "LoadError",
     "evalue": "ArgumentError: Expected argument A to be a square matrix.",
     "output_type": "error",
     "traceback": [
      "ArgumentError: Expected argument A to be a square matrix.",
      "",
      "Stacktrace:",
      " [1] compute_Sw(::Array{Int64,2}, ::Int64) at /Users/kwesirutledge/Documents/Research/measurement-scheduling0/julia_code/mpc_functions.jl:45",
      " [2] top-level scope at In[45]:2",
      " [3] include_string(::Function, ::Module, ::String, ::String) at ./loading.jl:1091",
      " [4] execute_code(::String, ::String) at /Users/kwesirutledge/.julia/packages/IJulia/a1SNk/src/execute_request.jl:27",
      " [5] execute_request(::ZMQ.Socket, ::IJulia.Msg) at /Users/kwesirutledge/.julia/packages/IJulia/a1SNk/src/execute_request.jl:86",
      " [6] #invokelatest#1 at ./essentials.jl:710 [inlined]",
      " [7] invokelatest at ./essentials.jl:709 [inlined]",
      " [8] eventloop(::ZMQ.Socket) at /Users/kwesirutledge/.julia/packages/IJulia/a1SNk/src/eventloop.jl:8",
      " [9] (::IJulia.var\"#15#18\")() at ./task.jl:356"
     ]
    }
   ],
   "source": [
    "B = [1 0; 0 2; 3 0]\n",
    "compute_Sw(B,3)"
   ]
  },
  {
   "cell_type": "code",
   "execution_count": 39,
   "metadata": {},
   "outputs": [
    {
     "name": "stdout",
     "output_type": "stream",
     "text": [
      "[0.0 0.0 0.0 0.0 0.0 0.0; 0.0 0.0 0.0 0.0 0.0 0.0; 1.0 0.0 0.0 0.0 0.0 0.0; 0.0 1.0 0.0 0.0 0.0 0.0; 1.0 0.0 1.0 0.0 0.0 0.0; 0.0 2.0 0.0 1.0 0.0 0.0; 1.0 0.0 1.0 0.0 1.0 0.0; 0.0 4.0 0.0 2.0 0.0 1.0]\n"
     ]
    }
   ],
   "source": [
    "println(compute_Sw(A, 3))"
   ]
  },
  {
   "cell_type": "code",
   "execution_count": null,
   "metadata": {},
   "outputs": [],
   "source": []
  }
 ],
 "metadata": {
  "kernelspec": {
   "display_name": "Julia 1.5.2",
   "language": "julia",
   "name": "julia-1.5"
  },
  "language_info": {
   "file_extension": ".jl",
   "mimetype": "application/julia",
   "name": "julia",
   "version": "1.5.2"
  }
 },
 "nbformat": 4,
 "nbformat_minor": 4
}
