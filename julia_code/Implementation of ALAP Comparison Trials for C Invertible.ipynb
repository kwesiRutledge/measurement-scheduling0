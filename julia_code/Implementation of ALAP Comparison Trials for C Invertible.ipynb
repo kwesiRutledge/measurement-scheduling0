{
 "cells": [
  {
   "cell_type": "markdown",
   "metadata": {},
   "source": [
    "# Implementation of ALAP Comparison Trials for C Invertible\n"
   ]
  },
  {
   "cell_type": "code",
   "execution_count": 1,
   "metadata": {},
   "outputs": [],
   "source": [
    "using Test\n",
    "using JuMP\n",
    "using Gurobi\n",
    "using LinearAlgebra"
   ]
  },
  {
   "cell_type": "code",
   "execution_count": 63,
   "metadata": {},
   "outputs": [
    {
     "name": "stdout",
     "output_type": "stream",
     "text": [
      "\u001b[37m\u001b[1mTest Summary:                | \u001b[22m\u001b[39m\u001b[32m\u001b[1mPass  \u001b[22m\u001b[39m\u001b[36m\u001b[1mTotal\u001b[22m\u001b[39m\n",
      "compute_Sx0() Function Tests | \u001b[32m   1  \u001b[39m\u001b[36m    1\u001b[39m\n",
      "\u001b[37m\u001b[1mTest Summary:               | \u001b[22m\u001b[39m\u001b[32m\u001b[1mPass  \u001b[22m\u001b[39m\u001b[36m\u001b[1mTotal\u001b[22m\u001b[39m\n",
      "compute_Sw() Function Tests | \u001b[32m   2  \u001b[39m\u001b[36m    2\u001b[39m\n",
      "\u001b[37m\u001b[1mTest Summary:                | \u001b[22m\u001b[39m\u001b[32m\u001b[1mPass  \u001b[22m\u001b[39m\u001b[36m\u001b[1mTotal\u001b[22m\u001b[39m\n",
      "compute_C_M() Function Tests | \u001b[32m   1  \u001b[39m\u001b[36m    1\u001b[39m\n",
      "\u001b[37m\u001b[1mTest Summary:             | \u001b[22m\u001b[39m\u001b[32m\u001b[1mPass  \u001b[22m\u001b[39m\u001b[36m\u001b[1mTotal\u001b[22m\u001b[39m\n",
      "LinearSystem Class Struct | \u001b[32m   1  \u001b[39m\u001b[36m    1\u001b[39m\n",
      "\u001b[37m\u001b[1mTest Summary: | \u001b[22m\u001b[39m\u001b[32m\u001b[1mPass  \u001b[22m\u001b[39m\u001b[36m\u001b[1mTotal\u001b[22m\u001b[39m\n",
      "check() tests | \u001b[32m   3  \u001b[39m\u001b[36m    3\u001b[39m\n",
      "\u001b[37m\u001b[1mTest Summary: | \u001b[22m\u001b[39m\u001b[32m\u001b[1mPass  \u001b[22m\u001b[39m\u001b[36m\u001b[1mTotal\u001b[22m\u001b[39m\n",
      "x_dim() Tests | \u001b[32m   2  \u001b[39m\u001b[36m    2\u001b[39m\n",
      "\u001b[37m\u001b[1mTest Summary: | \u001b[22m\u001b[39m\u001b[32m\u001b[1mPass  \u001b[22m\u001b[39m\u001b[36m\u001b[1mTotal\u001b[22m\u001b[39m\n",
      "y_dim() Tests | \u001b[32m   4  \u001b[39m\u001b[36m    4\u001b[39m\n",
      "[0.1; 0.1; 0.5; 0.5; 0.2; 0.2]\n",
      "[0.1, 0.1, 0.5, 0.5, 0.2, 0.2]\n",
      "\u001b[37m\u001b[1mTest Summary:                       | \u001b[22m\u001b[39m\u001b[32m\u001b[1mPass  \u001b[22m\u001b[39m\u001b[36m\u001b[1mTotal\u001b[22m\u001b[39m\n",
      "define_simple_eta_HPolytope() Tests | \u001b[32m   2  \u001b[39m\u001b[36m    2\u001b[39m\n",
      "\u001b[37m\u001b[1mTest Summary:                         | \u001b[22m\u001b[39m\u001b[32m\u001b[1mPass  \u001b[22m\u001b[39m\u001b[36m\u001b[1mTotal\u001b[22m\u001b[39m\n",
      "find_ALAP_time_from_X0_to_bound Tests | \u001b[32m   1  \u001b[39m\u001b[36m    1\u001b[39m\n"
     ]
    },
    {
     "data": {
      "text/plain": [
       "Test.DefaultTestSet(\"find_ALAP_time_from_X0_to_bound Tests\", Any[], 1, false)"
      ]
     },
     "execution_count": 63,
     "metadata": {},
     "output_type": "execute_result"
    }
   ],
   "source": [
    "include(\"./mpc_functions.jl\")\n",
    "include(\"./mpc_functions_tests.jl\")\n",
    "include(\"./linear_system.jl\")\n",
    "include(\"./linear_system_test.jl\")"
   ]
  },
  {
   "cell_type": "code",
   "execution_count": 60,
   "metadata": {},
   "outputs": [
    {
     "name": "stdout",
     "output_type": "stream",
     "text": [
      "Academic license - for non-commercial use only - expires 2020-12-31\n"
     ]
    },
    {
     "ename": "LoadError",
     "evalue": "UndefVarError: n_x0 not defined",
     "output_type": "error",
     "traceback": [
      "UndefVarError: n_x0 not defined",
      "",
      "Stacktrace:",
      " [1] top-level scope at /Users/kwesirutledge/.julia/packages/JuMP/qhoVb/src/macros.jl:91",
      " [2] top-level scope at In[60]:23",
      " [3] include_string(::Function, ::Module, ::String, ::String) at ./loading.jl:1091",
      " [4] execute_code(::String, ::String) at /Users/kwesirutledge/.julia/packages/IJulia/a1SNk/src/execute_request.jl:27",
      " [5] execute_request(::ZMQ.Socket, ::IJulia.Msg) at /Users/kwesirutledge/.julia/packages/IJulia/a1SNk/src/execute_request.jl:86",
      " [6] #invokelatest#1 at ./essentials.jl:710 [inlined]",
      " [7] invokelatest at ./essentials.jl:709 [inlined]",
      " [8] eventloop(::ZMQ.Socket) at /Users/kwesirutledge/.julia/packages/IJulia/a1SNk/src/eventloop.jl:8",
      " [9] (::IJulia.var\"#15#18\")() at ./task.jl:356"
     ]
    }
   ],
   "source": [
    "A = [1 0;\n",
    "     -0.5 2];\n",
    "B = [1;0]\n",
    "C = [0 1]\n",
    "eta_w = 0.2\n",
    "eta_v = 0.1\n",
    "\n",
    "sys1 = LinearSystem(A,B,C,eta_w,eta_v)\n",
    "\n",
    "T = 3\n",
    "\n",
    "n_x = x_dim(sys1)\n",
    "n_y = y_dim(sys1)\n",
    "\n",
    "model = Model(Gurobi.Optimizer)\n",
    "\n",
    "#Clear the model?\n",
    "empty!(model)\n",
    "\n",
    "#Create the Optimization Variables\n",
    "@variable(model,Q[1:dim_x*T,1:dim_x*T])\n",
    "@variable(model,r[1:dim_x*T,1])\n",
    "@variable(model,Lambda[1:2*dim_x*(T+1),1:T*(dim_x+dim_y)+n_x0])\n",
    "@variable(model,alpha0[1:T+1,1])\n",
    "\n",
    "# compute H_eta and h_eta\n",
    "H_eta=[kron(Matrix(1I,T,T), H_w) zeros(T*n_w,T*n_y + n_x) ;\n",
    "    zeros(T*n_v, T*n_x) kron(Matrix(1I,T,T), H_v) zeros(T*n_v,n_x);\n",
    "    zeros(n_x0,T*(n_x+n_y)) H_x0]\n",
    "\n",
    "h_eta=[kron(ones(T),h_w); kron(ones(T),h_v); h_x0];\n",
    "\n",
    "#Constraints\n",
    "@constraint(model,alpha0.>=0)\n",
    "@constraint(model,Lambda.>=zeros(size(Lambda)))\n",
    "\n",
    "S = compute_Sw( system_in.A , T )\n",
    "C_bar = compute_C_M( system_in.C , [T-1] , T )\n",
    "J = compute_Sx0( system_in.A , T)\n",
    "\n",
    "P_xi_w = S + S*Q*C_bar*S\n",
    "P_xi_v = S * Q \n",
    "P_xi_xi0 = ( I + S*Q*C_bar)*J\n",
    "\n",
    "R_T_mT = [ I ; -Matrix(1I, n_x*(T+1), n_x*(T+1)) ]\n",
    "\n",
    "# Add dual equality constraint\n",
    "LHS1 = Lambda[schedule_idx,:,:] * H_eta\n",
    "RHS1 = R_T_mT * [ P_xi_w P_xi_v P_xi_xi0 ]\n",
    "\n",
    "@constraint(model, LHS1 .== RHS1 )\n",
    "\n",
    "# Add dual inequality constraint\n",
    "alpha_bar=kron(alpha0,ones(n_x(sys1))')\n",
    "alpha_bar=[alpha_bar alpha_bar];\n",
    "\n",
    "LHS2 = Lambda * h_eta    \n",
    "RHS2 = alpha_bar[schedule_idx,:] - R_T_mT * S*r\n",
    "@constraint(model, LHS2.<=RHS2 )\n",
    "\n",
    "# low diagonal constraint\n",
    "for blk_row_idx = 1:div(size(Q_in,1), n_x)-1\n",
    "    LHS_bloc = Q[(blk_row_idx-1)*n_x.+(1:n_x),blk_row_idx*n_y+1:end]\n",
    "    @constraint(model,LHS_bloc.==zeros(size(LHS_bloc)))\n",
    "end\n",
    "\n",
    "#Optimize!\n",
    "optimize!(model)\n",
    "\n",
    "print(\"termination_status = $(termination_status(model))\\n\")"
   ]
  },
  {
   "cell_type": "code",
   "execution_count": 31,
   "metadata": {},
   "outputs": [
    {
     "name": "stdout",
     "output_type": "stream",
     "text": [
      "temp =(1,) with length 1\n",
      "(3, 2) with length 2\n",
      "a = 3, b = 2\n",
      "size([1],1) = 1\n"
     ]
    }
   ],
   "source": [
    "temp = size([1])\n",
    "print(\"temp =\")\n",
    "print(temp)\n",
    "print(\" with length \")\n",
    "println(length(temp))\n",
    "\n",
    "temp = size([1 2; 3 4; 1 2])\n",
    "print(temp); print(\" with length \"); println(length(temp))\n",
    "tempa,tempb = temp\n",
    "print(\"a = \"); print(tempa); print(\", b = \"); println(tempb)\n",
    "print(\"size([1],1) = \"); println(size([1],1))"
   ]
  },
  {
   "cell_type": "code",
   "execution_count": 54,
   "metadata": {},
   "outputs": [
    {
     "name": "stdout",
     "output_type": "stream",
     "text": [
      "[2.0; 2.0; 3.0; 3.0]"
     ]
    }
   ],
   "source": [
    "print([kron(ones(2,1),2) ; kron(ones(2,1),3) ] )"
   ]
  },
  {
   "cell_type": "code",
   "execution_count": null,
   "metadata": {},
   "outputs": [],
   "source": []
  }
 ],
 "metadata": {
  "kernelspec": {
   "display_name": "Julia 1.5.2",
   "language": "julia",
   "name": "julia-1.5"
  },
  "language_info": {
   "file_extension": ".jl",
   "mimetype": "application/julia",
   "name": "julia",
   "version": "1.5.2"
  }
 },
 "nbformat": 4,
 "nbformat_minor": 4
}
