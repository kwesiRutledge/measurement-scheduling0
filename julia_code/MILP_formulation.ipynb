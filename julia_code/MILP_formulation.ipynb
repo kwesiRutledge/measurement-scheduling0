{
 "cells": [
  {
   "cell_type": "code",
   "execution_count": 1,
   "metadata": {},
   "outputs": [],
   "source": [
    "using JuMP\n",
    "using Gurobi\n",
    "using Combinatorics\n",
    "using ToeplitzMatrices\n",
    "using LinearAlgebra"
   ]
  },
  {
   "cell_type": "code",
   "execution_count": 2,
   "metadata": {},
   "outputs": [
    {
     "data": {
      "text/plain": [
       "100000.0"
      ]
     },
     "execution_count": 2,
     "metadata": {},
     "output_type": "execute_result"
    }
   ],
   "source": [
    "# Define parameters of the problem\n",
    "A=[0.2 0; 0 1.3]\n",
    "C=[0.5 1.5; 0 1]\n",
    "\n",
    "n_y,n_x=size(C)\n",
    "\n",
    "H_w=[1 0; -1 0; 0 1; 0 -1]\n",
    "h_w=1.5*[1; 1; 1; 1]\n",
    "n_w=size(h_w,1)\n",
    "\n",
    "\n",
    "H_v=[1 0; -1 0; 0 1; 0 -1]\n",
    "h_v=0.3*[1; 1; 1; 1]\n",
    "n_v=size(h_v,1)\n",
    "\n",
    "H_x0=[1 0; -1 0; 0 1; 0 -1]\n",
    "h_x0=1.7*[1; 1; 1; 1]\n",
    "n_x0=size(h_x0,1)\n",
    "\n",
    "T=10\n",
    "N=3\n",
    "\n",
    "bigM=1e5"
   ]
  },
  {
   "cell_type": "code",
   "execution_count": 3,
   "metadata": {},
   "outputs": [
    {
     "data": {
      "text/plain": [
       "120"
      ]
     },
     "execution_count": 3,
     "metadata": {},
     "output_type": "execute_result"
    }
   ],
   "source": [
    "time_instants=0:T-1 # MODIFIED\n",
    "all_schedules=collect(combinations(time_instants,N)); # do we need to collect ?\n",
    "n_schedules=size(all_schedules,1)"
   ]
  },
  {
   "cell_type": "code",
   "execution_count": 4,
   "metadata": {},
   "outputs": [],
   "source": [
    "# compute the J matrix\n",
    "J=I # Identity matrix\n",
    "for i = 1:T\n",
    "    J = [J; (A^i)] # not efficient\n",
    "end"
   ]
  },
  {
   "cell_type": "code",
   "execution_count": 5,
   "metadata": {},
   "outputs": [
    {
     "name": "stdout",
     "output_type": "stream",
     "text": [
      "We don't use the triangular structure...\n"
     ]
    }
   ],
   "source": [
    "# compute the S matrix\n",
    "S=zeros(n_x*(T+1),n_x*T)\n",
    "l=one(A) # Is it efficient, command \"I\" is another option...\n",
    "S[n_x+1:2*n_x,1:n_x]=l # A^0\n",
    "for i=1:T-1 # loop over the lines\n",
    "    l=[A*l[1:n_x,1:n_x] l] # A*l[1:nx,1:nx] is A^i\n",
    "    S[(i+1)*n_x+1:(i+2)*n_x, 1:(i+1)*n_x]=l\n",
    "end\n",
    "print(\"We don't use the triangular structure...\\n\")"
   ]
  },
  {
   "cell_type": "code",
   "execution_count": 6,
   "metadata": {},
   "outputs": [
    {
     "name": "stdout",
     "output_type": "stream",
     "text": [
      "We don't use the sparse structure...\n"
     ]
    },
    {
     "data": {
      "text/plain": [
       "computeC_M (generic function with 1 method)"
      ]
     },
     "execution_count": 6,
     "metadata": {},
     "output_type": "execute_result"
    }
   ],
   "source": [
    "# function to compute C_M\n",
    "print(\"We don't use the sparse structure...\\n\")\n",
    "function computeC_M(T,M)\n",
    "    # construct C_sched (=C_bar)\n",
    "    M=M.+1 # to have indices\n",
    "    diag=zeros(T)\n",
    "    diag[M].=1\n",
    "    dMat=Diagonal(diag)\n",
    "    C_sched=kron(dMat,C)\n",
    "    return C_sched\n",
    "end"
   ]
  },
  {
   "cell_type": "code",
   "execution_count": 7,
   "metadata": {},
   "outputs": [
    {
     "name": "stdout",
     "output_type": "stream",
     "text": [
      "We don't use the sparse structure...\n"
     ]
    }
   ],
   "source": [
    "# compute C_bar\n",
    "print(\"We don't use the sparse structure...\\n\")\n",
    "\n",
    "# preallocation\n",
    "C_bar=zeros(n_schedules, T*n_y, (T+1)*n_x)\n",
    "\n",
    "for schedule_idx=1:n_schedules\n",
    "    M_i=all_schedules[schedule_idx]\n",
    "    C_bar[schedule_idx,:,1:T*n_x].=computeC_M(T,M_i)\n",
    "end"
   ]
  },
  {
   "cell_type": "code",
   "execution_count": 8,
   "metadata": {},
   "outputs": [],
   "source": [
    "# compute H_eta and h_eta\n",
    "H_eta=[kron(Matrix(1I,T,T), H_w) zeros(T*n_w,T*n_y + n_x) ;\n",
    "    zeros(T*n_v, T*n_x) kron(Matrix(1I,T,T), H_v) zeros(T*n_v,n_x);\n",
    "    zeros(n_x0,T*(n_x+n_y)) H_x0]\n",
    "\n",
    "h_eta=[kron(ones(T),h_w); kron(ones(T),h_v); h_x0];"
   ]
  },
  {
   "cell_type": "code",
   "execution_count": 9,
   "metadata": {},
   "outputs": [
    {
     "name": "stdout",
     "output_type": "stream",
     "text": [
      "\n",
      "--------------------------------------------\n",
      "Warning: your license will expire in 9 days\n",
      "--------------------------------------------\n",
      "\n",
      "Academic license - for non-commercial use only\n"
     ]
    },
    {
     "data": {
      "text/latex": [
       "$$ \\begin{alignat*}{1}\\text{feasibility}\\\\\n",
       "\\text{Subject to} \\quad\\end{alignat*}\n",
       " $$"
      ],
      "text/plain": [
       "A JuMP Model\n",
       "Feasibility problem with:\n",
       "Variables: 0\n",
       "Model mode: AUTOMATIC\n",
       "CachingOptimizer state: EMPTY_OPTIMIZER\n",
       "Solver name: Gurobi"
      ]
     },
     "execution_count": 9,
     "metadata": {},
     "output_type": "execute_result"
    }
   ],
   "source": [
    "model = Model(Gurobi.Optimizer)"
   ]
  },
  {
   "cell_type": "code",
   "execution_count": 10,
   "metadata": {},
   "outputs": [],
   "source": [
    "# Declare variables\n",
    "\n",
    "@variable(model,Q[1:n_schedules,1:n_x*T,1:n_x*T])\n",
    "@variable(model,r[1:n_schedules,1:n_x*T])\n",
    "@variable(model,Lambda[1:n_schedules,1:2*n_x*(T+1),1:T*(n_w+n_v)+n_x0])\n",
    "@variable(model,alpha0[1:T+1])\n",
    "@variable(model,s[1:n_schedules],Bin);"
   ]
  },
  {
   "cell_type": "code",
   "execution_count": 11,
   "metadata": {},
   "outputs": [],
   "source": [
    "alpha_bar=kron(alpha0,ones(n_x))\n",
    "alpha_bar=[alpha_bar; alpha_bar];"
   ]
  },
  {
   "cell_type": "code",
   "execution_count": 12,
   "metadata": {},
   "outputs": [],
   "source": [
    "# add constraints\n",
    "\n",
    "@constraint(model,alpha0.>=0)\n",
    "@constraint(model,sum(s)==1) # should be replaced by indicator constraint\n",
    "@constraint(model,Lambda.>=zeros(size(Lambda)))\n",
    "\n",
    "for schedule_idx=1:n_schedules\n",
    "    P_xi_w = S + S*Q[schedule_idx,:,:]*C_bar[schedule_idx,:,:]*S\n",
    "    P_xi_v = S*Q[schedule_idx,:,:]\n",
    "    P_xi_xi0 = ( I + S*Q[schedule_idx,:,:]*C_bar[schedule_idx,:,:] )*J\n",
    "\n",
    "    R_T_mT = [ I ; -Matrix(1I, n_x*(T+1), n_x*(T+1)) ]\n",
    "\n",
    "    # Add dual equality constraint\n",
    "    LHS1 = Lambda[schedule_idx,:,:] * H_eta\n",
    "    RHS1 = R_T_mT * [ P_xi_w P_xi_v P_xi_xi0 ]\n",
    "    @constraint(model, LHS1 .== RHS1 )\n",
    "    \n",
    "    # Add dual inequality constraint\n",
    "    LHS2 = Lambda[schedule_idx,:,:] * h_eta    \n",
    "    RHS2 = alpha_bar + bigM*(1-s[schedule_idx])*ones(size(alpha_bar)) - R_T_mT * S*r[schedule_idx,:]\n",
    "    @constraint(model, LHS2.<=RHS2 )\n",
    "    \n",
    "    # low diagonal constraint\n",
    "    Q_in = Q[schedule_idx,:,:]\n",
    "    for blk_row_idx = 1:div(size(Q_in,1), n_x)-1\n",
    "        LHS_bloc = Q_in[(blk_row_idx-1)*n_x.+(1:n_x),blk_row_idx*n_y+1:end]\n",
    "        @constraint(model,LHS_bloc.==zeros(size(LHS_bloc)))\n",
    "    end\n",
    "end"
   ]
  },
  {
   "cell_type": "code",
   "execution_count": 13,
   "metadata": {},
   "outputs": [
    {
     "data": {
      "text/latex": [
       "$$ alpha0_{1} + alpha0_{2} + alpha0_{3} + alpha0_{4} + alpha0_{5} + alpha0_{6} + alpha0_{7} + alpha0_{8} + alpha0_{9} + alpha0_{10} + alpha0_{11} $$"
      ],
      "text/plain": [
       "alpha0[1] + alpha0[2] + alpha0[3] + alpha0[4] + alpha0[5] + alpha0[6] + alpha0[7] + alpha0[8] + alpha0[9] + alpha0[10] + alpha0[11]"
      ]
     },
     "execution_count": 13,
     "metadata": {},
     "output_type": "execute_result"
    }
   ],
   "source": [
    "@objective(model, Min, sum(alpha0))"
   ]
  },
  {
   "cell_type": "code",
   "execution_count": 14,
   "metadata": {
    "scrolled": true
   },
   "outputs": [
    {
     "name": "stdout",
     "output_type": "stream",
     "text": [
      "\n",
      "--------------------------------------------\n",
      "Warning: your license will expire in 9 days\n",
      "--------------------------------------------\n",
      "\n",
      "Academic license - for non-commercial use only\n",
      "Gurobi Optimizer version 9.0.3 build v9.0.3rc0 (mac64)\n",
      "Optimize a model with 692172 rows, 494051 columns and 3224051 nonzeros\n",
      "Model fingerprint: 0xbb000b04\n",
      "Variable types: 493931 continuous, 120 integer (120 binary)\n",
      "Coefficient statistics:\n",
      "  Matrix range     [1e-13, 1e+05]\n",
      "  Objective range  [1e+00, 1e+00]\n",
      "  Bounds range     [0e+00, 0e+00]\n",
      "  RHS range        [1e-07, 1e+05]\n",
      "Warning: Model contains large matrix coefficient range\n",
      "         Consider reformulating model or setting NumericFocus parameter\n",
      "         to avoid numerical issues.\n",
      "Presolve removed 614003 rows and 326592 columns (presolve time = 5s) ...\n",
      "Presolve removed 635796 rows and 378288 columns\n",
      "Presolve time: 9.65s\n",
      "Presolved: 56376 rows, 115763 columns, 656963 nonzeros\n",
      "Variable types: 115642 continuous, 121 integer (121 binary)\n",
      "\n",
      "Deterministic concurrent LP optimizer: primal and dual simplex\n",
      "Showing first log only...\n",
      "\n",
      "\n",
      "Root simplex log...\n",
      "\n",
      "Iteration    Objective       Primal Inf.    Dual Inf.      Time\n",
      "       0    3.2291582e+02   0.000000e+00   8.161822e+02     11s\n",
      "    8006    2.0260334e+01   0.000000e+00   0.000000e+00     11s\n",
      "    8006    2.0260334e+01   0.000000e+00   0.000000e+00     11s\n",
      "Concurrent spin time: 0.08s\n",
      "\n",
      "Solved with dual simplex\n",
      "\n",
      "Root relaxation: objective 2.026033e+01, 19212 iterations, 1.04 seconds\n",
      "\n",
      "    Nodes    |    Current Node    |     Objective Bounds      |     Work\n",
      " Expl Unexpl |  Obj  Depth IntInf | Incumbent    BestBd   Gap | It/Node Time\n",
      "\n",
      "     0     0   20.26033    0    2          -   20.26033      -     -   11s\n",
      "H    0     0                     125.5165277   20.26033  83.9%     -   11s\n",
      "H    0     0                      54.4109590   20.26033  62.8%     -   11s\n",
      "     0     0   20.26033    0    2   54.41096   20.26033  62.8%     -   13s\n",
      "     0     2   20.26033    0    2   54.41096   20.26033  62.8%     -   15s\n",
      "*   16     2               8      46.3765300   22.79500  50.8%  38.5   15s\n",
      "H   27     2                      46.0554300   23.13320  49.8%  34.3   16s\n",
      "*   40     2              20      42.8833000   27.28000  36.4%  34.9   16s\n",
      "*   47     1              23      42.5622000   27.61800  35.1%  35.0   16s\n",
      "\n",
      "Explored 121 nodes (22695 simplex iterations) in 19.43 seconds\n",
      "Thread count was 4 (of 4 available processors)\n",
      "\n",
      "Solution count 6: 42.5622 42.8833 46.0554 ... 125.517\n",
      "\n",
      "Optimal solution found (tolerance 1.00e-04)\n",
      "Warning: max constraint violation (7.6800e-06) exceeds tolerance\n",
      "Best objective 4.256219999999e+01, best bound 4.256219999999e+01, gap 0.0000%\n",
      "\n",
      "\n",
      "=========== exec_time = 32.29919736 seconds ===========\n",
      "\n"
     ]
    }
   ],
   "source": [
    "time_beginning=time_ns()\n",
    "\n",
    "optimize!(model)\n",
    "\n",
    "time_ending=time_ns()\n",
    "exec_time=(time_ending-time_beginning)/1e9\n",
    "print(\"\\n\\n=========== exec_time = $(exec_time) seconds ===========\\n\\n\")"
   ]
  },
  {
   "cell_type": "code",
   "execution_count": 15,
   "metadata": {},
   "outputs": [
    {
     "name": "stdout",
     "output_type": "stream",
     "text": [
      "termination_status = OPTIMAL\n",
      "primal_status = FEASIBLE_POINT\n",
      "dual_status = NO_SOLUTION\n",
      "val_obj = 42.562199999988245\n",
      "schedule_opt = [2, 4, 7]"
     ]
    }
   ],
   "source": [
    "print(\"termination_status = $(termination_status(model))\\n\")\n",
    "print(\"primal_status = $(primal_status(model))\\n\")\n",
    "print(\"dual_status = $(dual_status(model))\\n\")\n",
    "\n",
    "val_obj=objective_value(model)\n",
    "\n",
    "idx_opt=findall(ones(size(s)).==value.(s))\n",
    "\n",
    "schedule_opt=all_schedules[idx_opt][1] # why do I need the \"[1]\" ?\n",
    "\n",
    "print(\"val_obj = $val_obj\\n\")\n",
    "print(\"schedule_opt = $(schedule_opt)\")"
   ]
  },
  {
   "cell_type": "code",
   "execution_count": null,
   "metadata": {},
   "outputs": [],
   "source": []
  },
  {
   "cell_type": "code",
   "execution_count": null,
   "metadata": {},
   "outputs": [],
   "source": []
  },
  {
   "cell_type": "code",
   "execution_count": null,
   "metadata": {},
   "outputs": [],
   "source": []
  }
 ],
 "metadata": {
  "kernelspec": {
   "display_name": "Julia 1.4.2",
   "language": "julia",
   "name": "julia-1.4"
  },
  "language_info": {
   "file_extension": ".jl",
   "mimetype": "application/julia",
   "name": "julia",
   "version": "1.4.2"
  }
 },
 "nbformat": 4,
 "nbformat_minor": 2
}
