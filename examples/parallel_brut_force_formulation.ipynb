{
 "cells": [
  {
   "cell_type": "code",
   "execution_count": 1,
   "metadata": {},
   "outputs": [],
   "source": [
    "using JuMP\n",
    "using Gurobi\n",
    "using Combinatorics\n",
    "using ToeplitzMatrices\n",
    "using LinearAlgebra"
   ]
  },
  {
   "cell_type": "code",
   "execution_count": 2,
   "metadata": {},
   "outputs": [
    {
     "data": {
      "text/plain": [
       "100000.0"
      ]
     },
     "execution_count": 2,
     "metadata": {},
     "output_type": "execute_result"
    }
   ],
   "source": [
    "# Define parameters of the problem\n",
    "A=[0.2 0; 0 1.3]\n",
    "C=[0.5 1.5; 0 1]\n",
    "\n",
    "n_y,n_x=size(C)\n",
    "\n",
    "H_w=[1 0; -1 0; 0 1; 0 -1]\n",
    "h_w=1.5*[1; 1; 1; 1]\n",
    "n_w=size(h_w,1)\n",
    "\n",
    "\n",
    "H_v=[1 0; -1 0; 0 1; 0 -1]\n",
    "h_v=0.3*[1; 1; 1; 1]\n",
    "n_v=size(h_v,1)\n",
    "\n",
    "H_x0=[1 0; -1 0; 0 1; 0 -1]\n",
    "h_x0=1.7*[1; 1; 1; 1]\n",
    "n_x0=size(h_x0,1)\n",
    "\n",
    "T=10\n",
    "N=3\n",
    "\n",
    "bigM=1e5"
   ]
  },
  {
   "cell_type": "code",
   "execution_count": 3,
   "metadata": {},
   "outputs": [
    {
     "data": {
      "text/plain": [
       "120"
      ]
     },
     "execution_count": 3,
     "metadata": {},
     "output_type": "execute_result"
    }
   ],
   "source": [
    "time_instants=0:T-1 # MODIFIED\n",
    "all_schedules=collect(combinations(time_instants,N)); # do we need to collect ?\n",
    "n_schedules=size(all_schedules,1)"
   ]
  },
  {
   "cell_type": "code",
   "execution_count": 4,
   "metadata": {},
   "outputs": [],
   "source": [
    "# compute the J matrix\n",
    "J=I # Identity matrix\n",
    "for i = 1:T\n",
    "    J = [J; (A^i)] # not efficient\n",
    "end"
   ]
  },
  {
   "cell_type": "code",
   "execution_count": 5,
   "metadata": {},
   "outputs": [
    {
     "name": "stdout",
     "output_type": "stream",
     "text": [
      "We don't use the triangular structure...\n"
     ]
    }
   ],
   "source": [
    "# compute the S matrix\n",
    "S=zeros(n_x*(T+1),n_x*T)\n",
    "l=one(A) # Is it efficient, command \"I\" is another option...\n",
    "S[n_x+1:2*n_x,1:n_x]=l # A^0\n",
    "for i=1:T-1 # loop over the lines\n",
    "    l=[A*l[1:n_x,1:n_x] l] # A*l[1:nx,1:nx] is A^i\n",
    "    S[(i+1)*n_x+1:(i+2)*n_x, 1:(i+1)*n_x]=l\n",
    "end\n",
    "print(\"We don't use the triangular structure...\\n\")"
   ]
  },
  {
   "cell_type": "code",
   "execution_count": 6,
   "metadata": {},
   "outputs": [
    {
     "name": "stdout",
     "output_type": "stream",
     "text": [
      "We don't use the sparse structure...\n"
     ]
    },
    {
     "data": {
      "text/plain": [
       "computeC_M (generic function with 1 method)"
      ]
     },
     "execution_count": 6,
     "metadata": {},
     "output_type": "execute_result"
    }
   ],
   "source": [
    "# function to compute C_M\n",
    "print(\"We don't use the sparse structure...\\n\")\n",
    "function computeC_M(T,M)\n",
    "    # construct C_sched (=C_bar)\n",
    "    M=M.+1 # to have indices\n",
    "    diag=zeros(T)\n",
    "    diag[M].=1\n",
    "    dMat=Diagonal(diag)\n",
    "    C_sched=kron(dMat,C)\n",
    "    return C_sched\n",
    "end"
   ]
  },
  {
   "cell_type": "code",
   "execution_count": 7,
   "metadata": {},
   "outputs": [
    {
     "name": "stdout",
     "output_type": "stream",
     "text": [
      "We don't use the sparse structure...\n"
     ]
    }
   ],
   "source": [
    "# compute C_bar\n",
    "print(\"We don't use the sparse structure...\\n\")\n",
    "\n",
    "# preallocation\n",
    "C_bar=zeros(n_schedules, T*n_y, (T+1)*n_x)\n",
    "\n",
    "for schedule_idx=1:n_schedules\n",
    "    M_i=all_schedules[schedule_idx]\n",
    "    C_bar[schedule_idx,:,1:T*n_x].=computeC_M(T,M_i)\n",
    "end"
   ]
  },
  {
   "cell_type": "code",
   "execution_count": 8,
   "metadata": {},
   "outputs": [],
   "source": [
    "# compute H_eta and h_eta\n",
    "H_eta=[kron(Matrix(1I,T,T), H_w) zeros(T*n_w,T*n_y + n_x) ;\n",
    "    zeros(T*n_v, T*n_x) kron(Matrix(1I,T,T), H_v) zeros(T*n_v,n_x);\n",
    "    zeros(n_x0,T*(n_x+n_y)) H_x0]\n",
    "\n",
    "h_eta=[kron(ones(T),h_w); kron(ones(T),h_v); h_x0];"
   ]
  },
  {
   "cell_type": "code",
   "execution_count": 9,
   "metadata": {},
   "outputs": [
    {
     "name": "stdout",
     "output_type": "stream",
     "text": [
      "Academic license - for non-commercial use only - expires 2020-12-31\n"
     ]
    },
    {
     "data": {
      "text/latex": [
       "$$ \\begin{alignat*}{1}\\text{feasibility}\\\\\n",
       "\\text{Subject to} \\quad\\end{alignat*}\n",
       " $$"
      ],
      "text/plain": [
       "A JuMP Model\n",
       "Feasibility problem with:\n",
       "Variables: 0\n",
       "Model mode: AUTOMATIC\n",
       "CachingOptimizer state: EMPTY_OPTIMIZER\n",
       "Solver name: Gurobi"
      ]
     },
     "execution_count": 9,
     "metadata": {},
     "output_type": "execute_result"
    }
   ],
   "source": [
    "model = Model(Gurobi.Optimizer)"
   ]
  },
  {
   "cell_type": "code",
   "execution_count": 10,
   "metadata": {},
   "outputs": [
    {
     "data": {
      "text/latex": [
       "$$ \\begin{alignat*}{1}\\text{feasibility}\\\\\n",
       "\\text{Subject to} \\quad\\end{alignat*}\n",
       " $$"
      ],
      "text/plain": [
       "A JuMP Model\n",
       "Feasibility problem with:\n",
       "Variables: 0\n",
       "Model mode: AUTOMATIC\n",
       "CachingOptimizer state: ATTACHED_OPTIMIZER\n",
       "Solver name: Gurobi"
      ]
     },
     "execution_count": 10,
     "metadata": {},
     "output_type": "execute_result"
    }
   ],
   "source": [
    "empty!(model)"
   ]
  },
  {
   "cell_type": "code",
   "execution_count": 11,
   "metadata": {},
   "outputs": [
    {
     "data": {
      "text/plain": [
       "120×11 Array{VariableRef,2}:\n",
       " alpha0[1,1]    alpha0[1,2]    …  alpha0[1,10]    alpha0[1,11]\n",
       " alpha0[2,1]    alpha0[2,2]       alpha0[2,10]    alpha0[2,11]\n",
       " alpha0[3,1]    alpha0[3,2]       alpha0[3,10]    alpha0[3,11]\n",
       " alpha0[4,1]    alpha0[4,2]       alpha0[4,10]    alpha0[4,11]\n",
       " alpha0[5,1]    alpha0[5,2]       alpha0[5,10]    alpha0[5,11]\n",
       " alpha0[6,1]    alpha0[6,2]    …  alpha0[6,10]    alpha0[6,11]\n",
       " alpha0[7,1]    alpha0[7,2]       alpha0[7,10]    alpha0[7,11]\n",
       " alpha0[8,1]    alpha0[8,2]       alpha0[8,10]    alpha0[8,11]\n",
       " alpha0[9,1]    alpha0[9,2]       alpha0[9,10]    alpha0[9,11]\n",
       " alpha0[10,1]   alpha0[10,2]      alpha0[10,10]   alpha0[10,11]\n",
       " alpha0[11,1]   alpha0[11,2]   …  alpha0[11,10]   alpha0[11,11]\n",
       " alpha0[12,1]   alpha0[12,2]      alpha0[12,10]   alpha0[12,11]\n",
       " alpha0[13,1]   alpha0[13,2]      alpha0[13,10]   alpha0[13,11]\n",
       " ⋮                             ⋱                  ⋮\n",
       " alpha0[109,1]  alpha0[109,2]     alpha0[109,10]  alpha0[109,11]\n",
       " alpha0[110,1]  alpha0[110,2]     alpha0[110,10]  alpha0[110,11]\n",
       " alpha0[111,1]  alpha0[111,2]  …  alpha0[111,10]  alpha0[111,11]\n",
       " alpha0[112,1]  alpha0[112,2]     alpha0[112,10]  alpha0[112,11]\n",
       " alpha0[113,1]  alpha0[113,2]     alpha0[113,10]  alpha0[113,11]\n",
       " alpha0[114,1]  alpha0[114,2]     alpha0[114,10]  alpha0[114,11]\n",
       " alpha0[115,1]  alpha0[115,2]     alpha0[115,10]  alpha0[115,11]\n",
       " alpha0[116,1]  alpha0[116,2]  …  alpha0[116,10]  alpha0[116,11]\n",
       " alpha0[117,1]  alpha0[117,2]     alpha0[117,10]  alpha0[117,11]\n",
       " alpha0[118,1]  alpha0[118,2]     alpha0[118,10]  alpha0[118,11]\n",
       " alpha0[119,1]  alpha0[119,2]     alpha0[119,10]  alpha0[119,11]\n",
       " alpha0[120,1]  alpha0[120,2]     alpha0[120,10]  alpha0[120,11]"
      ]
     },
     "execution_count": 11,
     "metadata": {},
     "output_type": "execute_result"
    }
   ],
   "source": [
    "# Declare variables\n",
    "@variable(model,Q[1:n_schedules,1:n_x*T,1:n_x*T])\n",
    "@variable(model,r[1:n_schedules,1:n_x*T])\n",
    "@variable(model,Lambda[1:n_schedules,1:2*n_x*(T+1),1:T*(n_w+n_v)+n_x0])\n",
    "@variable(model,alpha0[1:n_schedules,1:T+1])"
   ]
  },
  {
   "cell_type": "code",
   "execution_count": 12,
   "metadata": {},
   "outputs": [],
   "source": [
    "alpha_bar=kron(alpha0,ones(n_x)')\n",
    "alpha_bar=[alpha_bar alpha_bar];"
   ]
  },
  {
   "cell_type": "code",
   "execution_count": 13,
   "metadata": {},
   "outputs": [],
   "source": [
    "# add constraints\n",
    "\n",
    "@constraint(model,alpha0.>=0)\n",
    "@constraint(model,Lambda.>=zeros(size(Lambda)))\n",
    "\n",
    "for schedule_idx=1:n_schedules\n",
    "    P_xi_w = S + S*Q[schedule_idx,:,:]*C_bar[schedule_idx,:,:]*S\n",
    "    P_xi_v = S*Q[schedule_idx,:,:]\n",
    "    P_xi_xi0 = ( I + S*Q[schedule_idx,:,:]*C_bar[schedule_idx,:,:] )*J\n",
    "\n",
    "    R_T_mT = [ I ; -Matrix(1I, n_x*(T+1), n_x*(T+1)) ]\n",
    "\n",
    "    # Add dual equality constraint\n",
    "    LHS1 = Lambda[schedule_idx,:,:] * H_eta\n",
    "    RHS1 = R_T_mT * [ P_xi_w P_xi_v P_xi_xi0 ]\n",
    "    @constraint(model, LHS1 .== RHS1 )\n",
    "    \n",
    "    # Add dual inequality constraint\n",
    "    LHS2 = Lambda[schedule_idx,:,:] * h_eta    \n",
    "    RHS2 = alpha_bar[schedule_idx,:] - R_T_mT * S*r[schedule_idx,:]\n",
    "    @constraint(model, LHS2.<=RHS2 )\n",
    "    \n",
    "    # low diagonal constraint\n",
    "    Q_in = Q[schedule_idx,:,:]\n",
    "    for blk_row_idx = 1:div(size(Q_in,1), n_x)-1\n",
    "        LHS_bloc = Q_in[(blk_row_idx-1)*n_x.+(1:n_x),blk_row_idx*n_y+1:end]\n",
    "        @constraint(model,LHS_bloc.==zeros(size(LHS_bloc)))\n",
    "    end\n",
    "end"
   ]
  },
  {
   "cell_type": "code",
   "execution_count": 14,
   "metadata": {
    "scrolled": true
   },
   "outputs": [
    {
     "data": {
      "text/latex": [
       "$$ alpha0_{1,1} + alpha0_{2,1} + alpha0_{3,1} + alpha0_{4,1} + alpha0_{5,1} + alpha0_{6,1} + alpha0_{7,1} + alpha0_{8,1} + alpha0_{9,1} + alpha0_{10,1} + alpha0_{11,1} + alpha0_{12,1} + alpha0_{13,1} + alpha0_{14,1} + alpha0_{15,1} + alpha0_{16,1} + alpha0_{17,1} + alpha0_{18,1} + alpha0_{19,1} + alpha0_{20,1} + alpha0_{21,1} + alpha0_{22,1} + alpha0_{23,1} + alpha0_{24,1} + alpha0_{25,1} + alpha0_{26,1} + alpha0_{27,1} + alpha0_{28,1} + alpha0_{29,1} + alpha0_{30,1} + alpha0_{31,1} + alpha0_{32,1} + alpha0_{33,1} + alpha0_{34,1} + alpha0_{35,1} + alpha0_{36,1} + alpha0_{37,1} + alpha0_{38,1} + alpha0_{39,1} + alpha0_{40,1} + alpha0_{41,1} + alpha0_{42,1} + alpha0_{43,1} + alpha0_{44,1} + alpha0_{45,1} + alpha0_{46,1} + alpha0_{47,1} + alpha0_{48,1} + alpha0_{49,1} + alpha0_{50,1} + alpha0_{51,1} + alpha0_{52,1} + alpha0_{53,1} + alpha0_{54,1} + alpha0_{55,1} + alpha0_{56,1} + alpha0_{57,1} + alpha0_{58,1} + alpha0_{59,1} + alpha0_{60,1} + alpha0_{61,1} + alpha0_{62,1} + alpha0_{63,1} + alpha0_{64,1} + alpha0_{65,1} + alpha0_{66,1} + alpha0_{67,1} + alpha0_{68,1} + alpha0_{69,1} + alpha0_{70,1} + alpha0_{71,1} + alpha0_{72,1} + alpha0_{73,1} + alpha0_{74,1} + alpha0_{75,1} + alpha0_{76,1} + alpha0_{77,1} + alpha0_{78,1} + alpha0_{79,1} + alpha0_{80,1} + alpha0_{81,1} + alpha0_{82,1} + alpha0_{83,1} + alpha0_{84,1} + alpha0_{85,1} + alpha0_{86,1} + alpha0_{87,1} + alpha0_{88,1} + alpha0_{89,1} + alpha0_{90,1} + alpha0_{91,1} + alpha0_{92,1} + alpha0_{93,1} + alpha0_{94,1} + alpha0_{95,1} + alpha0_{96,1} + alpha0_{97,1} + alpha0_{98,1} + alpha0_{99,1} + alpha0_{100,1} + alpha0_{101,1} + alpha0_{102,1} + alpha0_{103,1} + alpha0_{104,1} + alpha0_{105,1} + alpha0_{106,1} + alpha0_{107,1} + alpha0_{108,1} + alpha0_{109,1} + alpha0_{110,1} + alpha0_{111,1} + alpha0_{112,1} + alpha0_{113,1} + alpha0_{114,1} + alpha0_{115,1} + alpha0_{116,1} + alpha0_{117,1} + alpha0_{118,1} + alpha0_{119,1} + alpha0_{120,1} + alpha0_{1,2} + alpha0_{2,2} + alpha0_{3,2} + alpha0_{4,2} + alpha0_{5,2} + alpha0_{6,2} + alpha0_{7,2} + alpha0_{8,2} + alpha0_{9,2} + alpha0_{10,2} + alpha0_{11,2} + alpha0_{12,2} + alpha0_{13,2} + alpha0_{14,2} + alpha0_{15,2} + alpha0_{16,2} + alpha0_{17,2} + alpha0_{18,2} + alpha0_{19,2} + alpha0_{20,2} + alpha0_{21,2} + alpha0_{22,2} + alpha0_{23,2} + alpha0_{24,2} + alpha0_{25,2} + alpha0_{26,2} + alpha0_{27,2} + alpha0_{28,2} + alpha0_{29,2} + alpha0_{30,2} + alpha0_{31,2} + alpha0_{32,2} + alpha0_{33,2} + alpha0_{34,2} + alpha0_{35,2} + alpha0_{36,2} + alpha0_{37,2} + alpha0_{38,2} + alpha0_{39,2} + alpha0_{40,2} + alpha0_{41,2} + alpha0_{42,2} + alpha0_{43,2} + alpha0_{44,2} + alpha0_{45,2} + alpha0_{46,2} + alpha0_{47,2} + alpha0_{48,2} + alpha0_{49,2} + alpha0_{50,2} + alpha0_{51,2} + alpha0_{52,2} + alpha0_{53,2} + alpha0_{54,2} + alpha0_{55,2} + alpha0_{56,2} + alpha0_{57,2} + alpha0_{58,2} + alpha0_{59,2} + alpha0_{60,2} + alpha0_{61,2} + alpha0_{62,2} + alpha0_{63,2} + alpha0_{64,2} + alpha0_{65,2} + alpha0_{66,2} + alpha0_{67,2} + alpha0_{68,2} + alpha0_{69,2} + alpha0_{70,2} + alpha0_{71,2} + alpha0_{72,2} + alpha0_{73,2} + alpha0_{74,2} + alpha0_{75,2} + alpha0_{76,2} + alpha0_{77,2} + alpha0_{78,2} + alpha0_{79,2} + alpha0_{80,2} + alpha0_{81,2} + alpha0_{82,2} + alpha0_{83,2} + alpha0_{84,2} + alpha0_{85,2} + alpha0_{86,2} + alpha0_{87,2} + alpha0_{88,2} + alpha0_{89,2} + alpha0_{90,2} + alpha0_{91,2} + alpha0_{92,2} + alpha0_{93,2} + alpha0_{94,2} + alpha0_{95,2} + alpha0_{96,2} + alpha0_{97,2} + alpha0_{98,2} + alpha0_{99,2} + alpha0_{100,2} + alpha0_{101,2} + alpha0_{102,2} + alpha0_{103,2} + alpha0_{104,2} + alpha0_{105,2} + alpha0_{106,2} + alpha0_{107,2} + alpha0_{108,2} + alpha0_{109,2} + alpha0_{110,2} + alpha0_{111,2} + alpha0_{112,2} + alpha0_{113,2} + alpha0_{114,2} + alpha0_{115,2} + alpha0_{116,2} + alpha0_{117,2} + alpha0_{118,2} + alpha0_{119,2} + alpha0_{120,2} + alpha0_{1,3} + alpha0_{2,3} + alpha0_{3,3} + alpha0_{4,3} + alpha0_{5,3} + alpha0_{6,3} + alpha0_{7,3} + alpha0_{8,3} + alpha0_{9,3} + alpha0_{10,3} + alpha0_{11,3} + alpha0_{12,3} + alpha0_{13,3} + alpha0_{14,3} + alpha0_{15,3} + alpha0_{16,3} + alpha0_{17,3} + alpha0_{18,3} + alpha0_{19,3} + alpha0_{20,3} + alpha0_{21,3} + alpha0_{22,3} + alpha0_{23,3} + alpha0_{24,3} + alpha0_{25,3} + alpha0_{26,3} + alpha0_{27,3} + alpha0_{28,3} + alpha0_{29,3} + alpha0_{30,3} + alpha0_{31,3} + alpha0_{32,3} + alpha0_{33,3} + alpha0_{34,3} + alpha0_{35,3} + alpha0_{36,3} + alpha0_{37,3} + alpha0_{38,3} + alpha0_{39,3} + alpha0_{40,3} + alpha0_{41,3} + alpha0_{42,3} + alpha0_{43,3} + alpha0_{44,3} + alpha0_{45,3} + alpha0_{46,3} + alpha0_{47,3} + alpha0_{48,3} + alpha0_{49,3} + alpha0_{50,3} + alpha0_{51,3} + alpha0_{52,3} + alpha0_{53,3} + alpha0_{54,3} + alpha0_{55,3} + alpha0_{56,3} + alpha0_{57,3} + alpha0_{58,3} + alpha0_{59,3} + alpha0_{60,3} + alpha0_{61,3} + alpha0_{62,3} + alpha0_{63,3} + alpha0_{64,3} + alpha0_{65,3} + alpha0_{66,3} + alpha0_{67,3} + alpha0_{68,3} + alpha0_{69,3} + alpha0_{70,3} + alpha0_{71,3} + alpha0_{72,3} + alpha0_{73,3} + alpha0_{74,3} + alpha0_{75,3} + alpha0_{76,3} + alpha0_{77,3} + alpha0_{78,3} + alpha0_{79,3} + alpha0_{80,3} + alpha0_{81,3} + alpha0_{82,3} + alpha0_{83,3} + alpha0_{84,3} + alpha0_{85,3} + alpha0_{86,3} + alpha0_{87,3} + alpha0_{88,3} + alpha0_{89,3} + alpha0_{90,3} + alpha0_{91,3} + alpha0_{92,3} + alpha0_{93,3} + alpha0_{94,3} + alpha0_{95,3} + alpha0_{96,3} + alpha0_{97,3} + alpha0_{98,3} + alpha0_{99,3} + alpha0_{100,3} + alpha0_{101,3} + alpha0_{102,3} + alpha0_{103,3} + alpha0_{104,3} + alpha0_{105,3} + alpha0_{106,3} + alpha0_{107,3} + alpha0_{108,3} + alpha0_{109,3} + alpha0_{110,3} + alpha0_{111,3} + alpha0_{112,3} + alpha0_{113,3} + alpha0_{114,3} + alpha0_{115,3} + alpha0_{116,3} + alpha0_{117,3} + alpha0_{118,3} + alpha0_{119,3} + alpha0_{120,3} + alpha0_{1,4} + alpha0_{2,4} + alpha0_{3,4} + alpha0_{4,4} + alpha0_{5,4} + alpha0_{6,4} + alpha0_{7,4} + alpha0_{8,4} + alpha0_{9,4} + alpha0_{10,4} + alpha0_{11,4} + alpha0_{12,4} + alpha0_{13,4} + alpha0_{14,4} + alpha0_{15,4} + alpha0_{16,4} + alpha0_{17,4} + alpha0_{18,4} + alpha0_{19,4} + alpha0_{20,4} + alpha0_{21,4} + alpha0_{22,4} + alpha0_{23,4} + alpha0_{24,4} + alpha0_{25,4} + alpha0_{26,4} + alpha0_{27,4} + alpha0_{28,4} + alpha0_{29,4} + alpha0_{30,4} + alpha0_{31,4} + alpha0_{32,4} + alpha0_{33,4} + alpha0_{34,4} + alpha0_{35,4} + alpha0_{36,4} + alpha0_{37,4} + alpha0_{38,4} + alpha0_{39,4} + alpha0_{40,4} + alpha0_{41,4} + alpha0_{42,4} + alpha0_{43,4} + alpha0_{44,4} + alpha0_{45,4} + alpha0_{46,4} + alpha0_{47,4} + alpha0_{48,4} + alpha0_{49,4} + alpha0_{50,4} + alpha0_{51,4} + alpha0_{52,4} + alpha0_{53,4} + alpha0_{54,4} + alpha0_{55,4} + alpha0_{56,4} + alpha0_{57,4} + alpha0_{58,4} + alpha0_{59,4} + alpha0_{60,4} + alpha0_{61,4} + alpha0_{62,4} + alpha0_{63,4} + alpha0_{64,4} + alpha0_{65,4} + alpha0_{66,4} + alpha0_{67,4} + alpha0_{68,4} + alpha0_{69,4} + alpha0_{70,4} + alpha0_{71,4} + alpha0_{72,4} + alpha0_{73,4} + alpha0_{74,4} + alpha0_{75,4} + alpha0_{76,4} + alpha0_{77,4} + alpha0_{78,4} + alpha0_{79,4} + alpha0_{80,4} + alpha0_{81,4} + alpha0_{82,4} + alpha0_{83,4} + alpha0_{84,4} + alpha0_{85,4} + alpha0_{86,4} + alpha0_{87,4} + alpha0_{88,4} + alpha0_{89,4} + alpha0_{90,4} + alpha0_{91,4} + alpha0_{92,4} + alpha0_{93,4} + alpha0_{94,4} + alpha0_{95,4} + alpha0_{96,4} + alpha0_{97,4} + alpha0_{98,4} + alpha0_{99,4} + alpha0_{100,4} + alpha0_{101,4} + alpha0_{102,4} + alpha0_{103,4} + alpha0_{104,4} + alpha0_{105,4} + alpha0_{106,4} + alpha0_{107,4} + alpha0_{108,4} + alpha0_{109,4} + alpha0_{110,4} + alpha0_{111,4} + alpha0_{112,4} + alpha0_{113,4} + alpha0_{114,4} + alpha0_{115,4} + alpha0_{116,4} + alpha0_{117,4} + alpha0_{118,4} + alpha0_{119,4} + alpha0_{120,4} + alpha0_{1,5} + alpha0_{2,5} + alpha0_{3,5} + alpha0_{4,5} + alpha0_{5,5} + alpha0_{6,5} + alpha0_{7,5} + alpha0_{8,5} + alpha0_{9,5} + alpha0_{10,5} + alpha0_{11,5} + alpha0_{12,5} + alpha0_{13,5} + alpha0_{14,5} + alpha0_{15,5} + alpha0_{16,5} + alpha0_{17,5} + alpha0_{18,5} + alpha0_{19,5} + alpha0_{20,5} + alpha0_{21,5} + alpha0_{22,5} + alpha0_{23,5} + alpha0_{24,5} + alpha0_{25,5} + alpha0_{26,5} + alpha0_{27,5} + alpha0_{28,5} + alpha0_{29,5} + alpha0_{30,5} + alpha0_{31,5} + alpha0_{32,5} + alpha0_{33,5} + alpha0_{34,5} + alpha0_{35,5} + alpha0_{36,5} + alpha0_{37,5} + alpha0_{38,5} + alpha0_{39,5} + alpha0_{40,5} + alpha0_{41,5} + alpha0_{42,5} + alpha0_{43,5} + alpha0_{44,5} + alpha0_{45,5} + alpha0_{46,5} + alpha0_{47,5} + alpha0_{48,5} + alpha0_{49,5} + alpha0_{50,5} + alpha0_{51,5} + alpha0_{52,5} + alpha0_{53,5} + alpha0_{54,5} + alpha0_{55,5} + alpha0_{56,5} + alpha0_{57,5} + alpha0_{58,5} + alpha0_{59,5} + alpha0_{60,5} + alpha0_{61,5} + alpha0_{62,5} + alpha0_{63,5} + alpha0_{64,5} + alpha0_{65,5} + alpha0_{66,5} + alpha0_{67,5} + alpha0_{68,5} + alpha0_{69,5} + alpha0_{70,5} + alpha0_{71,5} + alpha0_{72,5} + alpha0_{73,5} + alpha0_{74,5} + alpha0_{75,5} + alpha0_{76,5} + alpha0_{77,5} + alpha0_{78,5} + alpha0_{79,5} + alpha0_{80,5} + alpha0_{81,5} + alpha0_{82,5} + alpha0_{83,5} + alpha0_{84,5} + alpha0_{85,5} + alpha0_{86,5} + alpha0_{87,5} + alpha0_{88,5} + alpha0_{89,5} + alpha0_{90,5} + alpha0_{91,5} + alpha0_{92,5} + alpha0_{93,5} + alpha0_{94,5} + alpha0_{95,5} + alpha0_{96,5} + alpha0_{97,5} + alpha0_{98,5} + alpha0_{99,5} + alpha0_{100,5} + alpha0_{101,5} + alpha0_{102,5} + alpha0_{103,5} + alpha0_{104,5} + alpha0_{105,5} + alpha0_{106,5} + alpha0_{107,5} + alpha0_{108,5} + alpha0_{109,5} + alpha0_{110,5} + alpha0_{111,5} + alpha0_{112,5} + alpha0_{113,5} + alpha0_{114,5} + alpha0_{115,5} + alpha0_{116,5} + alpha0_{117,5} + alpha0_{118,5} + alpha0_{119,5} + alpha0_{120,5} + alpha0_{1,6} + alpha0_{2,6} + alpha0_{3,6} + alpha0_{4,6} + alpha0_{5,6} + alpha0_{6,6} + alpha0_{7,6} + alpha0_{8,6} + alpha0_{9,6} + alpha0_{10,6} + alpha0_{11,6} + alpha0_{12,6} + alpha0_{13,6} + alpha0_{14,6} + alpha0_{15,6} + alpha0_{16,6} + alpha0_{17,6} + alpha0_{18,6} + alpha0_{19,6} + alpha0_{20,6} + alpha0_{21,6} + alpha0_{22,6} + alpha0_{23,6} + alpha0_{24,6} + alpha0_{25,6} + alpha0_{26,6} + alpha0_{27,6} + alpha0_{28,6} + alpha0_{29,6} + alpha0_{30,6} + alpha0_{31,6} + alpha0_{32,6} + alpha0_{33,6} + alpha0_{34,6} + alpha0_{35,6} + alpha0_{36,6} + alpha0_{37,6} + alpha0_{38,6} + alpha0_{39,6} + alpha0_{40,6} + alpha0_{41,6} + alpha0_{42,6} + alpha0_{43,6} + alpha0_{44,6} + alpha0_{45,6} + alpha0_{46,6} + alpha0_{47,6} + alpha0_{48,6} + alpha0_{49,6} + alpha0_{50,6} + alpha0_{51,6} + alpha0_{52,6} + alpha0_{53,6} + alpha0_{54,6} + alpha0_{55,6} + alpha0_{56,6} + alpha0_{57,6} + alpha0_{58,6} + alpha0_{59,6} + alpha0_{60,6} + alpha0_{61,6} + alpha0_{62,6} + alpha0_{63,6} + alpha0_{64,6} + alpha0_{65,6} + alpha0_{66,6} + alpha0_{67,6} + alpha0_{68,6} + alpha0_{69,6} + alpha0_{70,6} + alpha0_{71,6} + alpha0_{72,6} + alpha0_{73,6} + alpha0_{74,6} + alpha0_{75,6} + alpha0_{76,6} + alpha0_{77,6} + alpha0_{78,6} + alpha0_{79,6} + alpha0_{80,6} + alpha0_{81,6} + alpha0_{82,6} + alpha0_{83,6} + alpha0_{84,6} + alpha0_{85,6} + alpha0_{86,6} + alpha0_{87,6} + alpha0_{88,6} + alpha0_{89,6} + alpha0_{90,6} + alpha0_{91,6} + alpha0_{92,6} + alpha0_{93,6} + alpha0_{94,6} + alpha0_{95,6} + alpha0_{96,6} + alpha0_{97,6} + alpha0_{98,6} + alpha0_{99,6} + alpha0_{100,6} + alpha0_{101,6} + alpha0_{102,6} + alpha0_{103,6} + alpha0_{104,6} + alpha0_{105,6} + alpha0_{106,6} + alpha0_{107,6} + alpha0_{108,6} + alpha0_{109,6} + alpha0_{110,6} + alpha0_{111,6} + alpha0_{112,6} + alpha0_{113,6} + alpha0_{114,6} + alpha0_{115,6} + alpha0_{116,6} + alpha0_{117,6} + alpha0_{118,6} + alpha0_{119,6} + alpha0_{120,6} + alpha0_{1,7} + alpha0_{2,7} + alpha0_{3,7} + alpha0_{4,7} + alpha0_{5,7} + alpha0_{6,7} + alpha0_{7,7} + alpha0_{8,7} + alpha0_{9,7} + alpha0_{10,7} + alpha0_{11,7} + alpha0_{12,7} + alpha0_{13,7} + alpha0_{14,7} + alpha0_{15,7} + alpha0_{16,7} + alpha0_{17,7} + alpha0_{18,7} + alpha0_{19,7} + alpha0_{20,7} + alpha0_{21,7} + alpha0_{22,7} + alpha0_{23,7} + alpha0_{24,7} + alpha0_{25,7} + alpha0_{26,7} + alpha0_{27,7} + alpha0_{28,7} + alpha0_{29,7} + alpha0_{30,7} + alpha0_{31,7} + alpha0_{32,7} + alpha0_{33,7} + alpha0_{34,7} + alpha0_{35,7} + alpha0_{36,7} + alpha0_{37,7} + alpha0_{38,7} + alpha0_{39,7} + alpha0_{40,7} + alpha0_{41,7} + alpha0_{42,7} + alpha0_{43,7} + alpha0_{44,7} + alpha0_{45,7} + alpha0_{46,7} + alpha0_{47,7} + alpha0_{48,7} + alpha0_{49,7} + alpha0_{50,7} + alpha0_{51,7} + alpha0_{52,7} + alpha0_{53,7} + alpha0_{54,7} + alpha0_{55,7} + alpha0_{56,7} + alpha0_{57,7} + alpha0_{58,7} + alpha0_{59,7} + alpha0_{60,7} + alpha0_{61,7} + alpha0_{62,7} + alpha0_{63,7} + alpha0_{64,7} + alpha0_{65,7} + alpha0_{66,7} + alpha0_{67,7} + alpha0_{68,7} + alpha0_{69,7} + alpha0_{70,7} + alpha0_{71,7} + alpha0_{72,7} + alpha0_{73,7} + alpha0_{74,7} + alpha0_{75,7} + alpha0_{76,7} + alpha0_{77,7} + alpha0_{78,7} + alpha0_{79,7} + alpha0_{80,7} + alpha0_{81,7} + alpha0_{82,7} + alpha0_{83,7} + alpha0_{84,7} + alpha0_{85,7} + alpha0_{86,7} + alpha0_{87,7} + alpha0_{88,7} + alpha0_{89,7} + alpha0_{90,7} + alpha0_{91,7} + alpha0_{92,7} + alpha0_{93,7} + alpha0_{94,7} + alpha0_{95,7} + alpha0_{96,7} + alpha0_{97,7} + alpha0_{98,7} + alpha0_{99,7} + alpha0_{100,7} + alpha0_{101,7} + alpha0_{102,7} + alpha0_{103,7} + alpha0_{104,7} + alpha0_{105,7} + alpha0_{106,7} + alpha0_{107,7} + alpha0_{108,7} + alpha0_{109,7} + alpha0_{110,7} + alpha0_{111,7} + alpha0_{112,7} + alpha0_{113,7} + alpha0_{114,7} + alpha0_{115,7} + alpha0_{116,7} + alpha0_{117,7} + alpha0_{118,7} + alpha0_{119,7} + alpha0_{120,7} + alpha0_{1,8} + alpha0_{2,8} + alpha0_{3,8} + alpha0_{4,8} + alpha0_{5,8} + alpha0_{6,8} + alpha0_{7,8} + alpha0_{8,8} + alpha0_{9,8} + alpha0_{10,8} + alpha0_{11,8} + alpha0_{12,8} + alpha0_{13,8} + alpha0_{14,8} + alpha0_{15,8} + alpha0_{16,8} + alpha0_{17,8} + alpha0_{18,8} + alpha0_{19,8} + alpha0_{20,8} + alpha0_{21,8} + alpha0_{22,8} + alpha0_{23,8} + alpha0_{24,8} + alpha0_{25,8} + alpha0_{26,8} + alpha0_{27,8} + alpha0_{28,8} + alpha0_{29,8} + alpha0_{30,8} + alpha0_{31,8} + alpha0_{32,8} + alpha0_{33,8} + alpha0_{34,8} + alpha0_{35,8} + alpha0_{36,8} + alpha0_{37,8} + alpha0_{38,8} + alpha0_{39,8} + alpha0_{40,8} + alpha0_{41,8} + alpha0_{42,8} + alpha0_{43,8} + alpha0_{44,8} + alpha0_{45,8} + alpha0_{46,8} + alpha0_{47,8} + alpha0_{48,8} + alpha0_{49,8} + alpha0_{50,8} + alpha0_{51,8} + alpha0_{52,8} + alpha0_{53,8} + alpha0_{54,8} + alpha0_{55,8} + alpha0_{56,8} + alpha0_{57,8} + alpha0_{58,8} + alpha0_{59,8} + alpha0_{60,8} + alpha0_{61,8} + alpha0_{62,8} + alpha0_{63,8} + alpha0_{64,8} + alpha0_{65,8} + alpha0_{66,8} + alpha0_{67,8} + alpha0_{68,8} + alpha0_{69,8} + alpha0_{70,8} + alpha0_{71,8} + alpha0_{72,8} + alpha0_{73,8} + alpha0_{74,8} + alpha0_{75,8} + alpha0_{76,8} + alpha0_{77,8} + alpha0_{78,8} + alpha0_{79,8} + alpha0_{80,8} + alpha0_{81,8} + alpha0_{82,8} + alpha0_{83,8} + alpha0_{84,8} + alpha0_{85,8} + alpha0_{86,8} + alpha0_{87,8} + alpha0_{88,8} + alpha0_{89,8} + alpha0_{90,8} + alpha0_{91,8} + alpha0_{92,8} + alpha0_{93,8} + alpha0_{94,8} + alpha0_{95,8} + alpha0_{96,8} + alpha0_{97,8} + alpha0_{98,8} + alpha0_{99,8} + alpha0_{100,8} + alpha0_{101,8} + alpha0_{102,8} + alpha0_{103,8} + alpha0_{104,8} + alpha0_{105,8} + alpha0_{106,8} + alpha0_{107,8} + alpha0_{108,8} + alpha0_{109,8} + alpha0_{110,8} + alpha0_{111,8} + alpha0_{112,8} + alpha0_{113,8} + alpha0_{114,8} + alpha0_{115,8} + alpha0_{116,8} + alpha0_{117,8} + alpha0_{118,8} + alpha0_{119,8} + alpha0_{120,8} + alpha0_{1,9} + alpha0_{2,9} + alpha0_{3,9} + alpha0_{4,9} + alpha0_{5,9} + alpha0_{6,9} + alpha0_{7,9} + alpha0_{8,9} + alpha0_{9,9} + alpha0_{10,9} + alpha0_{11,9} + alpha0_{12,9} + alpha0_{13,9} + alpha0_{14,9} + alpha0_{15,9} + alpha0_{16,9} + alpha0_{17,9} + alpha0_{18,9} + alpha0_{19,9} + alpha0_{20,9} + alpha0_{21,9} + alpha0_{22,9} + alpha0_{23,9} + alpha0_{24,9} + alpha0_{25,9} + alpha0_{26,9} + alpha0_{27,9} + alpha0_{28,9} + alpha0_{29,9} + alpha0_{30,9} + alpha0_{31,9} + alpha0_{32,9} + alpha0_{33,9} + alpha0_{34,9} + alpha0_{35,9} + alpha0_{36,9} + alpha0_{37,9} + alpha0_{38,9} + alpha0_{39,9} + alpha0_{40,9} + alpha0_{41,9} + alpha0_{42,9} + alpha0_{43,9} + alpha0_{44,9} + alpha0_{45,9} + alpha0_{46,9} + alpha0_{47,9} + alpha0_{48,9} + alpha0_{49,9} + alpha0_{50,9} + alpha0_{51,9} + alpha0_{52,9} + alpha0_{53,9} + alpha0_{54,9} + alpha0_{55,9} + alpha0_{56,9} + alpha0_{57,9} + alpha0_{58,9} + alpha0_{59,9} + alpha0_{60,9} + alpha0_{61,9} + alpha0_{62,9} + alpha0_{63,9} + alpha0_{64,9} + alpha0_{65,9} + alpha0_{66,9} + alpha0_{67,9} + alpha0_{68,9} + alpha0_{69,9} + alpha0_{70,9} + alpha0_{71,9} + alpha0_{72,9} + alpha0_{73,9} + alpha0_{74,9} + alpha0_{75,9} + alpha0_{76,9} + alpha0_{77,9} + alpha0_{78,9} + alpha0_{79,9} + alpha0_{80,9} + alpha0_{81,9} + alpha0_{82,9} + alpha0_{83,9} + alpha0_{84,9} + alpha0_{85,9} + alpha0_{86,9} + alpha0_{87,9} + alpha0_{88,9} + alpha0_{89,9} + alpha0_{90,9} + alpha0_{91,9} + alpha0_{92,9} + alpha0_{93,9} + alpha0_{94,9} + alpha0_{95,9} + alpha0_{96,9} + alpha0_{97,9} + alpha0_{98,9} + alpha0_{99,9} + alpha0_{100,9} + alpha0_{101,9} + alpha0_{102,9} + alpha0_{103,9} + alpha0_{104,9} + alpha0_{105,9} + alpha0_{106,9} + alpha0_{107,9} + alpha0_{108,9} + alpha0_{109,9} + alpha0_{110,9} + alpha0_{111,9} + alpha0_{112,9} + alpha0_{113,9} + alpha0_{114,9} + alpha0_{115,9} + alpha0_{116,9} + alpha0_{117,9} + alpha0_{118,9} + alpha0_{119,9} + alpha0_{120,9} + alpha0_{1,10} + alpha0_{2,10} + alpha0_{3,10} + alpha0_{4,10} + alpha0_{5,10} + alpha0_{6,10} + alpha0_{7,10} + alpha0_{8,10} + alpha0_{9,10} + alpha0_{10,10} + alpha0_{11,10} + alpha0_{12,10} + alpha0_{13,10} + alpha0_{14,10} + alpha0_{15,10} + alpha0_{16,10} + alpha0_{17,10} + alpha0_{18,10} + alpha0_{19,10} + alpha0_{20,10} + alpha0_{21,10} + alpha0_{22,10} + alpha0_{23,10} + alpha0_{24,10} + alpha0_{25,10} + alpha0_{26,10} + alpha0_{27,10} + alpha0_{28,10} + alpha0_{29,10} + alpha0_{30,10} + alpha0_{31,10} + alpha0_{32,10} + alpha0_{33,10} + alpha0_{34,10} + alpha0_{35,10} + alpha0_{36,10} + alpha0_{37,10} + alpha0_{38,10} + alpha0_{39,10} + alpha0_{40,10} + alpha0_{41,10} + alpha0_{42,10} + alpha0_{43,10} + alpha0_{44,10} + alpha0_{45,10} + alpha0_{46,10} + alpha0_{47,10} + alpha0_{48,10} + alpha0_{49,10} + alpha0_{50,10} + alpha0_{51,10} + alpha0_{52,10} + alpha0_{53,10} + alpha0_{54,10} + alpha0_{55,10} + alpha0_{56,10} + alpha0_{57,10} + alpha0_{58,10} + alpha0_{59,10} + alpha0_{60,10} + alpha0_{61,10} + alpha0_{62,10} + alpha0_{63,10} + alpha0_{64,10} + alpha0_{65,10} + alpha0_{66,10} + alpha0_{67,10} + alpha0_{68,10} + alpha0_{69,10} + alpha0_{70,10} + alpha0_{71,10} + alpha0_{72,10} + alpha0_{73,10} + alpha0_{74,10} + alpha0_{75,10} + alpha0_{76,10} + alpha0_{77,10} + alpha0_{78,10} + alpha0_{79,10} + alpha0_{80,10} + alpha0_{81,10} + alpha0_{82,10} + alpha0_{83,10} + alpha0_{84,10} + alpha0_{85,10} + alpha0_{86,10} + alpha0_{87,10} + alpha0_{88,10} + alpha0_{89,10} + alpha0_{90,10} + alpha0_{91,10} + alpha0_{92,10} + alpha0_{93,10} + alpha0_{94,10} + alpha0_{95,10} + alpha0_{96,10} + alpha0_{97,10} + alpha0_{98,10} + alpha0_{99,10} + alpha0_{100,10} + alpha0_{101,10} + alpha0_{102,10} + alpha0_{103,10} + alpha0_{104,10} + alpha0_{105,10} + alpha0_{106,10} + alpha0_{107,10} + alpha0_{108,10} + alpha0_{109,10} + alpha0_{110,10} + alpha0_{111,10} + alpha0_{112,10} + alpha0_{113,10} + alpha0_{114,10} + alpha0_{115,10} + alpha0_{116,10} + alpha0_{117,10} + alpha0_{118,10} + alpha0_{119,10} + alpha0_{120,10} + alpha0_{1,11} + alpha0_{2,11} + alpha0_{3,11} + alpha0_{4,11} + alpha0_{5,11} + alpha0_{6,11} + alpha0_{7,11} + alpha0_{8,11} + alpha0_{9,11} + alpha0_{10,11} + alpha0_{11,11} + alpha0_{12,11} + alpha0_{13,11} + alpha0_{14,11} + alpha0_{15,11} + alpha0_{16,11} + alpha0_{17,11} + alpha0_{18,11} + alpha0_{19,11} + alpha0_{20,11} + alpha0_{21,11} + alpha0_{22,11} + alpha0_{23,11} + alpha0_{24,11} + alpha0_{25,11} + alpha0_{26,11} + alpha0_{27,11} + alpha0_{28,11} + alpha0_{29,11} + alpha0_{30,11} + alpha0_{31,11} + alpha0_{32,11} + alpha0_{33,11} + alpha0_{34,11} + alpha0_{35,11} + alpha0_{36,11} + alpha0_{37,11} + alpha0_{38,11} + alpha0_{39,11} + alpha0_{40,11} + alpha0_{41,11} + alpha0_{42,11} + alpha0_{43,11} + alpha0_{44,11} + alpha0_{45,11} + alpha0_{46,11} + alpha0_{47,11} + alpha0_{48,11} + alpha0_{49,11} + alpha0_{50,11} + alpha0_{51,11} + alpha0_{52,11} + alpha0_{53,11} + alpha0_{54,11} + alpha0_{55,11} + alpha0_{56,11} + alpha0_{57,11} + alpha0_{58,11} + alpha0_{59,11} + alpha0_{60,11} + alpha0_{61,11} + alpha0_{62,11} + alpha0_{63,11} + alpha0_{64,11} + alpha0_{65,11} + alpha0_{66,11} + alpha0_{67,11} + alpha0_{68,11} + alpha0_{69,11} + alpha0_{70,11} + alpha0_{71,11} + alpha0_{72,11} + alpha0_{73,11} + alpha0_{74,11} + alpha0_{75,11} + alpha0_{76,11} + alpha0_{77,11} + alpha0_{78,11} + alpha0_{79,11} + alpha0_{80,11} + alpha0_{81,11} + alpha0_{82,11} + alpha0_{83,11} + alpha0_{84,11} + alpha0_{85,11} + alpha0_{86,11} + alpha0_{87,11} + alpha0_{88,11} + alpha0_{89,11} + alpha0_{90,11} + alpha0_{91,11} + alpha0_{92,11} + alpha0_{93,11} + alpha0_{94,11} + alpha0_{95,11} + alpha0_{96,11} + alpha0_{97,11} + alpha0_{98,11} + alpha0_{99,11} + alpha0_{100,11} + alpha0_{101,11} + alpha0_{102,11} + alpha0_{103,11} + alpha0_{104,11} + alpha0_{105,11} + alpha0_{106,11} + alpha0_{107,11} + alpha0_{108,11} + alpha0_{109,11} + alpha0_{110,11} + alpha0_{111,11} + alpha0_{112,11} + alpha0_{113,11} + alpha0_{114,11} + alpha0_{115,11} + alpha0_{116,11} + alpha0_{117,11} + alpha0_{118,11} + alpha0_{119,11} + alpha0_{120,11} $$"
      ],
      "text/plain": [
       "alpha0[1,1] + alpha0[2,1] + alpha0[3,1] + alpha0[4,1] + alpha0[5,1] + alpha0[6,1] + alpha0[7,1] + alpha0[8,1] + alpha0[9,1] + alpha0[10,1] + alpha0[11,1] + alpha0[12,1] + alpha0[13,1] + alpha0[14,1] + alpha0[15,1] + alpha0[16,1] + alpha0[17,1] + alpha0[18,1] + alpha0[19,1] + alpha0[20,1] + alpha0[21,1] + alpha0[22,1] + alpha0[23,1] + alpha0[24,1] + alpha0[25,1] + alpha0[26,1] + alpha0[27,1] + alpha0[28,1] + alpha0[29,1] + alpha0[30,1] + alpha0[31,1] + alpha0[32,1] + alpha0[33,1] + alpha0[34,1] + alpha0[35,1] + alpha0[36,1] + alpha0[37,1] + alpha0[38,1] + alpha0[39,1] + alpha0[40,1] + alpha0[41,1] + alpha0[42,1] + alpha0[43,1] + alpha0[44,1] + alpha0[45,1] + alpha0[46,1] + alpha0[47,1] + alpha0[48,1] + alpha0[49,1] + alpha0[50,1] + alpha0[51,1] + alpha0[52,1] + alpha0[53,1] + alpha0[54,1] + alpha0[55,1] + alpha0[56,1] + alpha0[57,1] + alpha0[58,1] + alpha0[59,1] + alpha0[60,1] + alpha0[61,1] + alpha0[62,1] + alpha0[63,1] + alpha0[64,1] + alpha0[65,1] + alpha0[66,1] + alpha0[67,1] + alpha0[68,1] + alpha0[69,1] + alpha0[70,1] + alpha0[71,1] + alpha0[72,1] + alpha0[73,1] + alpha0[74,1] + alpha0[75,1] + alpha0[76,1] + alpha0[77,1] + alpha0[78,1] + alpha0[79,1] + alpha0[80,1] + alpha0[81,1] + alpha0[82,1] + alpha0[83,1] + alpha0[84,1] + alpha0[85,1] + alpha0[86,1] + alpha0[87,1] + alpha0[88,1] + alpha0[89,1] + alpha0[90,1] + alpha0[91,1] + alpha0[92,1] + alpha0[93,1] + alpha0[94,1] + alpha0[95,1] + alpha0[96,1] + alpha0[97,1] + alpha0[98,1] + alpha0[99,1] + alpha0[100,1] + alpha0[101,1] + alpha0[102,1] + alpha0[103,1] + alpha0[104,1] + alpha0[105,1] + alpha0[106,1] + alpha0[107,1] + alpha0[108,1] + alpha0[109,1] + alpha0[110,1] + alpha0[111,1] + alpha0[112,1] + alpha0[113,1] + alpha0[114,1] + alpha0[115,1] + alpha0[116,1] + alpha0[117,1] + alpha0[118,1] + alpha0[119,1] + alpha0[120,1] + alpha0[1,2] + alpha0[2,2] + alpha0[3,2] + alpha0[4,2] + alpha0[5,2] + alpha0[6,2] + alpha0[7,2] + alpha0[8,2] + alpha0[9,2] + alpha0[10,2] + alpha0[11,2] + alpha0[12,2] + alpha0[13,2] + alpha0[14,2] + alpha0[15,2] + alpha0[16,2] + alpha0[17,2] + alpha0[18,2] + alpha0[19,2] + alpha0[20,2] + alpha0[21,2] + alpha0[22,2] + alpha0[23,2] + alpha0[24,2] + alpha0[25,2] + alpha0[26,2] + alpha0[27,2] + alpha0[28,2] + alpha0[29,2] + alpha0[30,2] + alpha0[31,2] + alpha0[32,2] + alpha0[33,2] + alpha0[34,2] + alpha0[35,2] + alpha0[36,2] + alpha0[37,2] + alpha0[38,2] + alpha0[39,2] + alpha0[40,2] + alpha0[41,2] + alpha0[42,2] + alpha0[43,2] + alpha0[44,2] + alpha0[45,2] + alpha0[46,2] + alpha0[47,2] + alpha0[48,2] + alpha0[49,2] + alpha0[50,2] + alpha0[51,2] + alpha0[52,2] + alpha0[53,2] + alpha0[54,2] + alpha0[55,2] + alpha0[56,2] + alpha0[57,2] + alpha0[58,2] + alpha0[59,2] + alpha0[60,2] + alpha0[61,2] + alpha0[62,2] + alpha0[63,2] + alpha0[64,2] + alpha0[65,2] + alpha0[66,2] + alpha0[67,2] + alpha0[68,2] + alpha0[69,2] + alpha0[70,2] + alpha0[71,2] + alpha0[72,2] + alpha0[73,2] + alpha0[74,2] + alpha0[75,2] + alpha0[76,2] + alpha0[77,2] + alpha0[78,2] + alpha0[79,2] + alpha0[80,2] + alpha0[81,2] + alpha0[82,2] + alpha0[83,2] + alpha0[84,2] + alpha0[85,2] + alpha0[86,2] + alpha0[87,2] + alpha0[88,2] + alpha0[89,2] + alpha0[90,2] + alpha0[91,2] + alpha0[92,2] + alpha0[93,2] + alpha0[94,2] + alpha0[95,2] + alpha0[96,2] + alpha0[97,2] + alpha0[98,2] + alpha0[99,2] + alpha0[100,2] + alpha0[101,2] + alpha0[102,2] + alpha0[103,2] + alpha0[104,2] + alpha0[105,2] + alpha0[106,2] + alpha0[107,2] + alpha0[108,2] + alpha0[109,2] + alpha0[110,2] + alpha0[111,2] + alpha0[112,2] + alpha0[113,2] + alpha0[114,2] + alpha0[115,2] + alpha0[116,2] + alpha0[117,2] + alpha0[118,2] + alpha0[119,2] + alpha0[120,2] + alpha0[1,3] + alpha0[2,3] + alpha0[3,3] + alpha0[4,3] + alpha0[5,3] + alpha0[6,3] + alpha0[7,3] + alpha0[8,3] + alpha0[9,3] + alpha0[10,3] + alpha0[11,3] + alpha0[12,3] + alpha0[13,3] + alpha0[14,3] + alpha0[15,3] + alpha0[16,3] + alpha0[17,3] + alpha0[18,3] + alpha0[19,3] + alpha0[20,3] + alpha0[21,3] + alpha0[22,3] + alpha0[23,3] + alpha0[24,3] + alpha0[25,3] + alpha0[26,3] + alpha0[27,3] + alpha0[28,3] + alpha0[29,3] + alpha0[30,3] + alpha0[31,3] + alpha0[32,3] + alpha0[33,3] + alpha0[34,3] + alpha0[35,3] + alpha0[36,3] + alpha0[37,3] + alpha0[38,3] + alpha0[39,3] + alpha0[40,3] + alpha0[41,3] + alpha0[42,3] + alpha0[43,3] + alpha0[44,3] + alpha0[45,3] + alpha0[46,3] + alpha0[47,3] + alpha0[48,3] + alpha0[49,3] + alpha0[50,3] + alpha0[51,3] + alpha0[52,3] + alpha0[53,3] + alpha0[54,3] + alpha0[55,3] + alpha0[56,3] + alpha0[57,3] + alpha0[58,3] + alpha0[59,3] + alpha0[60,3] + alpha0[61,3] + alpha0[62,3] + alpha0[63,3] + alpha0[64,3] + alpha0[65,3] + alpha0[66,3] + alpha0[67,3] + alpha0[68,3] + alpha0[69,3] + alpha0[70,3] + alpha0[71,3] + alpha0[72,3] + alpha0[73,3] + alpha0[74,3] + alpha0[75,3] + alpha0[76,3] + alpha0[77,3] + alpha0[78,3] + alpha0[79,3] + alpha0[80,3] + alpha0[81,3] + alpha0[82,3] + alpha0[83,3] + alpha0[84,3] + alpha0[85,3] + alpha0[86,3] + alpha0[87,3] + alpha0[88,3] + alpha0[89,3] + alpha0[90,3] + alpha0[91,3] + alpha0[92,3] + alpha0[93,3] + alpha0[94,3] + alpha0[95,3] + alpha0[96,3] + alpha0[97,3] + alpha0[98,3] + alpha0[99,3] + alpha0[100,3] + alpha0[101,3] + alpha0[102,3] + alpha0[103,3] + alpha0[104,3] + alpha0[105,3] + alpha0[106,3] + alpha0[107,3] + alpha0[108,3] + alpha0[109,3] + alpha0[110,3] + alpha0[111,3] + alpha0[112,3] + alpha0[113,3] + alpha0[114,3] + alpha0[115,3] + alpha0[116,3] + alpha0[117,3] + alpha0[118,3] + alpha0[119,3] + alpha0[120,3] + alpha0[1,4] + alpha0[2,4] + alpha0[3,4] + alpha0[4,4] + alpha0[5,4] + alpha0[6,4] + alpha0[7,4] + alpha0[8,4] + alpha0[9,4] + alpha0[10,4] + alpha0[11,4] + alpha0[12,4] + alpha0[13,4] + alpha0[14,4] + alpha0[15,4] + alpha0[16,4] + alpha0[17,4] + alpha0[18,4] + alpha0[19,4] + alpha0[20,4] + alpha0[21,4] + alpha0[22,4] + alpha0[23,4] + alpha0[24,4] + alpha0[25,4] + alpha0[26,4] + alpha0[27,4] + alpha0[28,4] + alpha0[29,4] + alpha0[30,4] + alpha0[31,4] + alpha0[32,4] + alpha0[33,4] + alpha0[34,4] + alpha0[35,4] + alpha0[36,4] + alpha0[37,4] + alpha0[38,4] + alpha0[39,4] + alpha0[40,4] + alpha0[41,4] + alpha0[42,4] + alpha0[43,4] + alpha0[44,4] + alpha0[45,4] + alpha0[46,4] + alpha0[47,4] + alpha0[48,4] + alpha0[49,4] + alpha0[50,4] + alpha0[51,4] + alpha0[52,4] + alpha0[53,4] + alpha0[54,4] + alpha0[55,4] + alpha0[56,4] + alpha0[57,4] + alpha0[58,4] + alpha0[59,4] + alpha0[60,4] + alpha0[61,4] + alpha0[62,4] + alpha0[63,4] + alpha0[64,4] + alpha0[65,4] + alpha0[66,4] + alpha0[67,4] + alpha0[68,4] + alpha0[69,4] + alpha0[70,4] + alpha0[71,4] + alpha0[72,4] + alpha0[73,4] + alpha0[74,4] + alpha0[75,4] + alpha0[76,4] + alpha0[77,4] + alpha0[78,4] + alpha0[79,4] + alpha0[80,4] + alpha0[81,4] + alpha0[82,4] + alpha0[83,4] + alpha0[84,4] + alpha0[85,4] + alpha0[86,4] + alpha0[87,4] + alpha0[88,4] + alpha0[89,4] + alpha0[90,4] + alpha0[91,4] + alpha0[92,4] + alpha0[93,4] + alpha0[94,4] + alpha0[95,4] + alpha0[96,4] + alpha0[97,4] + alpha0[98,4] + alpha0[99,4] + alpha0[100,4] + alpha0[101,4] + alpha0[102,4] + alpha0[103,4] + alpha0[104,4] + alpha0[105,4] + alpha0[106,4] + alpha0[107,4] + alpha0[108,4] + alpha0[109,4] + alpha0[110,4] + alpha0[111,4] + alpha0[112,4] + alpha0[113,4] + alpha0[114,4] + alpha0[115,4] + alpha0[116,4] + alpha0[117,4] + alpha0[118,4] + alpha0[119,4] + alpha0[120,4] + alpha0[1,5] + alpha0[2,5] + alpha0[3,5] + alpha0[4,5] + alpha0[5,5] + alpha0[6,5] + alpha0[7,5] + alpha0[8,5] + alpha0[9,5] + alpha0[10,5] + alpha0[11,5] + alpha0[12,5] + alpha0[13,5] + alpha0[14,5] + alpha0[15,5] + alpha0[16,5] + alpha0[17,5] + alpha0[18,5] + alpha0[19,5] + alpha0[20,5] + alpha0[21,5] + alpha0[22,5] + alpha0[23,5] + alpha0[24,5] + alpha0[25,5] + alpha0[26,5] + alpha0[27,5] + alpha0[28,5] + alpha0[29,5] + alpha0[30,5] + alpha0[31,5] + alpha0[32,5] + alpha0[33,5] + alpha0[34,5] + alpha0[35,5] + alpha0[36,5] + alpha0[37,5] + alpha0[38,5] + alpha0[39,5] + alpha0[40,5] + alpha0[41,5] + alpha0[42,5] + alpha0[43,5] + alpha0[44,5] + alpha0[45,5] + alpha0[46,5] + alpha0[47,5] + alpha0[48,5] + alpha0[49,5] + alpha0[50,5] + alpha0[51,5] + alpha0[52,5] + alpha0[53,5] + alpha0[54,5] + alpha0[55,5] + alpha0[56,5] + alpha0[57,5] + alpha0[58,5] + alpha0[59,5] + alpha0[60,5] + alpha0[61,5] + alpha0[62,5] + alpha0[63,5] + alpha0[64,5] + alpha0[65,5] + alpha0[66,5] + alpha0[67,5] + alpha0[68,5] + alpha0[69,5] + alpha0[70,5] + alpha0[71,5] + alpha0[72,5] + alpha0[73,5] + alpha0[74,5] + alpha0[75,5] + alpha0[76,5] + alpha0[77,5] + alpha0[78,5] + alpha0[79,5] + alpha0[80,5] + alpha0[81,5] + alpha0[82,5] + alpha0[83,5] + alpha0[84,5] + alpha0[85,5] + alpha0[86,5] + alpha0[87,5] + alpha0[88,5] + alpha0[89,5] + alpha0[90,5] + alpha0[91,5] + alpha0[92,5] + alpha0[93,5] + alpha0[94,5] + alpha0[95,5] + alpha0[96,5] + alpha0[97,5] + alpha0[98,5] + alpha0[99,5] + alpha0[100,5] + alpha0[101,5] + alpha0[102,5] + alpha0[103,5] + alpha0[104,5] + alpha0[105,5] + alpha0[106,5] + alpha0[107,5] + alpha0[108,5] + alpha0[109,5] + alpha0[110,5] + alpha0[111,5] + alpha0[112,5] + alpha0[113,5] + alpha0[114,5] + alpha0[115,5] + alpha0[116,5] + alpha0[117,5] + alpha0[118,5] + alpha0[119,5] + alpha0[120,5] + alpha0[1,6] + alpha0[2,6] + alpha0[3,6] + alpha0[4,6] + alpha0[5,6] + alpha0[6,6] + alpha0[7,6] + alpha0[8,6] + alpha0[9,6] + alpha0[10,6] + alpha0[11,6] + alpha0[12,6] + alpha0[13,6] + alpha0[14,6] + alpha0[15,6] + alpha0[16,6] + alpha0[17,6] + alpha0[18,6] + alpha0[19,6] + alpha0[20,6] + alpha0[21,6] + alpha0[22,6] + alpha0[23,6] + alpha0[24,6] + alpha0[25,6] + alpha0[26,6] + alpha0[27,6] + alpha0[28,6] + alpha0[29,6] + alpha0[30,6] + alpha0[31,6] + alpha0[32,6] + alpha0[33,6] + alpha0[34,6] + alpha0[35,6] + alpha0[36,6] + alpha0[37,6] + alpha0[38,6] + alpha0[39,6] + alpha0[40,6] + alpha0[41,6] + alpha0[42,6] + alpha0[43,6] + alpha0[44,6] + alpha0[45,6] + alpha0[46,6] + alpha0[47,6] + alpha0[48,6] + alpha0[49,6] + alpha0[50,6] + alpha0[51,6] + alpha0[52,6] + alpha0[53,6] + alpha0[54,6] + alpha0[55,6] + alpha0[56,6] + alpha0[57,6] + alpha0[58,6] + alpha0[59,6] + alpha0[60,6] + alpha0[61,6] + alpha0[62,6] + alpha0[63,6] + alpha0[64,6] + alpha0[65,6] + alpha0[66,6] + alpha0[67,6] + alpha0[68,6] + alpha0[69,6] + alpha0[70,6] + alpha0[71,6] + alpha0[72,6] + alpha0[73,6] + alpha0[74,6] + alpha0[75,6] + alpha0[76,6] + alpha0[77,6] + alpha0[78,6] + alpha0[79,6] + alpha0[80,6] + alpha0[81,6] + alpha0[82,6] + alpha0[83,6] + alpha0[84,6] + alpha0[85,6] + alpha0[86,6] + alpha0[87,6] + alpha0[88,6] + alpha0[89,6] + alpha0[90,6] + alpha0[91,6] + alpha0[92,6] + alpha0[93,6] + alpha0[94,6] + alpha0[95,6] + alpha0[96,6] + alpha0[97,6] + alpha0[98,6] + alpha0[99,6] + alpha0[100,6] + alpha0[101,6] + alpha0[102,6] + alpha0[103,6] + alpha0[104,6] + alpha0[105,6] + alpha0[106,6] + alpha0[107,6] + alpha0[108,6] + alpha0[109,6] + alpha0[110,6] + alpha0[111,6] + alpha0[112,6] + alpha0[113,6] + alpha0[114,6] + alpha0[115,6] + alpha0[116,6] + alpha0[117,6] + alpha0[118,6] + alpha0[119,6] + alpha0[120,6] + alpha0[1,7] + alpha0[2,7] + alpha0[3,7] + alpha0[4,7] + alpha0[5,7] + alpha0[6,7] + alpha0[7,7] + alpha0[8,7] + alpha0[9,7] + alpha0[10,7] + alpha0[11,7] + alpha0[12,7] + alpha0[13,7] + alpha0[14,7] + alpha0[15,7] + alpha0[16,7] + alpha0[17,7] + alpha0[18,7] + alpha0[19,7] + alpha0[20,7] + alpha0[21,7] + alpha0[22,7] + alpha0[23,7] + alpha0[24,7] + alpha0[25,7] + alpha0[26,7] + alpha0[27,7] + alpha0[28,7] + alpha0[29,7] + alpha0[30,7] + alpha0[31,7] + alpha0[32,7] + alpha0[33,7] + alpha0[34,7] + alpha0[35,7] + alpha0[36,7] + alpha0[37,7] + alpha0[38,7] + alpha0[39,7] + alpha0[40,7] + alpha0[41,7] + alpha0[42,7] + alpha0[43,7] + alpha0[44,7] + alpha0[45,7] + alpha0[46,7] + alpha0[47,7] + alpha0[48,7] + alpha0[49,7] + alpha0[50,7] + alpha0[51,7] + alpha0[52,7] + alpha0[53,7] + alpha0[54,7] + alpha0[55,7] + alpha0[56,7] + alpha0[57,7] + alpha0[58,7] + alpha0[59,7] + alpha0[60,7] + alpha0[61,7] + alpha0[62,7] + alpha0[63,7] + alpha0[64,7] + alpha0[65,7] + alpha0[66,7] + alpha0[67,7] + alpha0[68,7] + alpha0[69,7] + alpha0[70,7] + alpha0[71,7] + alpha0[72,7] + alpha0[73,7] + alpha0[74,7] + alpha0[75,7] + alpha0[76,7] + alpha0[77,7] + alpha0[78,7] + alpha0[79,7] + alpha0[80,7] + alpha0[81,7] + alpha0[82,7] + alpha0[83,7] + alpha0[84,7] + alpha0[85,7] + alpha0[86,7] + alpha0[87,7] + alpha0[88,7] + alpha0[89,7] + alpha0[90,7] + alpha0[91,7] + alpha0[92,7] + alpha0[93,7] + alpha0[94,7] + alpha0[95,7] + alpha0[96,7] + alpha0[97,7] + alpha0[98,7] + alpha0[99,7] + alpha0[100,7] + alpha0[101,7] + alpha0[102,7] + alpha0[103,7] + alpha0[104,7] + alpha0[105,7] + alpha0[106,7] + alpha0[107,7] + alpha0[108,7] + alpha0[109,7] + alpha0[110,7] + alpha0[111,7] + alpha0[112,7] + alpha0[113,7] + alpha0[114,7] + alpha0[115,7] + alpha0[116,7] + alpha0[117,7] + alpha0[118,7] + alpha0[119,7] + alpha0[120,7] + alpha0[1,8] + alpha0[2,8] + alpha0[3,8] + alpha0[4,8] + alpha0[5,8] + alpha0[6,8] + alpha0[7,8] + alpha0[8,8] + alpha0[9,8] + alpha0[10,8] + alpha0[11,8] + alpha0[12,8] + alpha0[13,8] + alpha0[14,8] + alpha0[15,8] + alpha0[16,8] + alpha0[17,8] + alpha0[18,8] + alpha0[19,8] + alpha0[20,8] + alpha0[21,8] + alpha0[22,8] + alpha0[23,8] + alpha0[24,8] + alpha0[25,8] + alpha0[26,8] + alpha0[27,8] + alpha0[28,8] + alpha0[29,8] + alpha0[30,8] + alpha0[31,8] + alpha0[32,8] + alpha0[33,8] + alpha0[34,8] + alpha0[35,8] + alpha0[36,8] + alpha0[37,8] + alpha0[38,8] + alpha0[39,8] + alpha0[40,8] + alpha0[41,8] + alpha0[42,8] + alpha0[43,8] + alpha0[44,8] + alpha0[45,8] + alpha0[46,8] + alpha0[47,8] + alpha0[48,8] + alpha0[49,8] + alpha0[50,8] + alpha0[51,8] + alpha0[52,8] + alpha0[53,8] + alpha0[54,8] + alpha0[55,8] + alpha0[56,8] + alpha0[57,8] + alpha0[58,8] + alpha0[59,8] + alpha0[60,8] + alpha0[61,8] + alpha0[62,8] + alpha0[63,8] + alpha0[64,8] + alpha0[65,8] + alpha0[66,8] + alpha0[67,8] + alpha0[68,8] + alpha0[69,8] + alpha0[70,8] + alpha0[71,8] + alpha0[72,8] + alpha0[73,8] + alpha0[74,8] + alpha0[75,8] + alpha0[76,8] + alpha0[77,8] + alpha0[78,8] + alpha0[79,8] + alpha0[80,8] + alpha0[81,8] + alpha0[82,8] + alpha0[83,8] + alpha0[84,8] + alpha0[85,8] + alpha0[86,8] + alpha0[87,8] + alpha0[88,8] + alpha0[89,8] + alpha0[90,8] + alpha0[91,8] + alpha0[92,8] + alpha0[93,8] + alpha0[94,8] + alpha0[95,8] + alpha0[96,8] + alpha0[97,8] + alpha0[98,8] + alpha0[99,8] + alpha0[100,8] + alpha0[101,8] + alpha0[102,8] + alpha0[103,8] + alpha0[104,8] + alpha0[105,8] + alpha0[106,8] + alpha0[107,8] + alpha0[108,8] + alpha0[109,8] + alpha0[110,8] + alpha0[111,8] + alpha0[112,8] + alpha0[113,8] + alpha0[114,8] + alpha0[115,8] + alpha0[116,8] + alpha0[117,8] + alpha0[118,8] + alpha0[119,8] + alpha0[120,8] + alpha0[1,9] + alpha0[2,9] + alpha0[3,9] + alpha0[4,9] + alpha0[5,9] + alpha0[6,9] + alpha0[7,9] + alpha0[8,9] + alpha0[9,9] + alpha0[10,9] + alpha0[11,9] + alpha0[12,9] + alpha0[13,9] + alpha0[14,9] + alpha0[15,9] + alpha0[16,9] + alpha0[17,9] + alpha0[18,9] + alpha0[19,9] + alpha0[20,9] + alpha0[21,9] + alpha0[22,9] + alpha0[23,9] + alpha0[24,9] + alpha0[25,9] + alpha0[26,9] + alpha0[27,9] + alpha0[28,9] + alpha0[29,9] + alpha0[30,9] + alpha0[31,9] + alpha0[32,9] + alpha0[33,9] + alpha0[34,9] + alpha0[35,9] + alpha0[36,9] + alpha0[37,9] + alpha0[38,9] + alpha0[39,9] + alpha0[40,9] + alpha0[41,9] + alpha0[42,9] + alpha0[43,9] + alpha0[44,9] + alpha0[45,9] + alpha0[46,9] + alpha0[47,9] + alpha0[48,9] + alpha0[49,9] + alpha0[50,9] + alpha0[51,9] + alpha0[52,9] + alpha0[53,9] + alpha0[54,9] + alpha0[55,9] + alpha0[56,9] + alpha0[57,9] + alpha0[58,9] + alpha0[59,9] + alpha0[60,9] + alpha0[61,9] + alpha0[62,9] + alpha0[63,9] + alpha0[64,9] + alpha0[65,9] + alpha0[66,9] + alpha0[67,9] + alpha0[68,9] + alpha0[69,9] + alpha0[70,9] + alpha0[71,9] + alpha0[72,9] + alpha0[73,9] + alpha0[74,9] + alpha0[75,9] + alpha0[76,9] + alpha0[77,9] + alpha0[78,9] + alpha0[79,9] + alpha0[80,9] + alpha0[81,9] + alpha0[82,9] + alpha0[83,9] + alpha0[84,9] + alpha0[85,9] + alpha0[86,9] + alpha0[87,9] + alpha0[88,9] + alpha0[89,9] + alpha0[90,9] + alpha0[91,9] + alpha0[92,9] + alpha0[93,9] + alpha0[94,9] + alpha0[95,9] + alpha0[96,9] + alpha0[97,9] + alpha0[98,9] + alpha0[99,9] + alpha0[100,9] + alpha0[101,9] + alpha0[102,9] + alpha0[103,9] + alpha0[104,9] + alpha0[105,9] + alpha0[106,9] + alpha0[107,9] + alpha0[108,9] + alpha0[109,9] + alpha0[110,9] + alpha0[111,9] + alpha0[112,9] + alpha0[113,9] + alpha0[114,9] + alpha0[115,9] + alpha0[116,9] + alpha0[117,9] + alpha0[118,9] + alpha0[119,9] + alpha0[120,9] + alpha0[1,10] + alpha0[2,10] + alpha0[3,10] + alpha0[4,10] + alpha0[5,10] + alpha0[6,10] + alpha0[7,10] + alpha0[8,10] + alpha0[9,10] + alpha0[10,10] + alpha0[11,10] + alpha0[12,10] + alpha0[13,10] + alpha0[14,10] + alpha0[15,10] + alpha0[16,10] + alpha0[17,10] + alpha0[18,10] + alpha0[19,10] + alpha0[20,10] + alpha0[21,10] + alpha0[22,10] + alpha0[23,10] + alpha0[24,10] + alpha0[25,10] + alpha0[26,10] + alpha0[27,10] + alpha0[28,10] + alpha0[29,10] + alpha0[30,10] + alpha0[31,10] + alpha0[32,10] + alpha0[33,10] + alpha0[34,10] + alpha0[35,10] + alpha0[36,10] + alpha0[37,10] + alpha0[38,10] + alpha0[39,10] + alpha0[40,10] + alpha0[41,10] + alpha0[42,10] + alpha0[43,10] + alpha0[44,10] + alpha0[45,10] + alpha0[46,10] + alpha0[47,10] + alpha0[48,10] + alpha0[49,10] + alpha0[50,10] + alpha0[51,10] + alpha0[52,10] + alpha0[53,10] + alpha0[54,10] + alpha0[55,10] + alpha0[56,10] + alpha0[57,10] + alpha0[58,10] + alpha0[59,10] + alpha0[60,10] + alpha0[61,10] + alpha0[62,10] + alpha0[63,10] + alpha0[64,10] + alpha0[65,10] + alpha0[66,10] + alpha0[67,10] + alpha0[68,10] + alpha0[69,10] + alpha0[70,10] + alpha0[71,10] + alpha0[72,10] + alpha0[73,10] + alpha0[74,10] + alpha0[75,10] + alpha0[76,10] + alpha0[77,10] + alpha0[78,10] + alpha0[79,10] + alpha0[80,10] + alpha0[81,10] + alpha0[82,10] + alpha0[83,10] + alpha0[84,10] + alpha0[85,10] + alpha0[86,10] + alpha0[87,10] + alpha0[88,10] + alpha0[89,10] + alpha0[90,10] + alpha0[91,10] + alpha0[92,10] + alpha0[93,10] + alpha0[94,10] + alpha0[95,10] + alpha0[96,10] + alpha0[97,10] + alpha0[98,10] + alpha0[99,10] + alpha0[100,10] + alpha0[101,10] + alpha0[102,10] + alpha0[103,10] + alpha0[104,10] + alpha0[105,10] + alpha0[106,10] + alpha0[107,10] + alpha0[108,10] + alpha0[109,10] + alpha0[110,10] + alpha0[111,10] + alpha0[112,10] + alpha0[113,10] + alpha0[114,10] + alpha0[115,10] + alpha0[116,10] + alpha0[117,10] + alpha0[118,10] + alpha0[119,10] + alpha0[120,10] + alpha0[1,11] + alpha0[2,11] + alpha0[3,11] + alpha0[4,11] + alpha0[5,11] + alpha0[6,11] + alpha0[7,11] + alpha0[8,11] + alpha0[9,11] + alpha0[10,11] + alpha0[11,11] + alpha0[12,11] + alpha0[13,11] + alpha0[14,11] + alpha0[15,11] + alpha0[16,11] + alpha0[17,11] + alpha0[18,11] + alpha0[19,11] + alpha0[20,11] + alpha0[21,11] + alpha0[22,11] + alpha0[23,11] + alpha0[24,11] + alpha0[25,11] + alpha0[26,11] + alpha0[27,11] + alpha0[28,11] + alpha0[29,11] + alpha0[30,11] + alpha0[31,11] + alpha0[32,11] + alpha0[33,11] + alpha0[34,11] + alpha0[35,11] + alpha0[36,11] + alpha0[37,11] + alpha0[38,11] + alpha0[39,11] + alpha0[40,11] + alpha0[41,11] + alpha0[42,11] + alpha0[43,11] + alpha0[44,11] + alpha0[45,11] + alpha0[46,11] + alpha0[47,11] + alpha0[48,11] + alpha0[49,11] + alpha0[50,11] + alpha0[51,11] + alpha0[52,11] + alpha0[53,11] + alpha0[54,11] + alpha0[55,11] + alpha0[56,11] + alpha0[57,11] + alpha0[58,11] + alpha0[59,11] + alpha0[60,11] + alpha0[61,11] + alpha0[62,11] + alpha0[63,11] + alpha0[64,11] + alpha0[65,11] + alpha0[66,11] + alpha0[67,11] + alpha0[68,11] + alpha0[69,11] + alpha0[70,11] + alpha0[71,11] + alpha0[72,11] + alpha0[73,11] + alpha0[74,11] + alpha0[75,11] + alpha0[76,11] + alpha0[77,11] + alpha0[78,11] + alpha0[79,11] + alpha0[80,11] + alpha0[81,11] + alpha0[82,11] + alpha0[83,11] + alpha0[84,11] + alpha0[85,11] + alpha0[86,11] + alpha0[87,11] + alpha0[88,11] + alpha0[89,11] + alpha0[90,11] + alpha0[91,11] + alpha0[92,11] + alpha0[93,11] + alpha0[94,11] + alpha0[95,11] + alpha0[96,11] + alpha0[97,11] + alpha0[98,11] + alpha0[99,11] + alpha0[100,11] + alpha0[101,11] + alpha0[102,11] + alpha0[103,11] + alpha0[104,11] + alpha0[105,11] + alpha0[106,11] + alpha0[107,11] + alpha0[108,11] + alpha0[109,11] + alpha0[110,11] + alpha0[111,11] + alpha0[112,11] + alpha0[113,11] + alpha0[114,11] + alpha0[115,11] + alpha0[116,11] + alpha0[117,11] + alpha0[118,11] + alpha0[119,11] + alpha0[120,11]"
      ]
     },
     "execution_count": 14,
     "metadata": {},
     "output_type": "execute_result"
    }
   ],
   "source": [
    "@objective(model, Min, sum(alpha0))"
   ]
  },
  {
   "cell_type": "code",
   "execution_count": 15,
   "metadata": {
    "scrolled": true
   },
   "outputs": [
    {
     "name": "stdout",
     "output_type": "stream",
     "text": [
      "Gurobi Optimizer version 9.1.0 build v9.1.0rc0 (mac64)\n",
      "Thread count: 4 physical cores, 8 logical processors, using up to 8 threads\n",
      "Optimize a model with 693480 rows, 495240 columns and 3219960 nonzeros\n",
      "Model fingerprint: 0xffff4ebd\n",
      "Coefficient statistics:\n",
      "  Matrix range     [1e-13, 2e+02]\n",
      "  Objective range  [1e+00, 1e+00]\n",
      "  Bounds range     [0e+00, 0e+00]\n",
      "  RHS range        [1e-07, 1e+01]\n",
      "Warning: Model contains large matrix coefficient range\n",
      "         Consider reformulating model or setting NumericFocus parameter\n",
      "         to avoid numerical issues.\n",
      "\n",
      "Concurrent LP optimizer: dual simplex and barrier\n",
      "Showing barrier log only...\n",
      "\n",
      "Presolve removed 634950 rows and 373431 columns\n",
      "Presolve time: 2.20s\n",
      "Presolved: 58530 rows, 121809 columns, 607218 nonzeros\n",
      "\n",
      "Ordering time: 0.15s\n",
      "\n",
      "Barrier statistics:\n",
      " Free vars  : 9552\n",
      " AA' NZ     : 3.471e+06\n",
      " Factor NZ  : 4.993e+06 (roughly 110 MBytes of memory)\n",
      " Factor Ops : 5.475e+08 (less than 1 second per iteration)\n",
      " Threads    : 3\n",
      "\n",
      "                  Objective                Residual\n",
      "Iter       Primal          Dual         Primal    Dual     Compl     Time\n",
      "   0   3.19416120e+04  5.49166298e+02  1.82e+03 0.00e+00  1.38e+02     3s\n",
      "   1   1.13140298e+04  1.67361629e+03  4.48e+02 2.22e-05  3.08e+01     3s\n",
      "   2   6.61682436e+03  2.11330709e+03  2.14e+02 9.66e-06  1.52e+01     3s\n",
      "   3   4.47426935e+03  2.56028559e+03  1.15e+02 4.31e-06  8.26e+00     3s\n",
      "   4   3.82983463e+03  3.17811764e+03  5.78e+01 3.78e-06  4.32e+00     3s\n",
      "   5   3.73579824e+03  3.78773225e+03  3.56e+01 2.99e-06  2.67e+00     3s\n",
      "   6   3.95440553e+03  4.12814343e+03  2.52e+01 2.59e-06  1.96e+00     4s\n",
      "\n",
      "Barrier performed 6 iterations in 3.62 seconds\n",
      "Barrier solve interrupted - model solved by another algorithm\n",
      "\n",
      "\n",
      "Solved with dual simplex\n",
      "Solved in 20092 iterations and 3.64 seconds\n",
      "Optimal objective  7.647956771e+03\n",
      "\n",
      "User-callback calls 453, time in user-callback 0.01 sec\n",
      "\n",
      "\n",
      "=========== exec_time = 4.606487884 seconds ===========\n",
      "\n"
     ]
    }
   ],
   "source": [
    "time_beginning=time_ns()\n",
    "\n",
    "optimize!(model)\n",
    "\n",
    "time_ending=time_ns()\n",
    "exec_time=(time_ending-time_beginning)/1e9\n",
    "print(\"\\n\\n=========== exec_time = $(exec_time) seconds ===========\\n\\n\")"
   ]
  },
  {
   "cell_type": "code",
   "execution_count": 16,
   "metadata": {},
   "outputs": [
    {
     "name": "stdout",
     "output_type": "stream",
     "text": [
      "termination_status = OPTIMAL\n",
      "primal_status = FEASIBLE_POINT\n",
      "dual_status = FEASIBLE_POINT\n",
      "\n",
      "opt_schedule=[2, 4, 7], opt_cost=42.562200000000004"
     ]
    }
   ],
   "source": [
    "print(\"termination_status = $(termination_status(model))\\n\")\n",
    "print(\"primal_status = $(primal_status(model))\\n\")\n",
    "print(\"dual_status = $(dual_status(model))\\n\")\n",
    "\n",
    "val_alpha0s=value.(alpha0)\n",
    "costs=sum(val_alpha0s,dims=2)\n",
    "\n",
    "opt_idx=argmin(costs)\n",
    "opt_cost=costs[opt_idx]\n",
    "opt_schedule=all_schedules[opt_idx]\n",
    "\n",
    "print(\"\\nopt_schedule=$(opt_schedule), opt_cost=$(opt_cost)\")\n"
   ]
  },
  {
   "cell_type": "code",
   "execution_count": null,
   "metadata": {},
   "outputs": [],
   "source": []
  },
  {
   "cell_type": "code",
   "execution_count": null,
   "metadata": {},
   "outputs": [],
   "source": []
  },
  {
   "cell_type": "code",
   "execution_count": null,
   "metadata": {},
   "outputs": [],
   "source": []
  },
  {
   "cell_type": "code",
   "execution_count": null,
   "metadata": {},
   "outputs": [],
   "source": []
  }
 ],
 "metadata": {
  "kernelspec": {
   "display_name": "Julia 1.5.2",
   "language": "julia",
   "name": "julia-1.5"
  },
  "language_info": {
   "file_extension": ".jl",
   "mimetype": "application/julia",
   "name": "julia",
   "version": "1.5.2"
  }
 },
 "nbformat": 4,
 "nbformat_minor": 2
}
