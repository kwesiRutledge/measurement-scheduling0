{
 "cells": [
  {
   "cell_type": "code",
   "execution_count": 3,
   "metadata": {},
   "outputs": [
    {
     "name": "stdout",
     "output_type": "stream",
     "text": [
      "coucou"
     ]
    }
   ],
   "source": [
    "print(\"coucou\")"
   ]
  },
  {
   "cell_type": "code",
   "execution_count": 4,
   "metadata": {},
   "outputs": [],
   "source": [
    "using Polyhedra\n",
    "using JuMP\n",
    "using LinearAlgebra\n",
    "using Gurobi #, Cbc, GLPK\n",
    "using Plots\n",
    "using JLD\n",
    "using Combinatorics"
   ]
  },
  {
   "cell_type": "code",
   "execution_count": 5,
   "metadata": {},
   "outputs": [
    {
     "name": "stdout",
     "output_type": "stream",
     "text": [
      "Done"
     ]
    }
   ],
   "source": [
    "include(\"../lib/linear_system_v3.jl\")\n",
    "print(\"Done\")"
   ]
  },
  {
   "cell_type": "code",
   "execution_count": 6,
   "metadata": {},
   "outputs": [
    {
     "name": "stdout",
     "output_type": "stream",
     "text": [
      "Done"
     ]
    }
   ],
   "source": [
    "include(\"../lib/fixed_height_planar_lipm.jl\")\n",
    "print(\"Done\")"
   ]
  },
  {
   "cell_type": "code",
   "execution_count": 7,
   "metadata": {},
   "outputs": [
    {
     "name": "stdout",
     "output_type": "stream",
     "text": [
      "Done"
     ]
    }
   ],
   "source": [
    "include(\"../lib/utils_MILP.jl\");\n",
    "print(\"Done\")"
   ]
  },
  {
   "cell_type": "code",
   "execution_count": 8,
   "metadata": {},
   "outputs": [
    {
     "data": {
      "text/plain": [
       "22:2:30"
      ]
     },
     "execution_count": 8,
     "metadata": {},
     "output_type": "execute_result"
    }
   ],
   "source": [
    "# data of the problem\n",
    "enforceRegular=false\n",
    "minimizeScaling=false #enforceRegular\n",
    "\n",
    "tested_T=22:2:30"
   ]
  },
  {
   "cell_type": "code",
   "execution_count": 9,
   "metadata": {},
   "outputs": [
    {
     "name": "stdout",
     "output_type": "stream",
     "text": [
      "\n",
      "====== T=22 ======\n",
      "\n",
      "Estimated error in calculating first entry of discretized B: 6.938893903907228e-18\n",
      "Estimated error in calculating second entry of discretized B: 0.0\n",
      "\n",
      "==== Instantiation time = 60.026531992 seconds ====\n",
      "Academic license - for non-commercial use only\n",
      "Gurobi Optimizer version 9.0.3 build v9.0.3rc0 (mac64)\n",
      "Optimize a model with 41236 rows, 25514 columns and 1153396 nonzeros\n",
      "Model fingerprint: 0xa80d2cbb\n",
      "Variable types: 25470 continuous, 44 integer (44 binary)\n",
      "Coefficient statistics:\n",
      "  Matrix range     [3e-03, 1e+06]\n",
      "  Objective range  [0e+00, 0e+00]\n",
      "  Bounds range     [0e+00, 0e+00]\n",
      "  RHS range        [1e-01, 7e+02]\n",
      "Presolve removed 33006 rows and 12886 columns\n",
      "Presolve time: 0.89s\n",
      "Presolved: 8230 rows, 12628 columns, 248862 nonzeros\n",
      "Variable types: 12584 continuous, 44 integer (44 binary)\n",
      "\n",
      "Root relaxation: objective 0.000000e+00, 5809 iterations, 3.13 seconds\n",
      "Total elapsed time = 15.09s\n",
      "Total elapsed time = 36.96s\n",
      "\n",
      "    Nodes    |    Current Node    |     Objective Bounds      |     Work\n",
      " Expl Unexpl |  Obj  Depth IntInf | Incumbent    BestBd   Gap | It/Node Time\n",
      "\n",
      "     0     0    0.00000    0    9          -    0.00000      -     -   38s\n",
      "     0     0    0.00000    0    9          -    0.00000      -     -   39s\n",
      "     0     2    0.00000    0    9          -    0.00000      -     -   44s\n",
      "     1     4    0.00000    1   13          -    0.00000      -  1755   46s\n",
      "    13    21    0.00000    7    2          -    0.00000      -   478   78s\n",
      "    22    31    0.00000   10    3          -    0.00000      -  2424   87s\n",
      "H   31    31                       0.0000000    0.00000  0.00%  1927   87s\n",
      "\n",
      "Explored 38 nodes (116162 simplex iterations) in 87.64 seconds\n",
      "Thread count was 4 (of 4 available processors)\n",
      "\n",
      "Solution count 1: 0 \n",
      "\n",
      "Optimal solution found (tolerance 1.00e-04)\n",
      "Best objective 0.000000000000e+00, best bound 0.000000000000e+00, gap 0.0000%\n",
      "\n",
      "User-callback calls 34885, time in user-callback 0.04 sec\n",
      "\n",
      "\n",
      "==== Optimization time = 98.710842218 seconds ====\n",
      "\n",
      "\n",
      "====== T=24 ======\n",
      "\n",
      "Estimated error in calculating first entry of discretized B: 6.938893903907228e-18\n",
      "Estimated error in calculating second entry of discretized B: 0.0\n",
      "\n",
      "==== Instantiation time = 1.402219308 seconds ====\n",
      "Academic license - for non-commercial use only\n",
      "Gurobi Optimizer version 9.0.3 build v9.0.3rc0 (mac64)\n",
      "Optimize a model with 48870 rows, 30232 columns and 1598038 nonzeros\n",
      "Model fingerprint: 0x6e5b9311\n",
      "Variable types: 30184 continuous, 48 integer (48 binary)\n",
      "Coefficient statistics:\n",
      "  Matrix range     [3e-03, 1e+06]\n",
      "  Objective range  [0e+00, 0e+00]\n",
      "  Bounds range     [0e+00, 0e+00]\n",
      "  RHS range        [1e-01, 1e+03]\n",
      "Presolve removed 39124 rows and 15256 columns\n",
      "Presolve time: 1.29s\n",
      "Presolved: 9746 rows, 14976 columns, 337502 nonzeros\n",
      "Variable types: 14928 continuous, 48 integer (48 binary)\n",
      "\n",
      "Root simplex log...\n",
      "\n",
      "Iteration    Objective       Primal Inf.    Dual Inf.      Time\n",
      "    5005    5.7635243e-02   6.624094e+02   0.000000e+00      5s\n",
      "    7182    0.0000000e+00   0.000000e+00   0.000000e+00      7s\n",
      "\n",
      "Root relaxation: objective 0.000000e+00, 7182 iterations, 4.99 seconds\n",
      "Total elapsed time = 21.54s\n",
      "Total elapsed time = 39.73s\n",
      "Total elapsed time = 46.06s\n",
      "\n",
      "    Nodes    |    Current Node    |     Objective Bounds      |     Work\n",
      " Expl Unexpl |  Obj  Depth IntInf | Incumbent    BestBd   Gap | It/Node Time\n",
      "\n",
      "     0     0    0.00000    0    8          -    0.00000      -     -   51s\n",
      "     0     0    0.00000    0    8          -    0.00000      -     -   52s\n",
      "     0     2    0.00000    0    8          -    0.00000      -     -   59s\n",
      "     1     4    0.00000    1   14          -    0.00000      -  1188   60s\n",
      "    11    15    0.00000    6   27          -    0.00000      -  2572   77s\n",
      "    14    26    0.00000    6   11          -    0.00000      -  2308  122s\n",
      "    29    36    0.00000   13   11          -    0.00000      -  4524  174s\n",
      "    53    58    0.00000   11    8          -    0.00000      -  3835  267s\n",
      "   107    71    0.00000   14    7          -    0.00000      -  2870  393s\n",
      "H  178    71                       0.0000000    0.00000  0.00%  2198  393s\n",
      "\n",
      "Explored 234 nodes (504230 simplex iterations) in 393.39 seconds\n",
      "Thread count was 4 (of 4 available processors)\n",
      "\n",
      "Solution count 1: 0 \n",
      "\n",
      "Optimal solution found (tolerance 1.00e-04)\n",
      "Best objective 0.000000000000e+00, best bound 0.000000000000e+00, gap 0.0000%\n",
      "\n",
      "User-callback calls 28110, time in user-callback 0.04 sec\n",
      "\n",
      "\n",
      "==== Optimization time = 393.665445925 seconds ====\n",
      "\n",
      "\n",
      "====== T=26 ======\n",
      "\n",
      "Estimated error in calculating first entry of discretized B: 6.938893903907228e-18\n",
      "Estimated error in calculating second entry of discretized B: 0.0\n",
      "\n",
      "==== Instantiation time = 2.494974213 seconds ====\n",
      "Academic license - for non-commercial use only\n",
      "Gurobi Optimizer version 9.0.3 build v9.0.3rc0 (mac64)\n",
      "Optimize a model with 57152 rows, 35350 columns and 2161712 nonzeros\n",
      "Model fingerprint: 0x73a600ae\n",
      "Variable types: 35298 continuous, 52 integer (52 binary)\n",
      "Coefficient statistics:\n",
      "  Matrix range     [3e-03, 1e+06]\n",
      "  Objective range  [0e+00, 0e+00]\n",
      "  Bounds range     [0e+00, 0e+00]\n",
      "  RHS range        [1e-01, 2e+03]\n",
      "Presolve removed 45762 rows and 17826 columns\n",
      "Presolve time: 1.70s\n",
      "Presolved: 11390 rows, 17524 columns, 448238 nonzeros\n",
      "Variable types: 17472 continuous, 52 integer (52 binary)\n",
      "\n",
      "Deterministic concurrent LP optimizer: primal and dual simplex\n",
      "Showing first log only...\n",
      "\n",
      "\n",
      "Root simplex log...\n",
      "\n",
      "Iteration    Objective       Primal Inf.    Dual Inf.      Time\n",
      "   60496    0.0000000e+00   2.104592e+05   3.274282e+09      5s\n",
      "  195259    9.8122119e-02   3.299533e+03   0.000000e+00     10s\n",
      "Concurrent spin time: 0.64s\n",
      "\n",
      "Solved with dual simplex\n",
      "\n",
      "Root relaxation: objective 0.000000e+00, 8067 iterations, 9.83 seconds\n",
      "Total elapsed time = 38.94s\n",
      "Total elapsed time = 58.99s\n",
      "\n",
      "    Nodes    |    Current Node    |     Objective Bounds      |     Work\n",
      " Expl Unexpl |  Obj  Depth IntInf | Incumbent    BestBd   Gap | It/Node Time\n",
      "\n",
      "     0     0    0.00000    0   10          -    0.00000      -     -   67s\n",
      "     0     0    0.00000    0    6          -    0.00000      -     -   77s\n",
      "     0     2    0.00000    0    6          -    0.00000      -     -   89s\n",
      "     1     4    0.00000    1    6          -    0.00000      -   118   90s\n",
      "    11    14    0.00000    6    5          -    0.00000      -   383  126s\n",
      "    23    27    0.00000   14    5          -    0.00000      -  1859  218s\n",
      "    30    32    0.00000   14   11          -    0.00000      -  6124  234s\n",
      "    37    43 infeasible   15               -    0.00000      -  5629  267s\n",
      "    52    40 infeasible   29               -    0.00000      -  4334  350s\n",
      "*   55    40              20       0.0000000    0.00000  0.00%  4102  350s\n",
      "\n",
      "Explored 73 nodes (377475 simplex iterations) in 350.97 seconds\n",
      "Thread count was 4 (of 4 available processors)\n",
      "\n",
      "Solution count 1: 0 \n",
      "\n",
      "Optimal solution found (tolerance 1.00e-04)\n",
      "Best objective 0.000000000000e+00, best bound 0.000000000000e+00, gap 0.0000%\n",
      "\n",
      "User-callback calls 47841, time in user-callback 0.06 sec\n",
      "\n",
      "\n",
      "==== Optimization time = 351.247031344 seconds ====\n",
      "\n",
      "\n",
      "====== T=28 ======\n",
      "\n",
      "Estimated error in calculating first entry of discretized B: 6.938893903907228e-18\n",
      "Estimated error in calculating second entry of discretized B: 0.0\n",
      "\n",
      "==== Instantiation time = 2.839054634 seconds ====\n",
      "Academic license - for non-commercial use only\n",
      "Gurobi Optimizer version 9.0.3 build v9.0.3rc0 (mac64)\n",
      "Optimize a model with 66082 rows, 40868 columns and 2864194 nonzeros\n",
      "Model fingerprint: 0xb767b6ce\n",
      "Variable types: 40812 continuous, 56 integer (56 binary)\n",
      "Coefficient statistics:\n",
      "  Matrix range     [3e-03, 4e+06]\n",
      "  Objective range  [0e+00, 0e+00]\n",
      "  Bounds range     [0e+00, 0e+00]\n",
      "  RHS range        [1e-01, 4e+03]\n",
      "Presolve removed 52920 rows and 20596 columns\n",
      "Presolve time: 2.52s\n",
      "Presolved: 13162 rows, 20272 columns, 584526 nonzeros\n",
      "Variable types: 20216 continuous, 56 integer (56 binary)\n",
      "\n",
      "Deterministic concurrent LP optimizer: primal and dual simplex\n",
      "Showing first log only...\n",
      "\n",
      "\n",
      "Root simplex log...\n",
      "\n",
      "Iteration    Objective       Primal Inf.    Dual Inf.      Time\n",
      "  207549    1.1819239e-01   5.258525e+06   0.000000e+00      5s\n",
      "  211029    1.7956355e-01   1.519313e+03   0.000000e+00     10s\n",
      "  214619    1.7988018e-01   4.147239e-04   0.000000e+00     15s\n",
      "  214743    0.0000000e+00   0.000000e+00   0.000000e+00     15s\n",
      "  214743    0.0000000e+00   0.000000e+00   0.000000e+00     15s\n",
      "Concurrent spin time: 0.00s\n",
      "\n",
      "Solved with primal simplex\n",
      "\n",
      "Root relaxation: objective 0.000000e+00, 214743 iterations, 12.38 seconds\n",
      "\n",
      "    Nodes    |    Current Node    |     Objective Bounds      |     Work\n",
      " Expl Unexpl |  Obj  Depth IntInf | Incumbent    BestBd   Gap | It/Node Time\n",
      "\n",
      "     0     0    0.00000    0   33          -    0.00000      -     -   58s\n",
      "     0     0    0.00000    0   33          -    0.00000      -     -  101s\n",
      "     0     2    0.00000    0    9          -    0.00000      -     -  249s\n",
      "     1     4    0.00000    1   13          -    0.00000      - 65167  252s\n",
      "     7    10    0.00000    4   14          -    0.00000      -  9975  255s\n",
      "     9    12    0.00000    5   10          -    0.00000      -  7817  261s\n",
      "    11    14    0.00000    6   32          -    0.00000      -  9794  300s\n",
      "    23    27    0.00000   10   15          -    0.00000      -  5062  377s\n",
      "    30    35    0.00000   14   15          -    0.00000      -  5696  428s\n",
      "    50    40 infeasible   19               -    0.00000      -  3813  574s\n",
      "    65    50    0.00000   26    9          -    0.00000      -  4378  689s\n",
      "    95    54    0.00000   15    9          -    0.00000      -  4167  889s\n",
      "   113    52    0.00000   17   10          -    0.00000      -  5006 1118s\n",
      "   127    53 infeasible   16               -    0.00000      -  5717 1475s\n",
      "   152    53    0.00000   16   14          -    0.00000      -  6297 1742s\n",
      "   172    92    0.00000   11    4          -    0.00000      -  7178 2036s\n",
      "H  248    92                       0.0000000    0.00000  0.00%  5595 2036s\n",
      "\n",
      "Explored 267 nodes (1681403 simplex iterations) in 2036.82 seconds\n",
      "Thread count was 4 (of 4 available processors)\n",
      "\n",
      "Solution count 1: 0 \n",
      "\n",
      "Optimal solution found (tolerance 1.00e-04)\n",
      "Best objective 0.000000000000e+00, best bound 0.000000000000e+00, gap 0.0000%\n",
      "\n",
      "User-callback calls 175607, time in user-callback 0.22 sec\n",
      "\n",
      "\n",
      "==== Optimization time = 2037.170254811 seconds ====\n",
      "\n"
     ]
    },
    {
     "name": "stdout",
     "output_type": "stream",
     "text": [
      "\n",
      "====== T=30 ======\n",
      "\n",
      "Estimated error in calculating first entry of discretized B: 6.938893903907228e-18\n",
      "Estimated error in calculating second entry of discretized B: 0.0\n",
      "\n",
      "==== Instantiation time = 3.772666991 seconds ====\n",
      "Academic license - for non-commercial use only\n",
      "Gurobi Optimizer version 9.0.3 build v9.0.3rc0 (mac64)\n",
      "Optimize a model with 75660 rows, 46786 columns and 3726796 nonzeros\n",
      "Model fingerprint: 0x76723447\n",
      "Variable types: 46726 continuous, 60 integer (60 binary)\n",
      "Coefficient statistics:\n",
      "  Matrix range     [3e-03, 1e+07]\n",
      "  Objective range  [0e+00, 0e+00]\n",
      "  Bounds range     [0e+00, 0e+00]\n",
      "  RHS range        [1e-01, 8e+03]\n",
      "Presolve removed 60598 rows and 23566 columns\n",
      "Presolve time: 3.39s\n",
      "Presolved: 15062 rows, 23220 columns, 750078 nonzeros\n",
      "Variable types: 23160 continuous, 60 integer (60 binary)\n",
      "\n",
      "Deterministic concurrent LP optimizer: primal and dual simplex\n",
      "Showing first log only...\n",
      "\n",
      "\n",
      "Root simplex log...\n",
      "\n",
      "Iteration    Objective       Primal Inf.    Dual Inf.      Time\n",
      "   27486    0.0000000e+00   9.412611e+04   7.644930e+09      5s\n",
      "   38125    0.0000000e+00   2.781977e+04   8.610219e+08     10s\n",
      "   47134    0.0000000e+00   1.189978e+04   9.207274e+11     15s\n",
      "Concurrent spin time: 0.20s\n",
      "\n",
      "Solved with dual simplex\n",
      "\n",
      "Root relaxation: objective 0.000000e+00, 9879 iterations, 13.32 seconds\n",
      "\n",
      "    Nodes    |    Current Node    |     Objective Bounds      |     Work\n",
      " Expl Unexpl |  Obj  Depth IntInf | Incumbent    BestBd   Gap | It/Node Time\n",
      "\n",
      "     0     0    0.00000    0   34          -    0.00000      -     -   59s\n",
      "     0     0    0.00000    0   34          -    0.00000      -     -  116s\n",
      "     0     2    0.00000    0   34          -    0.00000      -     -  253s\n",
      "     3     6    0.00000    2   24          -    0.00000      -  8634  265s\n",
      "     5     8    0.00000    3   21          -    0.00000      -  7346  272s\n",
      "     7    10    0.00000    4   22          -    0.00000      -  5916  278s\n",
      "     9    12    0.00000    5   16          -    0.00000      -  5007  281s\n",
      "    11    14    0.00000    6   34          -    0.00000      -  9474  392s\n",
      "    13    17    0.00000    7   32          -    0.00000      - 13715  417s\n",
      "    16    26    0.00000    9   21          -    0.00000      - 12490  441s\n",
      "    25    34    0.00000   12   10          -    0.00000      -  8625  685s\n",
      "    41    35    0.00000   19   13          -    0.00000      -  8924  961s\n",
      "    58    39    0.00000   15   10          -    0.00000      -  9512 1386s\n",
      "    82    50    0.00000   19    6          -    0.00000      -  9337 1837s\n",
      "   113   101    0.00000   21   10          -    0.00000      -  8761 2494s\n",
      "   228   109 infeasible   36               -    0.00000      -  6455 3283s\n",
      "*  238   109              38       0.0000000    0.00000  0.00%  6728 3283s\n",
      "\n",
      "Explored 318 nodes (2166497 simplex iterations) in 3283.99 seconds\n",
      "Thread count was 4 (of 4 available processors)\n",
      "\n",
      "Solution count 1: 0 \n",
      "\n",
      "Optimal solution found (tolerance 1.00e-04)\n",
      "Warning: max constraint violation (3.0221e-06) exceeds tolerance\n",
      "Best objective 0.000000000000e+00, best bound 0.000000000000e+00, gap 0.0000%\n",
      "\n",
      "User-callback calls 302783, time in user-callback 0.38 sec\n",
      "\n",
      "\n",
      "==== Optimization time = 3284.713340124 seconds ====\n",
      "\n"
     ]
    }
   ],
   "source": [
    "len=length(tested_T)\n",
    "\n",
    "instantiation_times=zeros(len)\n",
    "optimization_times=zeros(len)\n",
    "feasibilities=zeros(len)\n",
    "numberSchedulings=zeros(len)\n",
    "\n",
    "\n",
    "for i=1:len\n",
    "    # data of the problem\n",
    "    T=tested_T[i]\n",
    "    N_m=round(Int8,T/2)\n",
    "    N_c=N_m\n",
    "    \n",
    "    println(\"\\n====== T=$T ======\\n\")\n",
    "    \n",
    "    # Instantiation (including loading the problem)\n",
    "    time_beginning=time_ns()\n",
    "    \n",
    "    system, _ = get_lipm(T)\n",
    "    model,C_bar,S_bar, P_z_all,z_tilde, P_u_all, u_tilde, polEta=instantiateASAP(system,N_m,N_c,T; minimizeScaling=minimizeScaling,enforceRegular=enforceRegular);\n",
    "    \n",
    "    time_ending=time_ns()\n",
    "    instantiation_time=(time_ending-time_beginning)/1e9\n",
    "    print(\"\\n==== Instantiation time = $(instantiation_time) seconds ====\\n\")\n",
    "    instantiation_times[i]=instantiation_time\n",
    "    \n",
    "    # Set an optimozer and solve the problem\n",
    "    set_optimizer(model, Gurobi.Optimizer)\n",
    "    \n",
    "    # Solving the problem\n",
    "    time_beginning=time_ns()\n",
    "    \n",
    "    optimize!(model)\n",
    "    \n",
    "    time_ending=time_ns()\n",
    "    optimization_time=(time_ending-time_beginning)/1e9\n",
    "    print(\"\\n\\n==== Optimization time = $(optimization_time) seconds ====\\n\\n\")\n",
    "    optimization_times[i]=optimization_time\n",
    "    \n",
    "    feasibilities[i] = (termination_status(model) == MOI.TerminationStatusCode(1)) # 1 if feasible\n",
    "    \n",
    "    numberSchedulings[i]=length(combinations(0:T-1,N_m))*length(combinations(0:T-1,N_c))\n",
    "end"
   ]
  },
  {
   "cell_type": "code",
   "execution_count": 10,
   "metadata": {},
   "outputs": [],
   "source": [
    "# save results\n",
    "io = open(\"results/horizonScalingAnalysis.txt\", \"w\") do io\n",
    "    println(io,\"T, instantiation_time [sec], optimization_times [sec], numberSchedulings, feasibility\")\n",
    "    for i=1:len\n",
    "        print(io, tested_T[i])\n",
    "        print(io,\", \")\n",
    "        print(io, instantiation_times[i])\n",
    "        print(io,\", \")\n",
    "        print(io, optimization_times[i])\n",
    "        print(io,\", \")\n",
    "        print(io, numberSchedulings[i])\n",
    "        print(io,\", \")\n",
    "        print(io, feasibilities[i])\n",
    "        println(io)\n",
    "    end\n",
    "end"
   ]
  },
  {
   "cell_type": "code",
   "execution_count": 11,
   "metadata": {},
   "outputs": [
    {
     "data": {
      "text/plain": [
       "5-element Array{Float64,1}:\n",
       " 60.026531992\n",
       "  1.402219308\n",
       "  2.494974213\n",
       "  2.839054634\n",
       "  3.772666991"
      ]
     },
     "execution_count": 11,
     "metadata": {},
     "output_type": "execute_result"
    }
   ],
   "source": [
    "instantiation_times"
   ]
  },
  {
   "cell_type": "code",
   "execution_count": 12,
   "metadata": {},
   "outputs": [
    {
     "data": {
      "text/plain": [
       "5-element Array{Float64,1}:\n",
       "   98.710842218\n",
       "  393.665445925\n",
       "  351.247031344\n",
       " 2037.170254811\n",
       " 3284.713340124"
      ]
     },
     "execution_count": 12,
     "metadata": {},
     "output_type": "execute_result"
    }
   ],
   "source": [
    "optimization_times"
   ]
  },
  {
   "cell_type": "code",
   "execution_count": 13,
   "metadata": {},
   "outputs": [
    {
     "data": {
      "text/plain": [
       "5-element Array{Float64,1}:\n",
       " 4.97634306624e11\n",
       " 7.312459672336e12\n",
       " 1.0817248036e14\n",
       " 1.60934159556e15\n",
       " 2.40614450109504e16"
      ]
     },
     "execution_count": 13,
     "metadata": {},
     "output_type": "execute_result"
    }
   ],
   "source": [
    "numberSchedulings"
   ]
  },
  {
   "cell_type": "code",
   "execution_count": 14,
   "metadata": {},
   "outputs": [
    {
     "data": {
      "text/plain": [
       "5-element Array{Float64,1}:\n",
       " 1.0\n",
       " 1.0\n",
       " 1.0\n",
       " 1.0\n",
       " 1.0"
      ]
     },
     "execution_count": 14,
     "metadata": {},
     "output_type": "execute_result"
    }
   ],
   "source": [
    "feasibilities"
   ]
  },
  {
   "cell_type": "code",
   "execution_count": null,
   "metadata": {},
   "outputs": [],
   "source": []
  },
  {
   "cell_type": "code",
   "execution_count": null,
   "metadata": {},
   "outputs": [],
   "source": []
  },
  {
   "cell_type": "code",
   "execution_count": null,
   "metadata": {},
   "outputs": [],
   "source": []
  },
  {
   "cell_type": "code",
   "execution_count": null,
   "metadata": {},
   "outputs": [],
   "source": []
  }
 ],
 "metadata": {
  "kernelspec": {
   "display_name": "Julia 1.4.2",
   "language": "julia",
   "name": "julia-1.4"
  },
  "language_info": {
   "file_extension": ".jl",
   "mimetype": "application/julia",
   "name": "julia",
   "version": "1.4.2"
  }
 },
 "nbformat": 4,
 "nbformat_minor": 2
}
