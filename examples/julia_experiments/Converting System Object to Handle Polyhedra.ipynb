{
 "cells": [
  {
   "cell_type": "markdown",
   "metadata": {},
   "source": [
    "# Converting System to Handle Polyhedra"
   ]
  },
  {
   "cell_type": "code",
   "execution_count": 1,
   "metadata": {},
   "outputs": [],
   "source": [
    "using Test\n",
    "using JuMP\n",
    "using Gurobi\n",
    "using LinearAlgebra\n",
    "using Polyhedra"
   ]
  },
  {
   "cell_type": "code",
   "execution_count": 62,
   "metadata": {},
   "outputs": [
    {
     "name": "stdout",
     "output_type": "stream",
     "text": [
      "\u001b[37m\u001b[1mTest Summary:                | \u001b[22m\u001b[39m\u001b[32m\u001b[1mPass  \u001b[22m\u001b[39m\u001b[36m\u001b[1mTotal\u001b[22m\u001b[39m\n",
      "compute_Sx0() Function Tests | \u001b[32m   1  \u001b[39m\u001b[36m    1\u001b[39m\n",
      "\u001b[37m\u001b[1mTest Summary:               | \u001b[22m\u001b[39m\u001b[32m\u001b[1mPass  \u001b[22m\u001b[39m\u001b[36m\u001b[1mTotal\u001b[22m\u001b[39m\n",
      "compute_Sw() Function Tests | \u001b[32m   4  \u001b[39m\u001b[36m    4\u001b[39m\n",
      "\u001b[37m\u001b[1mTest Summary:                | \u001b[22m\u001b[39m\u001b[32m\u001b[1mPass  \u001b[22m\u001b[39m\u001b[36m\u001b[1mTotal\u001b[22m\u001b[39m\n",
      "compute_C_M() Function Tests | \u001b[32m   1  \u001b[39m\u001b[36m    1\u001b[39m\n",
      "\u001b[37m\u001b[1mTest Summary:             | \u001b[22m\u001b[39m\u001b[32m\u001b[1mPass  \u001b[22m\u001b[39m\u001b[36m\u001b[1mTotal\u001b[22m\u001b[39m\n",
      "LinearSystem Class Struct | \u001b[32m   1  \u001b[39m\u001b[36m    1\u001b[39m\n",
      "\u001b[37m\u001b[1mTest Summary: | \u001b[22m\u001b[39m\u001b[32m\u001b[1mPass  \u001b[22m\u001b[39m\u001b[36m\u001b[1mTotal\u001b[22m\u001b[39m\n",
      "check() tests | \u001b[32m   3  \u001b[39m\u001b[36m    3\u001b[39m\n",
      "\u001b[37m\u001b[1mTest Summary: | \u001b[22m\u001b[39m\u001b[32m\u001b[1mPass  \u001b[22m\u001b[39m\u001b[36m\u001b[1mTotal\u001b[22m\u001b[39m\n",
      "x_dim() Tests | \u001b[32m   3  \u001b[39m\u001b[36m    3\u001b[39m\n",
      "\u001b[37m\u001b[1mTest Summary: | \u001b[22m\u001b[39m\u001b[32m\u001b[1mPass  \u001b[22m\u001b[39m\u001b[36m\u001b[1mTotal\u001b[22m\u001b[39m\n",
      "y_dim() Tests | \u001b[32m   4  \u001b[39m\u001b[36m    4\u001b[39m\n",
      "\u001b[37m\u001b[1mTest Summary:                       | \u001b[22m\u001b[39m\u001b[32m\u001b[1mPass  \u001b[22m\u001b[39m\u001b[36m\u001b[1mTotal\u001b[22m\u001b[39m\n",
      "define_simple_eta_HPolytope() Tests | \u001b[32m   2  \u001b[39m\u001b[36m    2\u001b[39m\n",
      "Academic license - for non-commercial use only - expires 2021-03-07\n",
      "\u001b[37m\u001b[1mTest Summary:                               | \u001b[22m\u001b[39m\u001b[32m\u001b[1mPass  \u001b[22m\u001b[39m\u001b[36m\u001b[1mTotal\u001b[22m\u001b[39m\n",
      "find_est_error_bound_from_time_0_to_T Tests | \u001b[32m   1  \u001b[39m\u001b[36m    1\u001b[39m\n",
      "\u001b[37m\u001b[1mTest Summary:               |\u001b[22m\u001b[39m\n",
      "evaluate_schedule_wrt Tests | \u001b[36mNo tests\u001b[39m\n",
      "\u001b[37mnorm_of_est_error_after Tests: \u001b[39m\u001b[91m\u001b[1mError During Test\u001b[22m\u001b[39m at \u001b[39m\u001b[1m/Users/kwesirutledge/Documents/Michigan/Research/measurement-scheduling0/tests/alap_estimation_schedule_test.jl:1\u001b[22m\n",
      "  Got exception outside of a @test\n",
      "  ArgumentError: The input LinearSystem is not valid. Please check its dimensions.\n",
      "  Stacktrace:\n",
      "   [1] norm_of_est_error_after(::Int64, ::LinearSystem, ::Float64) at /Users/kwesirutledge/Documents/Michigan/Research/measurement-scheduling0/lib/alap_estimation_schedule.jl:21\n",
      "   [2] top-level scope at /Users/kwesirutledge/Documents/Michigan/Research/measurement-scheduling0/tests/alap_estimation_schedule_test.jl:23\n",
      "   [3] top-level scope at /Users/julia/buildbot/worker/package_macos64/build/usr/share/julia/stdlib/v1.5/Test/src/Test.jl:1115\n",
      "   [4] top-level scope at /Users/kwesirutledge/Documents/Michigan/Research/measurement-scheduling0/tests/alap_estimation_schedule_test.jl:3\n",
      "   [5] include(::String) at ./client.jl:457\n",
      "   [6] top-level scope at In[62]:4\n",
      "   [7] include_string(::Function, ::Module, ::String, ::String) at ./loading.jl:1091\n",
      "   [8] execute_code(::String, ::String) at /Users/kwesirutledge/.julia/packages/IJulia/a1SNk/src/execute_request.jl:27\n",
      "   [9] execute_request(::ZMQ.Socket, ::IJulia.Msg) at /Users/kwesirutledge/.julia/packages/IJulia/a1SNk/src/execute_request.jl:86\n",
      "   [10] #invokelatest#1 at ./essentials.jl:710 [inlined]\n",
      "   [11] invokelatest at ./essentials.jl:709 [inlined]\n",
      "   [12] eventloop(::ZMQ.Socket) at /Users/kwesirutledge/.julia/packages/IJulia/a1SNk/src/eventloop.jl:8\n",
      "   [13] (::IJulia.var\"#15#18\")() at ./task.jl:356\n",
      "  \n",
      "\u001b[37m\u001b[1mTest Summary:                 | \u001b[22m\u001b[39m\u001b[32m\u001b[1mPass  \u001b[22m\u001b[39m\u001b[91m\u001b[1mError  \u001b[22m\u001b[39m\u001b[36m\u001b[1mTotal\u001b[22m\u001b[39m\n",
      "norm_of_est_error_after Tests | \u001b[32m   1  \u001b[39m\u001b[91m    1  \u001b[39m\u001b[36m    2\u001b[39m\n"
     ]
    },
    {
     "ename": "LoadError",
     "evalue": "LoadError: Some tests did not pass: 1 passed, 0 failed, 1 errored, 0 broken.\nin expression starting at /Users/kwesirutledge/Documents/Michigan/Research/measurement-scheduling0/tests/alap_estimation_schedule_test.jl:1",
     "output_type": "error",
     "traceback": [
      "LoadError: Some tests did not pass: 1 passed, 0 failed, 1 errored, 0 broken.\nin expression starting at /Users/kwesirutledge/Documents/Michigan/Research/measurement-scheduling0/tests/alap_estimation_schedule_test.jl:1",
      "",
      "Stacktrace:",
      " [1] finish(::Test.DefaultTestSet) at /Users/julia/buildbot/worker/package_macos64/build/usr/share/julia/stdlib/v1.5/Test/src/Test.jl:879",
      " [2] top-level scope at /Users/julia/buildbot/worker/package_macos64/build/usr/share/julia/stdlib/v1.5/Test/src/Test.jl:1125",
      " [3] top-level scope at /Users/kwesirutledge/Documents/Michigan/Research/measurement-scheduling0/tests/alap_estimation_schedule_test.jl:3",
      " [4] include(::String) at ./client.jl:457",
      " [5] top-level scope at In[62]:4",
      " [6] include_string(::Function, ::Module, ::String, ::String) at ./loading.jl:1091",
      " [7] execute_code(::String, ::String) at /Users/kwesirutledge/.julia/packages/IJulia/a1SNk/src/execute_request.jl:27",
      " [8] execute_request(::ZMQ.Socket, ::IJulia.Msg) at /Users/kwesirutledge/.julia/packages/IJulia/a1SNk/src/execute_request.jl:86",
      " [9] #invokelatest#1 at ./essentials.jl:710 [inlined]",
      " [10] invokelatest at ./essentials.jl:709 [inlined]",
      " [11] eventloop(::ZMQ.Socket) at /Users/kwesirutledge/.julia/packages/IJulia/a1SNk/src/eventloop.jl:8",
      " [12] (::IJulia.var\"#15#18\")() at ./task.jl:356"
     ]
    }
   ],
   "source": [
    "include(\"../../lib/measurement-scheduling0.jl\")\n",
    "include(\"../../tests/mpc_functions_tests.jl\")\n",
    "include(\"../../tests/linear_system_test.jl\")\n",
    "include(\"../../tests/alap_estimation_schedule_test.jl\")"
   ]
  },
  {
   "cell_type": "code",
   "execution_count": 63,
   "metadata": {},
   "outputs": [
    {
     "name": "stdout",
     "output_type": "stream",
     "text": [
      "Estimated error in calculating first entry of discretized B: 0.0\n",
      "Estimated error in calculating second entry of discretized B: 0.0\n",
      "Continuous System\n",
      "LinearSystem([0.0 1.0; 10.0 0.0], [0.0, 0.5], [1.0 0.0; 0.0 1.0], HalfSpace([1.0, 0.0], 0.0) ∩ HalfSpace([0.0, 1.0], 0.01) ∩ HalfSpace([-1.0, 0.0], 0.0) ∩ HalfSpace([0.0, -1.0], 0.01), HalfSpace([1.0, 0.0], 0.1) ∩ HalfSpace([0.0, 1.0], 0.1) ∩ HalfSpace([-1.0, 0.0], 0.1) ∩ HalfSpace([0.0, -1.0], 0.1))\n",
      "Discretized System\n",
      "LinearSystem([1.050418058038472 0.10167501986885222; 1.0167501986885221 1.050418058038472], [0.0025209029019236055; 0.05083750993442612], [1.0 0.0; 0.0 1.0], HalfSpace([1.0, 0.0], 0.0) ∩ HalfSpace([0.0, 1.0], 0.01) ∩ HalfSpace([-1.0, 0.0], 0.0) ∩ HalfSpace([0.0, -1.0], 0.01), HalfSpace([1.0, 0.0], 0.1) ∩ HalfSpace([0.0, 1.0], 0.1) ∩ HalfSpace([-1.0, 0.0], 0.1) ∩ HalfSpace([0.0, -1.0], 0.1))\n",
      " \n",
      "Coucou\n",
      "Starting Drone work.\n",
      "[0.0 0.0 1.0 0.0; 0.0 0.0 0.0 1.0]\n"
     ]
    },
    {
     "data": {
      "text/plain": [
       "LinearSystem([1.0 0.0 0.1 0.0; 0.0 1.0 0.0 0.1; 0.0 0.0 1.0 0.0; 0.0 0.0 0.0 1.0], [0.0 0.0; 0.0 0.0; 0.1 0.0; 0.0 0.1], [0.0 0.0 1.0 0.0; 0.0 0.0 0.0 1.0], HalfSpace([1.0, 0.0], 0.0) ∩ HalfSpace([0.0, 1.0], 0.5) ∩ HalfSpace([-1.0, 0.0], 0.0) ∩ HalfSpace([0.0, -1.0], 0.5), HalfSpace([1.0, 0.0], 0.2) ∩ HalfSpace([0.0, 1.0], 0.2) ∩ HalfSpace([-1.0, 0.0], 0.2) ∩ HalfSpace([0.0, -1.0], 0.2))"
      ]
     },
     "execution_count": 63,
     "metadata": {},
     "output_type": "execute_result"
    }
   ],
   "source": [
    "# function wrapper for counting evaluations\n",
    "continuous_lipm, discretized_lipm = get_lipm()\n",
    "println(\"Continuous System\")\n",
    "println(continuous_lipm)\n",
    "println(\"Discretized System\")\n",
    "println(discretized_lipm)\n",
    "\n",
    "# Get Drone Systems\n",
    "println(\" \"); println(\"Coucou\")\n",
    "println(\"Starting Drone work.\")\n",
    "get_drones(1)"
   ]
  },
  {
   "cell_type": "code",
   "execution_count": null,
   "metadata": {},
   "outputs": [],
   "source": []
  },
  {
   "cell_type": "code",
   "execution_count": null,
   "metadata": {},
   "outputs": [],
   "source": []
  }
 ],
 "metadata": {
  "kernelspec": {
   "display_name": "Julia 1.5.2",
   "language": "julia",
   "name": "julia-1.5"
  },
  "language_info": {
   "file_extension": ".jl",
   "mimetype": "application/julia",
   "name": "julia",
   "version": "1.5.2"
  }
 },
 "nbformat": 4,
 "nbformat_minor": 4
}
