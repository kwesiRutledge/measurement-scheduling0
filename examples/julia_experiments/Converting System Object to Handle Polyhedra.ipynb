{
 "cells": [
  {
   "cell_type": "markdown",
   "metadata": {},
   "source": [
    "# Converting System to Handle Polyhedra"
   ]
  },
  {
   "cell_type": "code",
   "execution_count": 1,
   "metadata": {},
   "outputs": [],
   "source": [
    "using Test\n",
    "using JuMP\n",
    "using Gurobi\n",
    "using LinearAlgebra\n",
    "using Polyhedra"
   ]
  },
  {
   "cell_type": "code",
   "execution_count": 18,
   "metadata": {},
   "outputs": [
    {
     "name": "stdout",
     "output_type": "stream",
     "text": [
      "\u001b[37m\u001b[1mTest Summary:                | \u001b[22m\u001b[39m\u001b[32m\u001b[1mPass  \u001b[22m\u001b[39m\u001b[36m\u001b[1mTotal\u001b[22m\u001b[39m\n",
      "compute_Sx0() Function Tests | \u001b[32m   1  \u001b[39m\u001b[36m    1\u001b[39m\n",
      "\u001b[37m\u001b[1mTest Summary:               | \u001b[22m\u001b[39m\u001b[32m\u001b[1mPass  \u001b[22m\u001b[39m\u001b[36m\u001b[1mTotal\u001b[22m\u001b[39m\n",
      "compute_Sw() Function Tests | \u001b[32m   4  \u001b[39m\u001b[36m    4\u001b[39m\n",
      "\u001b[37m\u001b[1mTest Summary:                | \u001b[22m\u001b[39m\u001b[32m\u001b[1mPass  \u001b[22m\u001b[39m\u001b[36m\u001b[1mTotal\u001b[22m\u001b[39m\n",
      "compute_C_M() Function Tests | \u001b[32m   1  \u001b[39m\u001b[36m    1\u001b[39m\n",
      "\u001b[37m\u001b[1mTest Summary:             | \u001b[22m\u001b[39m\u001b[32m\u001b[1mPass  \u001b[22m\u001b[39m\u001b[36m\u001b[1mTotal\u001b[22m\u001b[39m\n",
      "LinearSystem Class Struct | \u001b[32m   1  \u001b[39m\u001b[36m    1\u001b[39m\n",
      "\u001b[37m\u001b[1mTest Summary: | \u001b[22m\u001b[39m\u001b[32m\u001b[1mPass  \u001b[22m\u001b[39m\u001b[36m\u001b[1mTotal\u001b[22m\u001b[39m\n",
      "check() tests | \u001b[32m   3  \u001b[39m\u001b[36m    3\u001b[39m\n",
      "\u001b[37m\u001b[1mTest Summary: | \u001b[22m\u001b[39m\u001b[32m\u001b[1mPass  \u001b[22m\u001b[39m\u001b[36m\u001b[1mTotal\u001b[22m\u001b[39m\n",
      "x_dim() Tests | \u001b[32m   3  \u001b[39m\u001b[36m    3\u001b[39m\n",
      "\u001b[37m\u001b[1mTest Summary: | \u001b[22m\u001b[39m\u001b[32m\u001b[1mPass  \u001b[22m\u001b[39m\u001b[36m\u001b[1mTotal\u001b[22m\u001b[39m\n",
      "y_dim() Tests | \u001b[32m   4  \u001b[39m\u001b[36m    4\u001b[39m\n",
      "\u001b[37m\u001b[1mTest Summary:                       | \u001b[22m\u001b[39m\u001b[32m\u001b[1mPass  \u001b[22m\u001b[39m\u001b[36m\u001b[1mTotal\u001b[22m\u001b[39m\n",
      "define_simple_eta_HPolytope() Tests | \u001b[32m   2  \u001b[39m\u001b[36m    2\u001b[39m\n",
      "\u001b[37mfind_est_error_bound_from_time_0_to_T Tests: \u001b[39m\u001b[91m\u001b[1mError During Test\u001b[22m\u001b[39m at \u001b[39m\u001b[1m/Users/kwesirutledge/Documents/Michigan/Research/measurement-scheduling0/tests/linear_system_test.jl:143\u001b[22m\n",
      "  Got exception outside of a @test\n",
      "  MethodError: no method matching LinearSystem(::Float64, ::Int64, ::Int64, ::MixedMatHRep{Float64,Array{Float64,2}}, ::MixedMatHRep{Float64,Array{Float64,2}})\n",
      "  Closest candidates are:\n",
      "    LinearSystem(::Any, ::Any, ::Any, ::Any, ::Any, !Matched::Polyhedron{Float64}, !Matched::Polyhedron{Float64}, !Matched::Polyhedron{Float64}) at /Users/kwesirutledge/Documents/Michigan/Research/measurement-scheduling0/lib/linear_system.jl:24\n",
      "    LinearSystem(::Any, ::Any, ::Any, ::Any, ::Any, !Matched::Any, !Matched::Any, !Matched::Any) at /Users/kwesirutledge/Documents/Michigan/Research/measurement-scheduling0/lib/linear_system.jl:24\n",
      "  Stacktrace:\n",
      "   [1] top-level scope at /Users/kwesirutledge/Documents/Michigan/Research/measurement-scheduling0/tests/linear_system_test.jl:153\n",
      "   [2] top-level scope at /Users/julia/buildbot/worker/package_macos64/build/usr/share/julia/stdlib/v1.5/Test/src/Test.jl:1115\n",
      "   [3] top-level scope at /Users/kwesirutledge/Documents/Michigan/Research/measurement-scheduling0/tests/linear_system_test.jl:145\n",
      "   [4] include(::String) at ./client.jl:457\n",
      "   [5] top-level scope at In[18]:3\n",
      "   [6] include_string(::Function, ::Module, ::String, ::String) at ./loading.jl:1091\n",
      "   [7] execute_code(::String, ::String) at /Users/kwesirutledge/.julia/packages/IJulia/a1SNk/src/execute_request.jl:27\n",
      "   [8] execute_request(::ZMQ.Socket, ::IJulia.Msg) at /Users/kwesirutledge/.julia/packages/IJulia/a1SNk/src/execute_request.jl:86\n",
      "   [9] #invokelatest#1 at ./essentials.jl:710 [inlined]\n",
      "   [10] invokelatest at ./essentials.jl:709 [inlined]\n",
      "   [11] eventloop(::ZMQ.Socket) at /Users/kwesirutledge/.julia/packages/IJulia/a1SNk/src/eventloop.jl:8\n",
      "   [12] (::IJulia.var\"#15#18\")() at ./task.jl:356\n",
      "  \n",
      "\u001b[37m\u001b[1mTest Summary:                               | \u001b[22m\u001b[39m\u001b[91m\u001b[1mError  \u001b[22m\u001b[39m\u001b[36m\u001b[1mTotal\u001b[22m\u001b[39m\n",
      "find_est_error_bound_from_time_0_to_T Tests | \u001b[91m    1  \u001b[39m\u001b[36m    1\u001b[39m\n"
     ]
    },
    {
     "ename": "LoadError",
     "evalue": "LoadError: Some tests did not pass: 0 passed, 0 failed, 1 errored, 0 broken.\nin expression starting at /Users/kwesirutledge/Documents/Michigan/Research/measurement-scheduling0/tests/linear_system_test.jl:143",
     "output_type": "error",
     "traceback": [
      "LoadError: Some tests did not pass: 0 passed, 0 failed, 1 errored, 0 broken.\nin expression starting at /Users/kwesirutledge/Documents/Michigan/Research/measurement-scheduling0/tests/linear_system_test.jl:143",
      "",
      "Stacktrace:",
      " [1] finish(::Test.DefaultTestSet) at /Users/julia/buildbot/worker/package_macos64/build/usr/share/julia/stdlib/v1.5/Test/src/Test.jl:879",
      " [2] top-level scope at /Users/julia/buildbot/worker/package_macos64/build/usr/share/julia/stdlib/v1.5/Test/src/Test.jl:1125",
      " [3] top-level scope at /Users/kwesirutledge/Documents/Michigan/Research/measurement-scheduling0/tests/linear_system_test.jl:145",
      " [4] include(::String) at ./client.jl:457",
      " [5] top-level scope at In[18]:3",
      " [6] include_string(::Function, ::Module, ::String, ::String) at ./loading.jl:1091",
      " [7] execute_code(::String, ::String) at /Users/kwesirutledge/.julia/packages/IJulia/a1SNk/src/execute_request.jl:27",
      " [8] execute_request(::ZMQ.Socket, ::IJulia.Msg) at /Users/kwesirutledge/.julia/packages/IJulia/a1SNk/src/execute_request.jl:86",
      " [9] #invokelatest#1 at ./essentials.jl:710 [inlined]",
      " [10] invokelatest at ./essentials.jl:709 [inlined]",
      " [11] eventloop(::ZMQ.Socket) at /Users/kwesirutledge/.julia/packages/IJulia/a1SNk/src/eventloop.jl:8",
      " [12] (::IJulia.var\"#15#18\")() at ./task.jl:356"
     ]
    }
   ],
   "source": [
    "include(\"../../lib/measurement-scheduling0.jl\")\n",
    "include(\"../../tests/mpc_functions_tests.jl\")\n",
    "include(\"../../tests/linear_system_test.jl\")\n",
    "include(\"../../tests/alap_estimation_schedule_test.jl\")"
   ]
  },
  {
   "cell_type": "code",
   "execution_count": 3,
   "metadata": {},
   "outputs": [
    {
     "name": "stdout",
     "output_type": "stream",
     "text": [
      " \n",
      "Coucou\n",
      "Starting Drone work.\n"
     ]
    },
    {
     "data": {
      "text/plain": [
       "LinearSystem([1.0 0.0 0.1 0.0; 0.0 1.0 0.0 0.1; 0.0 0.0 1.0 0.0; 0.0 0.0 0.0 1.0], [0.0 0.0; 0.0 0.0; 0.1 0.0; 0.0 0.1], [1.0 0.0 0.0 0.0; 0.0 1.0 0.0 0.0], [1.0 0.0 0.0 0.0; 0.0 1.0 0.0 0.0], [0.0, 0.0], HalfSpace([1.0, 0.0, 0.0, 0.0], 0.5) ∩ HalfSpace([0.0, 1.0, 0.0, 0.0], 0.5) ∩ HalfSpace([0.0, 0.0, 1.0, 0.0], 0.5) ∩ HalfSpace([0.0, 0.0, 0.0, 1.0], 0.5) ∩ HalfSpace([-1.0, 0.0, 0.0, 0.0], 0.5) ∩ HalfSpace([0.0, -1.0, 0.0, 0.0], 0.5) ∩ HalfSpace([0.0, 0.0, -1.0, 0.0], 0.5) ∩ HalfSpace([0.0, 0.0, 0.0, -1.0], 0.5), HalfSpace([1.0, 0.0], 0.2) ∩ HalfSpace([0.0, 1.0], 0.2) ∩ HalfSpace([-1.0, 0.0], 0.2) ∩ HalfSpace([0.0, -1.0], 0.2), HalfSpace([1.0, 0.0], 0.2) ∩ HalfSpace([0.0, 1.0], 0.2) ∩ HalfSpace([-1.0, 0.0], 0.2) ∩ HalfSpace([0.0, -1.0], 0.2))"
      ]
     },
     "execution_count": 3,
     "metadata": {},
     "output_type": "execute_result"
    }
   ],
   "source": [
    "# function wrapper for counting evaluations\n",
    "# continuous_lipm, discretized_lipm = get_lipm()\n",
    "# println(\"Continuous System\")\n",
    "# println(continuous_lipm)\n",
    "# println(\"Discretized System\")\n",
    "# println(discretized_lipm)\n",
    "\n",
    "num_drones = 2\n",
    "drone_sys = get_drones(num_drones)\n",
    "\n",
    "# Get Drone Systems\n",
    "println(\" \"); println(\"Coucou\")\n",
    "println(\"Starting Drone work.\")\n",
    "get_drones(1)"
   ]
  },
  {
   "cell_type": "code",
   "execution_count": 4,
   "metadata": {},
   "outputs": [
    {
     "name": "stdout",
     "output_type": "stream",
     "text": [
      "O_3=\n",
      "[1.0 0.0 0.0 0.0 0.0 0.0 0.0 0.0; 0.0 1.0 0.0 0.0 0.0 0.0 0.0 0.0; 0.0 0.0 0.0 0.0 1.0 0.0 0.0 0.0; 0.0 0.0 0.0 0.0 0.0 1.0 0.0 0.0; 0.0 0.0 0.0 0.0 0.0 0.0 0.0 0.0; 0.0 0.0 0.0 0.0 0.0 0.0 0.0 0.0; 0.0 0.0 0.0 0.0 0.0 0.0 0.0 0.0; 0.0 0.0 0.0 0.0 0.0 0.0 0.0 0.0]\n",
      "Array{Float64,2}\n",
      "Array{Float64,2}\n",
      "convexhull([0.2, 0.2, 1.0, 1.0], [-0.2, 0.2, -1.0, 1.0], [0.2, -0.2, 1.0, -1.0], [-0.2, -0.2, -1.0, -1.0], [0.2, 0.2, 1.0, 1.0], [-0.2, 0.2, -1.0, 1.0], [0.2, -0.2, 1.0, -1.0], [-0.2, -0.2, -1.0, -1.0], [0.2, 0.2, 1.0, 1.0], [-0.2, 0.2, -1.0, 1.0], [0.2, -0.2, 1.0, -1.0], [-0.2, -0.2, -1.0, -1.0], [0.2, 0.2, 1.0, 1.0], [-0.2, 0.2, -1.0, 1.0], [0.2, -0.2, 1.0, -1.0], [-0.2, -0.2, -1.0, -1.0])\n",
      "Academic license - for non-commercial use only - expires 2021-05-07\n",
      "Warning for adding constraints: zero or small (< 1e-13) coefficients, ignored\n",
      "termination_status = INFEASIBLE\n",
      "INFEASIBLE\n",
      "8\n",
      "N_O3 = \n",
      "[0.0 0.0 0.0 0.0; 0.0 0.0 0.0 0.0; 1.0 0.0 0.0 0.0; 0.0 1.0 0.0 0.0; 0.0 0.0 0.0 0.0; 0.0 0.0 0.0 0.0; 0.0 0.0 1.0 0.0; 0.0 0.0 0.0 1.0]\n"
     ]
    }
   ],
   "source": [
    "sigma_m = [1 zeros((1,1))]\n",
    "\n",
    "O_3 = packet_loss_observability_mat( drone_sys , sigma_m )\n",
    "println(\"O_3=\")\n",
    "println(O_3)\n",
    "\n",
    "println(typeof(O_3))\n",
    "println(typeof(zeros((size(O_3,1),1))))\n",
    "\n",
    "H_x0 = [\n",
    "        Matrix(1.0I, num_drones*4, num_drones*4) ; \n",
    "        Matrix(-1.0I, num_drones*4, num_drones*4) ; \n",
    "        O_3 ;\n",
    "        -O_3\n",
    "        ]\n",
    "h_x0 = [ \n",
    "        1.0 * ones((num_drones*4*2,));\n",
    "        0.0*zeros((size(O_3,1)*2,))\n",
    "        ]\n",
    "X0 = polyhedron(hrep(H_x0,h_x0))\n",
    "\n",
    "H_zT = [\n",
    "        Matrix(1.0I, num_drones*2, num_drones*2) ; \n",
    "        Matrix(-1.0I, num_drones*2, num_drones*2)\n",
    "        ]\n",
    "\n",
    "h_zT = [  6.5 ; 1.5 ; 6.5 ; 1.5 ; 1.5 ; 1.5 ; 1.5; 1.5  ]\n",
    "\n",
    "ZT = polyhedron(hrep(H_zT,h_zT))\n",
    "\n",
    "J = compute_Sx0( drone_sys.A , length(sigma_m))\n",
    "T = length(sigma_m)\n",
    "Zt_ol = [ zeros((num_drones*2,x_dim(drone_sys)*T)) I(num_drones*2) zeros((num_drones*2,x_dim(drone_sys)-num_drones*2)) ]*J*X0\n",
    "\n",
    "println(Zt_ol)\n",
    "\n",
    "println(test_set_containment(Zt_ol,ZT))\n",
    "\n",
    "println(fulldim(X0))\n",
    "\n",
    "N_O3 = nullspace(O_3) \n",
    "println(\"N_O3 = \")\n",
    "println(N_O3)"
   ]
  },
  {
   "cell_type": "code",
   "execution_count": 5,
   "metadata": {},
   "outputs": [
    {
     "name": "stdout",
     "output_type": "stream",
     "text": [
      "Academic license - for non-commercial use only - expires 2021-05-07\n",
      "termination_status = OPTIMAL\n"
     ]
    },
    {
     "data": {
      "text/plain": [
       "OPTIMAL::TerminationStatusCode = 1"
      ]
     },
     "execution_count": 5,
     "metadata": {},
     "output_type": "execute_result"
    }
   ],
   "source": [
    "tempV = polyhedron(drone_sys.V)\n",
    "\n",
    "test_set_containment(tempV,tempV)"
   ]
  },
  {
   "cell_type": "code",
   "execution_count": 6,
   "metadata": {},
   "outputs": [
    {
     "name": "stdout",
     "output_type": "stream",
     "text": [
      "1[0.9955491739730222]\n",
      "\n",
      "2[0.8132689722303093]\n",
      "\n",
      "3[0.7337155503653705]\n",
      "\n",
      "4[0.3922344527664612]\n",
      "\n",
      "5[0.15161012479648317]\n",
      "\n",
      "6[0.267974642295038]\n",
      "\n",
      "7[0.14545804601356505]\n",
      "\n",
      "8[0.17222080278595464]\n",
      "\n",
      "9[0.9855813209615545]\n",
      "\n",
      "10[0.6530593954423887]\n",
      "\n",
      "11[0.22919403007772]\n",
      "\n",
      "12[0.8098352244982039]\n",
      "\n",
      "13[0.5420776029312444]\n",
      "\n",
      "14[0.567875880413202]\n",
      "\n",
      "15[0.17941587164241835]\n",
      "\n",
      "16[0.5480303382786342]\n",
      "\n",
      "sample = \n",
      "[-0.013341306355429405, 0.0285413991389062, -0.030300011645184886, 0.0027902073568410214]\n",
      "sample_polytope(tempV)\n",
      "[-0.00566880129812819, -0.0755876762284258, 0.031708801552992605, 0.012332363695373267]\n"
     ]
    }
   ],
   "source": [
    "tempV2 = vrep(tempV)\n",
    "num_vertices = size(tempV2.V,1)\n",
    "for vertex_index = 1:size(tempV2.V,1)\n",
    "    println(vertex_index, string(rand(Float64,1)))\n",
    "    println()\n",
    "end\n",
    "\n",
    "theta = rand(Float64,num_vertices)\n",
    "theta = theta/sum(theta)\n",
    "\n",
    "sample = transpose(tempV2.V)*theta\n",
    "println(\"sample = \")\n",
    "println(sample)\n",
    "\n",
    "println(\"sample_polytope(tempV)\")\n",
    "println(sample_polytope(tempV))"
   ]
  },
  {
   "cell_type": "code",
   "execution_count": null,
   "metadata": {},
   "outputs": [],
   "source": []
  }
 ],
 "metadata": {
  "kernelspec": {
   "display_name": "Julia 1.5.2",
   "language": "julia",
   "name": "julia-1.5"
  },
  "language_info": {
   "file_extension": ".jl",
   "mimetype": "application/julia",
   "name": "julia",
   "version": "1.5.2"
  }
 },
 "nbformat": 4,
 "nbformat_minor": 4
}
