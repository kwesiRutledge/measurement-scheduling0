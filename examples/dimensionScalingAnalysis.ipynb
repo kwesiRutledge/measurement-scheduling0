{
 "cells": [
  {
   "cell_type": "code",
   "execution_count": 1,
   "metadata": {},
   "outputs": [
    {
     "name": "stdout",
     "output_type": "stream",
     "text": [
      "coucou"
     ]
    }
   ],
   "source": [
    "print(\"coucou\")"
   ]
  },
  {
   "cell_type": "code",
   "execution_count": 2,
   "metadata": {},
   "outputs": [],
   "source": [
    "using Polyhedra\n",
    "using JuMP\n",
    "using LinearAlgebra\n",
    "using Gurobi #, Cbc, GLPK\n",
    "using Plots\n",
    "using JLD\n",
    "using Combinatorics"
   ]
  },
  {
   "cell_type": "code",
   "execution_count": 3,
   "metadata": {},
   "outputs": [
    {
     "name": "stdout",
     "output_type": "stream",
     "text": [
      "Done"
     ]
    }
   ],
   "source": [
    "include(\"../lib/linear_system_v3.jl\")\n",
    "print(\"Done\")"
   ]
  },
  {
   "cell_type": "code",
   "execution_count": 4,
   "metadata": {},
   "outputs": [
    {
     "name": "stdout",
     "output_type": "stream",
     "text": [
      "Done"
     ]
    }
   ],
   "source": [
    "include(\"../lib/double_integrator_drones.jl\")\n",
    "print(\"Done\")"
   ]
  },
  {
   "cell_type": "code",
   "execution_count": 5,
   "metadata": {},
   "outputs": [
    {
     "name": "stdout",
     "output_type": "stream",
     "text": [
      "Done"
     ]
    }
   ],
   "source": [
    "include(\"../lib/utils_MILP.jl\");\n",
    "print(\"Done\")"
   ]
  },
  {
   "cell_type": "code",
   "execution_count": 6,
   "metadata": {},
   "outputs": [
    {
     "data": {
      "text/plain": [
       "3-element Array{Int64,1}:\n",
       " 1\n",
       " 1\n",
       " 4"
      ]
     },
     "execution_count": 6,
     "metadata": {},
     "output_type": "execute_result"
    }
   ],
   "source": [
    "# data of the problem\n",
    "T=20\n",
    "N_m=3\n",
    "N_c=4\n",
    "\n",
    "enforceRegular=false\n",
    "minimizeScaling=false #enforceRegular\n",
    "\n",
    "tested_numDrones=[1,1,4]"
   ]
  },
  {
   "cell_type": "code",
   "execution_count": 14,
   "metadata": {},
   "outputs": [
    {
     "name": "stdout",
     "output_type": "stream",
     "text": [
      "\n",
      "====== num drones=1 ======\n",
      "\n",
      "\n",
      "==== Instantiation time = 6.007019461 seconds ====\n",
      "Academic license - for non-commercial use only\n",
      "Gurobi Optimizer version 9.0.3 build v9.0.3rc0 (mac64)\n",
      "Optimize a model with 68414 rows, 42352 columns and 844676 nonzeros\n",
      "Model fingerprint: 0x2da61585\n",
      "Variable types: 42312 continuous, 40 integer (40 binary)\n",
      "Coefficient statistics:\n",
      "  Matrix range     [1e-03, 1e+06]\n",
      "  Objective range  [0e+00, 0e+00]\n",
      "  Bounds range     [0e+00, 0e+00]\n",
      "  RHS range        [1e-01, 2e+01]\n",
      "Presolve removed 55740 rows and 23592 columns\n",
      "Presolve time: 1.28s\n",
      "Presolved: 12674 rows, 18760 columns, 137680 nonzeros\n",
      "Variable types: 18720 continuous, 40 integer (40 binary)\n",
      "\n",
      "Deterministic concurrent LP optimizer: primal and dual simplex\n",
      "Showing first log only...\n",
      "\n",
      "\n",
      "Root simplex log...\n",
      "\n",
      "Iteration    Objective       Primal Inf.    Dual Inf.      Time\n",
      "   27975    0.0000000e+00   7.473069e+00   3.190854e+08      5s\n",
      "Concurrent spin time: 0.61s\n",
      "\n",
      "Solved with dual simplex\n",
      "\n",
      "Root relaxation: objective 0.000000e+00, 7528 iterations, 4.17 seconds\n",
      "Total elapsed time = 17.33s\n",
      "Total elapsed time = 27.45s\n",
      "Total elapsed time = 30.46s\n",
      "\n",
      "    Nodes    |    Current Node    |     Objective Bounds      |     Work\n",
      " Expl Unexpl |  Obj  Depth IntInf | Incumbent    BestBd   Gap | It/Node Time\n",
      "\n",
      "     0     0    0.00000    0    5          -    0.00000      -     -   36s\n",
      "     0     0    0.00000    0    5          -    0.00000      -     -   37s\n",
      "     0     2    0.00000    0    5          -    0.00000      -     -   41s\n",
      "     3     6    0.00000    2   12          -    0.00000      -  1996   46s\n",
      "     7    10    0.00000    4   16          -    0.00000      -  2848   50s\n",
      "    13    10    0.00000    5   13          -    0.00000      -  2157   58s\n",
      "    17    13    0.00000    5   24          -    0.00000      -  3360   61s\n",
      "    29    16    0.00000    6   20          -    0.00000      -  2813   70s\n",
      "    41    20    0.00000    7   19          -    0.00000      -  3159   75s\n",
      "    57    24    0.00000    8   22          -    0.00000      -  2582   83s\n",
      "    85    28 infeasible   10               -    0.00000      -  2108   94s\n",
      "   103    24 infeasible   15               -    0.00000      -  2245  105s\n",
      "   141    26    0.00000    4   19          -    0.00000      -  2011  116s\n",
      "   175    30 infeasible   11               -    0.00000      -  2149  125s\n",
      "   197    32 infeasible   11               -    0.00000      -  2117  141s\n",
      "   211    41    0.00000   16   13          -    0.00000      -  2071  163s\n",
      "   262    41 infeasible   16               -    0.00000      -  1974  178s\n",
      "   334    39 infeasible   17               -    0.00000      -  1749  194s\n",
      "   400    47    0.00000   12   18          -    0.00000      -  1700  209s\n",
      "   440    49 infeasible   20               -    0.00000      -  1673  252s\n",
      "   584    57    0.00000   13    6          -    0.00000      -  1472  285s\n",
      "   794    52    0.00000   21    4          -    0.00000      -  1265  314s\n",
      "*  814    52              23       0.0000000    0.00000  0.00%  1239  314s\n",
      "\n",
      "Explored 989 nodes (1183234 simplex iterations) in 315.08 seconds\n",
      "Thread count was 4 (of 4 available processors)\n",
      "\n",
      "Solution count 1: 0 \n",
      "\n",
      "Optimal solution found (tolerance 1.00e-04)\n",
      "Best objective 0.000000000000e+00, best bound 0.000000000000e+00, gap 0.0000%\n",
      "\n",
      "User-callback calls 50042, time in user-callback 0.17 sec\n",
      "\n",
      "\n",
      "==== Optimization time = 315.546002019 seconds ====\n",
      "\n",
      "\n",
      "====== num drones=1 ======\n",
      "\n",
      "\n",
      "==== Instantiation time = 6.337903608 seconds ====\n",
      "Academic license - for non-commercial use only\n",
      "Gurobi Optimizer version 9.0.3 build v9.0.3rc0 (mac64)\n",
      "Optimize a model with 68414 rows, 42352 columns and 844676 nonzeros\n",
      "Model fingerprint: 0x2da61585\n",
      "Variable types: 42312 continuous, 40 integer (40 binary)\n",
      "Coefficient statistics:\n",
      "  Matrix range     [1e-03, 1e+06]\n",
      "  Objective range  [0e+00, 0e+00]\n",
      "  Bounds range     [0e+00, 0e+00]\n",
      "  RHS range        [1e-01, 2e+01]\n",
      "Presolve removed 55740 rows and 23592 columns\n",
      "Presolve time: 1.30s\n",
      "Presolved: 12674 rows, 18760 columns, 137680 nonzeros\n",
      "Variable types: 18720 continuous, 40 integer (40 binary)\n",
      "\n",
      "Deterministic concurrent LP optimizer: primal and dual simplex\n",
      "Showing first log only...\n",
      "\n",
      "\n",
      "Root simplex log...\n",
      "\n",
      "Iteration    Objective       Primal Inf.    Dual Inf.      Time\n",
      "   27635    0.0000000e+00   2.823940e+01   2.476860e+08      5s\n",
      "Concurrent spin time: 0.52s\n",
      "\n",
      "Solved with dual simplex\n",
      "\n",
      "Root relaxation: objective 0.000000e+00, 7528 iterations, 4.25 seconds\n",
      "Total elapsed time = 17.63s\n",
      "Total elapsed time = 28.41s\n",
      "Total elapsed time = 31.36s\n",
      "\n",
      "    Nodes    |    Current Node    |     Objective Bounds      |     Work\n",
      " Expl Unexpl |  Obj  Depth IntInf | Incumbent    BestBd   Gap | It/Node Time\n",
      "\n",
      "     0     0    0.00000    0    5          -    0.00000      -     -   38s\n",
      "     0     0    0.00000    0    5          -    0.00000      -     -   39s\n",
      "     0     2    0.00000    0    5          -    0.00000      -     -   43s\n",
      "     1     4    0.00000    1   17          -    0.00000      -  2186   45s\n",
      "     5     8    0.00000    3   17          -    0.00000      -  2758   50s\n",
      "    13    10    0.00000    5   13          -    0.00000      -  2157   60s\n",
      "    20    14    0.00000    6   23          -    0.00000      -  3340   66s\n",
      "    29    16    0.00000    6   20          -    0.00000      -  2813   72s\n",
      "    41    20    0.00000    7   19          -    0.00000      -  3159   77s\n",
      "    57    24    0.00000    8   22          -    0.00000      -  2582   84s\n",
      "    85    28 infeasible   10               -    0.00000      -  2108   98s\n",
      "   103    24 infeasible   15               -    0.00000      -  2245  110s\n",
      "   141    26    0.00000    4   19          -    0.00000      -  2011  123s\n",
      "   175    30 infeasible   11               -    0.00000      -  2149  135s\n",
      "   197    32 infeasible   11               -    0.00000      -  2117  152s\n",
      "   211    41    0.00000   16   13          -    0.00000      -  2071  169s\n",
      "   262    41 infeasible   16               -    0.00000      -  1974  185s\n",
      "   334    39 infeasible   17               -    0.00000      -  1749  203s\n",
      "   400    47    0.00000   12   18          -    0.00000      -  1700  217s\n",
      "   440    49 infeasible   20               -    0.00000      -  1673  253s\n",
      "   584    57    0.00000   13    6          -    0.00000      -  1472  284s\n",
      "   794    52    0.00000   21    4          -    0.00000      -  1265  311s\n",
      "*  814    52              23       0.0000000    0.00000  0.00%  1239  311s\n",
      "\n",
      "Explored 989 nodes (1183234 simplex iterations) in 311.34 seconds\n",
      "Thread count was 4 (of 4 available processors)\n",
      "\n",
      "Solution count 1: 0 \n",
      "\n",
      "Optimal solution found (tolerance 1.00e-04)\n",
      "Best objective 0.000000000000e+00, best bound 0.000000000000e+00, gap 0.0000%\n",
      "\n",
      "User-callback calls 50190, time in user-callback 0.11 sec\n",
      "\n",
      "\n",
      "==== Optimization time = 312.094911157 seconds ====\n",
      "\n",
      "\n",
      "====== num drones=4 ======\n",
      "\n",
      "\n",
      "==== Instantiation time = 63.219990374 seconds ====\n",
      "Academic license - for non-commercial use only\n",
      "Gurobi Optimizer version 9.0.3 build v9.0.3rc0 (mac64)\n",
      "Optimize a model with 1091666 rows, 676552 columns and 13501304 nonzeros\n",
      "Model fingerprint: 0xfdda20ba\n",
      "Variable types: 676512 continuous, 40 integer (40 binary)\n",
      "Coefficient statistics:\n",
      "  Matrix range     [1e-03, 1e+06]\n",
      "  Objective range  [0e+00, 0e+00]\n",
      "  Bounds range     [0e+00, 0e+00]\n",
      "  RHS range        [1e-01, 2e+01]\n",
      "Presolve removed 711552 rows and 12160 columns (presolve time = 5s) ...\n",
      "Presolve removed 893104 rows and 375200 columns (presolve time = 11s) ...\n",
      "Presolve removed 893104 rows and 375200 columns (presolve time = 15s) ...\n",
      "Presolve removed 893104 rows and 375200 columns (presolve time = 20s) ...\n",
      "Presolve removed 893104 rows and 375200 columns (presolve time = 25s) ...\n",
      "Presolve removed 1078992 rows and 657792 columns\n",
      "Presolve time: 27.47s\n",
      "Presolved: 12674 rows, 18760 columns, 137680 nonzeros\n",
      "Variable types: 18720 continuous, 40 integer (40 binary)\n",
      "\n",
      "Deterministic concurrent LP optimizer: primal and dual simplex\n",
      "Showing first log only...\n",
      "\n",
      "\n",
      "Root simplex log...\n",
      "\n",
      "Iteration    Objective       Primal Inf.    Dual Inf.      Time\n",
      "       0    0.0000000e+00   2.905979e+05   1.117032e+10     31s\n",
      "Warning: Markowitz tolerance tightened to 0.5\n",
      "   31131    0.0000000e+00   1.347941e+00   1.382538e+12     35s\n",
      "Concurrent spin time: 0.00s\n",
      "\n",
      "Solved with dual simplex\n",
      "\n",
      "Root relaxation: objective 0.000000e+00, 8645 iterations, 5.05 seconds\n",
      "Total elapsed time = 50.98s\n",
      "Total elapsed time = 57.18s\n",
      "Total elapsed time = 65.46s\n",
      "Total elapsed time = 70.85s\n",
      "\n",
      "    Nodes    |    Current Node    |     Objective Bounds      |     Work\n",
      " Expl Unexpl |  Obj  Depth IntInf | Incumbent    BestBd   Gap | It/Node Time\n",
      "\n",
      "     0     0    0.00000    0    6          -    0.00000      -     -   79s\n",
      "     0     0    0.00000    0    6          -    0.00000      -     -   80s\n",
      "     0     2    0.00000    0    6          -    0.00000      -     -   88s\n",
      "     1     4    0.00000    1   13          -    0.00000      -  2647   92s\n",
      "     5     8    0.00000    3   16          -    0.00000      -  2976   96s\n",
      "     7    10    0.00000    4   15          -    0.00000      -  3017  100s\n",
      "    14    14    0.00000    6   16          -    0.00000      -  2159  109s\n",
      "    21    17    0.00000    8   12          -    0.00000      -  3981  115s\n",
      "    34    19    0.00000   10   13          -    0.00000      -  3267  122s\n",
      "    50    19 infeasible   12               -    0.00000      -  3359  129s\n",
      "    70    18    0.00000   16   18          -    0.00000      -  2833  135s\n",
      "    99    21    0.00000    5   11          -    0.00000      -  2270  145s\n",
      "   120    21 infeasible   10               -    0.00000      -  2219  157s\n",
      "   126    21 infeasible   10               -    0.00000      -  2374  168s\n",
      "   142    21 infeasible   14               -    0.00000      -  2261  216s\n",
      "   166    22    0.00000   24    7          -    0.00000      -  2346  230s\n",
      "   183    29    0.00000    6   13          -    0.00000      -  2353  249s\n",
      "   202    38    0.00000   10   13          -    0.00000      -  2480  265s\n",
      "   229    34 infeasible   15               -    0.00000      -  2347  297s\n",
      "   267    31    0.00000   14   17          -    0.00000      -  2422  327s\n",
      "H  326    31                       0.0000000    0.00000  0.00%  2179  327s\n",
      "\n",
      "Explored 332 nodes (772242 simplex iterations) in 327.83 seconds\n",
      "Thread count was 4 (of 4 available processors)\n",
      "\n",
      "Solution count 1: 0 \n",
      "\n",
      "Optimal solution found (tolerance 1.00e-04)\n",
      "Best objective 0.000000000000e+00, best bound 0.000000000000e+00, gap 0.0000%\n",
      "\n",
      "User-callback calls 36713, time in user-callback 0.15 sec\n",
      "\n",
      "\n",
      "==== Optimization time = 332.744406006 seconds ====\n",
      "\n"
     ]
    },
    {
     "data": {
      "text/plain": [
       "5523300"
      ]
     },
     "execution_count": 14,
     "metadata": {},
     "output_type": "execute_result"
    }
   ],
   "source": [
    "len=length(tested_numDrones)\n",
    "\n",
    "instantiation_times=zeros(len)\n",
    "optimization_times=zeros(len)\n",
    "feasibilities=zeros(len)\n",
    "\n",
    "for i=1:len\n",
    "    # data of the problem\n",
    "    num_drones=tested_numDrones[i]\n",
    "    \n",
    "    println(\"\\n====== num drones=$num_drones ======\\n\")\n",
    "    \n",
    "    # Instantiation (including loading the problem)\n",
    "    time_beginning=time_ns()\n",
    "    \n",
    "    system,_=get_drones(num_drones,T);\n",
    "    model,C_bar,S_bar, P_z_all,z_tilde, P_u_all, u_tilde, polEta=instantiateASAP(system,N_m,N_c,T; minimizeScaling=minimizeScaling,enforceRegular=enforceRegular);\n",
    "    \n",
    "    time_ending=time_ns()\n",
    "    instantiation_time=(time_ending-time_beginning)/1e9\n",
    "    print(\"\\n==== Instantiation time = $(instantiation_time) seconds ====\\n\")\n",
    "    instantiation_times[i]=instantiation_time\n",
    "    \n",
    "    # Set an optimozer and solve the problem\n",
    "    set_optimizer(model, Gurobi.Optimizer)\n",
    "    \n",
    "    # Solving the problem\n",
    "    time_beginning=time_ns()\n",
    "    \n",
    "    optimize!(model)\n",
    "    \n",
    "    time_ending=time_ns()\n",
    "    optimization_time=(time_ending-time_beginning)/1e9\n",
    "    print(\"\\n\\n==== Optimization time = $(optimization_time) seconds ====\\n\\n\")\n",
    "    optimization_times[i]=optimization_time\n",
    "    \n",
    "    feasibilities[i] = (termination_status(model) == MOI.TerminationStatusCode(1)) # 1 if feasible\n",
    "end\n",
    "\n",
    "numberSchedulings=length(combinations(0:T-1,N_m))*length(combinations(0:T-1,N_c))"
   ]
  },
  {
   "cell_type": "code",
   "execution_count": 15,
   "metadata": {},
   "outputs": [],
   "source": [
    "# save results\n",
    "io = open(\"results/dimensionScalingAnalysis.txt\", \"w\") do io\n",
    "    println(io,\"numberSchedulings=$numberSchedulings\")\n",
    "    println(io,\"num_drones, instantiation_time [sec], optimization_times [sec], feasibility\")\n",
    "    for i=1:len\n",
    "        print(io, tested_numDrones[i])\n",
    "        print(io,\", \")\n",
    "        print(io, instantiation_times[i])\n",
    "        print(io,\", \")\n",
    "        print(io, optimization_times[i])\n",
    "        print(io,\", \")\n",
    "        print(io, feasibilities[i])\n",
    "        println(io)\n",
    "    end\n",
    "end"
   ]
  },
  {
   "cell_type": "code",
   "execution_count": 16,
   "metadata": {},
   "outputs": [
    {
     "data": {
      "text/plain": [
       "3-element Array{Float64,1}:\n",
       "  6.007019461\n",
       "  6.337903608\n",
       " 63.219990374"
      ]
     },
     "execution_count": 16,
     "metadata": {},
     "output_type": "execute_result"
    }
   ],
   "source": [
    "instantiation_times"
   ]
  },
  {
   "cell_type": "code",
   "execution_count": 17,
   "metadata": {},
   "outputs": [
    {
     "data": {
      "text/plain": [
       "3-element Array{Float64,1}:\n",
       " 315.546002019\n",
       " 312.094911157\n",
       " 332.744406006"
      ]
     },
     "execution_count": 17,
     "metadata": {},
     "output_type": "execute_result"
    }
   ],
   "source": [
    "optimization_times"
   ]
  },
  {
   "cell_type": "code",
   "execution_count": 18,
   "metadata": {},
   "outputs": [
    {
     "data": {
      "text/plain": [
       "5523300"
      ]
     },
     "execution_count": 18,
     "metadata": {},
     "output_type": "execute_result"
    }
   ],
   "source": [
    "numberSchedulings"
   ]
  },
  {
   "cell_type": "code",
   "execution_count": 19,
   "metadata": {},
   "outputs": [
    {
     "data": {
      "text/plain": [
       "3-element Array{Float64,1}:\n",
       " 1.0\n",
       " 1.0\n",
       " 1.0"
      ]
     },
     "execution_count": 19,
     "metadata": {},
     "output_type": "execute_result"
    }
   ],
   "source": [
    "feasibilities"
   ]
  },
  {
   "cell_type": "code",
   "execution_count": null,
   "metadata": {},
   "outputs": [],
   "source": []
  }
 ],
 "metadata": {
  "kernelspec": {
   "display_name": "Julia 1.4.2",
   "language": "julia",
   "name": "julia-1.4"
  },
  "language_info": {
   "file_extension": ".jl",
   "mimetype": "application/julia",
   "name": "julia",
   "version": "1.4.2"
  }
 },
 "nbformat": 4,
 "nbformat_minor": 2
}
