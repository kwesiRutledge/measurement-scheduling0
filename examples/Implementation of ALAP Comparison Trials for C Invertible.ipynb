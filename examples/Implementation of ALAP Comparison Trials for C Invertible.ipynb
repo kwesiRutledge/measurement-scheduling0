{
 "cells": [
  {
   "cell_type": "markdown",
   "metadata": {},
   "source": [
    "# Implementation of ALAP Comparison Trials for C Invertible\n"
   ]
  },
  {
   "cell_type": "code",
   "execution_count": 1,
   "metadata": {},
   "outputs": [],
   "source": [
    "using Test\n",
    "using JuMP\n",
    "using Gurobi\n",
    "using LinearAlgebra"
   ]
  },
  {
   "cell_type": "code",
   "execution_count": 4,
   "metadata": {
    "scrolled": true
   },
   "outputs": [
    {
     "name": "stdout",
     "output_type": "stream",
     "text": [
      "\u001b[37m\u001b[1mTest Summary:                | \u001b[22m\u001b[39m\u001b[32m\u001b[1mPass  \u001b[22m\u001b[39m\u001b[36m\u001b[1mTotal\u001b[22m\u001b[39m\n",
      "compute_Sx0() Function Tests | \u001b[32m   1  \u001b[39m\u001b[36m    1\u001b[39m\n",
      "\u001b[37m\u001b[1mTest Summary:               | \u001b[22m\u001b[39m\u001b[32m\u001b[1mPass  \u001b[22m\u001b[39m\u001b[36m\u001b[1mTotal\u001b[22m\u001b[39m\n",
      "compute_Sw() Function Tests | \u001b[32m   4  \u001b[39m\u001b[36m    4\u001b[39m\n",
      "\u001b[37m\u001b[1mTest Summary:                | \u001b[22m\u001b[39m\u001b[32m\u001b[1mPass  \u001b[22m\u001b[39m\u001b[36m\u001b[1mTotal\u001b[22m\u001b[39m\n",
      "compute_C_M() Function Tests | \u001b[32m   1  \u001b[39m\u001b[36m    1\u001b[39m\n",
      "\u001b[37m\u001b[1mTest Summary:             | \u001b[22m\u001b[39m\u001b[32m\u001b[1mPass  \u001b[22m\u001b[39m\u001b[36m\u001b[1mTotal\u001b[22m\u001b[39m\n",
      "LinearSystem Class Struct | \u001b[32m   1  \u001b[39m\u001b[36m    1\u001b[39m\n",
      "\u001b[37m\u001b[1mTest Summary: | \u001b[22m\u001b[39m\u001b[32m\u001b[1mPass  \u001b[22m\u001b[39m\u001b[36m\u001b[1mTotal\u001b[22m\u001b[39m\n",
      "check() tests | \u001b[32m   3  \u001b[39m\u001b[36m    3\u001b[39m\n",
      "\u001b[37m\u001b[1mTest Summary: | \u001b[22m\u001b[39m\u001b[32m\u001b[1mPass  \u001b[22m\u001b[39m\u001b[36m\u001b[1mTotal\u001b[22m\u001b[39m\n",
      "x_dim() Tests | \u001b[32m   3  \u001b[39m\u001b[36m    3\u001b[39m\n",
      "\u001b[37m\u001b[1mTest Summary: | \u001b[22m\u001b[39m\u001b[32m\u001b[1mPass  \u001b[22m\u001b[39m\u001b[36m\u001b[1mTotal\u001b[22m\u001b[39m\n",
      "y_dim() Tests | \u001b[32m   4  \u001b[39m\u001b[36m    4\u001b[39m\n",
      "\u001b[37m\u001b[1mTest Summary:                       | \u001b[22m\u001b[39m\u001b[32m\u001b[1mPass  \u001b[22m\u001b[39m\u001b[36m\u001b[1mTotal\u001b[22m\u001b[39m\n",
      "define_simple_eta_HPolytope() Tests | \u001b[32m   2  \u001b[39m\u001b[36m    2\u001b[39m\n",
      "Academic license - for non-commercial use only - expires 2021-03-07\n",
      "\u001b[37m\u001b[1mTest Summary:                               | \u001b[22m\u001b[39m\u001b[32m\u001b[1mPass  \u001b[22m\u001b[39m\u001b[36m\u001b[1mTotal\u001b[22m\u001b[39m\n",
      "find_est_error_bound_from_time_0_to_T Tests | \u001b[32m   1  \u001b[39m\u001b[36m    1\u001b[39m\n",
      "\u001b[37m\u001b[1mTest Summary:               |\u001b[22m\u001b[39m\n",
      "evaluate_schedule_wrt Tests | \u001b[36mNo tests\u001b[39m\n",
      "Academic license - for non-commercial use only - expires 2021-03-07\n",
      "termination_status = OPTIMAL\n",
      "\u001b[37m\u001b[1mTest Summary:                 | \u001b[22m\u001b[39m\u001b[32m\u001b[1mPass  \u001b[22m\u001b[39m\u001b[36m\u001b[1mTotal\u001b[22m\u001b[39m\n",
      "norm_of_est_error_after Tests | \u001b[32m   2  \u001b[39m\u001b[36m    2\u001b[39m\n",
      "\u001b[37m\u001b[1mTest Summary:                    | \u001b[22m\u001b[39m\u001b[32m\u001b[1mPass  \u001b[22m\u001b[39m\u001b[36m\u001b[1mTotal\u001b[22m\u001b[39m\n",
      "find_time_from_X0_to_bound Tests | \u001b[32m   1  \u001b[39m\u001b[36m    1\u001b[39m\n",
      "\u001b[37m\u001b[1mTest Summary:                       | \u001b[22m\u001b[39m\u001b[32m\u001b[1mPass  \u001b[22m\u001b[39m\u001b[36m\u001b[1mTotal\u001b[22m\u001b[39m\n",
      "alap_estimation_schedule_alg1 Tests | \u001b[32m   1  \u001b[39m\u001b[36m    1\u001b[39m\n"
     ]
    },
    {
     "data": {
      "text/plain": [
       "Test.DefaultTestSet(\"alap_estimation_schedule_alg1 Tests\", Any[], 1, false)"
      ]
     },
     "execution_count": 4,
     "metadata": {},
     "output_type": "execute_result"
    }
   ],
   "source": [
    "include(\"../lib/julia/mpc_functions.jl\")\n",
    "include(\"../tests/julia/mpc_functions_tests.jl\")\n",
    "include(\"../lib/julia/linear_system.jl\")\n",
    "include(\"../tests/julia/linear_system_test.jl\")\n",
    "include(\"../lib/julia/alap_estimation_schedule.jl\")\n",
    "include(\"../tests/julia/alap_estimation_schedule_test.jl\")"
   ]
  },
  {
   "cell_type": "code",
   "execution_count": 11,
   "metadata": {},
   "outputs": [
    {
     "name": "stdout",
     "output_type": "stream",
     "text": [
      "\n",
      "--------------------------------------------\n",
      "Warning: your license will expire in 14 days\n",
      "--------------------------------------------\n",
      "\n",
      "Academic license - for non-commercial use only - expires 2020-12-31\n",
      "Reach1\n",
      "Reach2\n",
      "Reach3\n",
      "GenericAffExpr{Float64,VariableRef}[alpha0[1,1]; alpha0[1,1]; alpha0[2,1]; alpha0[2,1]; alpha0[3,1]; alpha0[3,1]; alpha0[4,1]; alpha0[4,1]]\n",
      "Reach4\n",
      "Gurobi Optimizer version 9.1.0 build v9.1.0rc0 (mac64)\n",
      "Thread count: 4 physical cores, 8 logical processors, using up to 8 threads\n",
      "Optimize a model with 554 rows, 380 columns and 1352 nonzeros\n",
      "Model fingerprint: 0x5a3ae2c0\n",
      "Coefficient statistics:\n",
      "  Matrix range     [1e-01, 2e+01]\n",
      "  Objective range  [1e+00, 1e+00]\n",
      "  Bounds range     [0e+00, 0e+00]\n",
      "  RHS range        [5e-01, 8e+00]\n",
      "Presolve removed 542 rows and 355 columns\n",
      "Presolve time: 0.00s\n",
      "Presolved: 12 rows, 25 columns, 66 nonzeros\n",
      "\n",
      "Iteration    Objective       Primal Inf.    Dual Inf.      Time\n",
      "       0    2.1986000e+00   5.000700e+00   0.000000e+00      0s\n",
      "       7    2.5000000e+00   0.000000e+00   0.000000e+00      0s\n",
      "\n",
      "Solved in 7 iterations and 0.00 seconds\n",
      "Optimal objective  2.500000000e+00\n",
      "\n",
      "User-callback calls 43, time in user-callback 0.00 sec\n",
      "termination_status = OPTIMAL\n",
      "2.5\n"
     ]
    }
   ],
   "source": [
    "A = [1 0;\n",
    "     -0.5 2];\n",
    "B = [1;0]\n",
    "C = [0 1]\n",
    "eta_w = 0.2\n",
    "eta_v = 0.1\n",
    "\n",
    "sys1 = LinearSystem(A,B,C,eta_w,eta_v)\n",
    "\n",
    "T = 3\n",
    "\n",
    "n_x = x_dim(sys1)\n",
    "n_y = y_dim(sys1)\n",
    "\n",
    "n_w = n_x\n",
    "n_v = n_y\n",
    "\n",
    "model = Model(Gurobi.Optimizer)\n",
    "\n",
    "# compute H_w, H_v, and H_x0\n",
    "H_w = [I(n_x);-I(n_x)]\n",
    "h_w = sys1.eta_w*ones(2*n_x,1)\n",
    "n_Hw = 2*n_w; #Dimensions of H_w A matrix\n",
    "\n",
    "H_v = [I(n_y);-I(n_y)]\n",
    "h_v = sys1.eta_v*ones(2*n_y,1)\n",
    "n_Hv = 2*n_v; #Dimensions of H_v A matrix\n",
    "\n",
    "eta_x0 = 0.1\n",
    "H_x0 = [I(n_x);-I(n_x)]\n",
    "h_x0 = eta_x0*ones(2*n_x,1)\n",
    "n_Hx0 = 2*n_x; #Dimensions of H_x0 A matrix\n",
    "\n",
    "# compute H_eta and h_eta\n",
    "H_eta=[kron(Matrix(1I,T,T), H_w) zeros(T*n_Hw,T*n_y + n_x) ;\n",
    "    zeros(T*n_Hv, T*n_w) kron(Matrix(1I,T,T), H_v) zeros(T*n_Hv,n_x);\n",
    "    zeros(n_Hx0,T*(n_w+n_v)) H_x0]\n",
    "\n",
    "h_eta=[kron(ones(T,1),h_w); kron(ones(T,1),h_v); h_x0];\n",
    "\n",
    "#Clear the model?\n",
    "empty!(model)\n",
    "\n",
    "#Create the Optimization Variables\n",
    "@variable(model,Q[1:n_x*T,1:n_y*T])\n",
    "@variable(model,r[1:n_x*T,1])\n",
    "@variable(model,Lambda[1:2*n_x*(T+1),1:T*(n_Hw+n_Hv)+n_Hx0])\n",
    "@variable(model,alpha0[1:T+1,1])\n",
    "\n",
    "#Constraints\n",
    "@constraint(model,alpha0.>=0)\n",
    "@constraint(model,Lambda.>=zeros(size(Lambda)))\n",
    "\n",
    "S = compute_Sw( sys1.A , T )\n",
    "C_bar = compute_C_M( sys1.C , [T-1] , T )\n",
    "J = compute_Sx0( sys1.A , T)\n",
    "\n",
    "# println(size(S))\n",
    "# println(size(C_bar))\n",
    "# println(size(J))\n",
    "# println(size(Q))\n",
    "\n",
    "println(\"Reach1\")\n",
    "\n",
    "P_xi_w = S + S*Q*C_bar*S\n",
    "P_xi_v = S * Q \n",
    "P_xi_xi0 = ( I + S*Q*C_bar)*J\n",
    "\n",
    "println(\"Reach2\")\n",
    "\n",
    "R_T_mT = [ I ; -Matrix(1I, n_x*(T+1), n_x*(T+1)) ]\n",
    "\n",
    "# Add dual equality constraint\n",
    "LHS1 = Lambda * H_eta\n",
    "RHS1 = R_T_mT * [ P_xi_w P_xi_v P_xi_xi0 ]\n",
    "\n",
    "@constraint(model, LHS1 .== RHS1 )\n",
    "\n",
    "println(\"Reach3\")\n",
    "\n",
    "# Add dual inequality constraint\n",
    "alpha_bar=kron(alpha0,ones(x_dim(sys1),1))\n",
    "println(alpha_bar)\n",
    "alpha_bar=[alpha_bar; alpha_bar];\n",
    "\n",
    "size(Lambda)\n",
    "size(h_eta)\n",
    "\n",
    "LHS2 = Lambda * h_eta    \n",
    "RHS2 = alpha_bar - R_T_mT * S*r\n",
    "@constraint(model, LHS2.<=RHS2 )\n",
    "\n",
    "println(\"Reach4\")\n",
    "\n",
    "# low diagonal constraint\n",
    "for blk_row_idx = 1:div(size(Q,1), n_x)-1\n",
    "    LHS_bloc = Q[(blk_row_idx-1)*n_x.+(1:n_x),blk_row_idx*n_y+1:end]\n",
    "    @constraint(model,LHS_bloc.==zeros(size(LHS_bloc)))\n",
    "end\n",
    "\n",
    "#Create Objective\n",
    "@objective(model, Min, sum(alpha0))\n",
    "\n",
    "#Optimize!\n",
    "optimize!(model)\n",
    "\n",
    "print(\"termination_status = $(termination_status(model))\\n\")\n",
    "\n",
    "# println(model)\n",
    "println(objective_value(model))"
   ]
  },
  {
   "cell_type": "code",
   "execution_count": 4,
   "metadata": {},
   "outputs": [
    {
     "name": "stdout",
     "output_type": "stream",
     "text": [
      "\n",
      "--------------------------------------------\n",
      "Warning: your license will expire in 14 days\n",
      "--------------------------------------------\n",
      "\n",
      "Academic license - for non-commercial use only - expires 2020-12-31\n"
     ]
    },
    {
     "data": {
      "text/plain": [
       "(MathOptInterface.OPTIMAL, 2.95)"
      ]
     },
     "execution_count": 4,
     "metadata": {},
     "output_type": "execute_result"
    }
   ],
   "source": [
    "find_est_error_bound_from_time_0_to_T( sys1 , T , eta_x0 )"
   ]
  },
  {
   "cell_type": "code",
   "execution_count": 40,
   "metadata": {},
   "outputs": [
    {
     "name": "stdout",
     "output_type": "stream",
     "text": [
      "\n",
      "--------------------------------------------\n",
      "Warning: your license will expire in 14 days\n",
      "--------------------------------------------\n",
      "\n",
      "Academic license - for non-commercial use only - expires 2020-12-31\n",
      "termination_status = OPTIMAL\n",
      "\n",
      "--------------------------------------------\n",
      "Warning: your license will expire in 14 days\n",
      "--------------------------------------------\n",
      "\n",
      "Academic license - for non-commercial use only - expires 2020-12-31\n",
      "termination_status = OPTIMAL\n",
      "\n",
      "--------------------------------------------\n",
      "Warning: your license will expire in 14 days\n",
      "--------------------------------------------\n",
      "\n",
      "Academic license - for non-commercial use only - expires 2020-12-31\n",
      "termination_status = OPTIMAL\n",
      "\n",
      "--------------------------------------------\n",
      "Warning: your license will expire in 14 days\n",
      "--------------------------------------------\n",
      "\n",
      "Academic license - for non-commercial use only - expires 2020-12-31\n",
      "termination_status = OPTIMAL\n",
      "Any[1, 4, 7]\n",
      "Gurobi Optimizer version 9.1.0 build v9.1.0rc0 (mac64)\n",
      "Thread count: 4 physical cores, 8 logical processors, using up to 8 threads\n",
      "Optimize a model with 1420 rows, 1036 columns and 5556 nonzeros\n",
      "Model fingerprint: 0xa3c1a1e4\n",
      "Coefficient statistics:\n",
      "  Matrix range     [1e-01, 1e+00]\n",
      "  Objective range  [1e+00, 1e+00]\n",
      "  Bounds range     [0e+00, 0e+00]\n",
      "  RHS range        [1e+00, 1e+00]\n",
      "Presolve removed 1152 rows and 481 columns\n",
      "Presolve time: 0.01s\n",
      "Presolved: 268 rows, 555 columns, 3118 nonzeros\n",
      "\n",
      "Iteration    Objective       Primal Inf.    Dual Inf.      Time\n",
      "       0      handle free variables                          0s\n",
      "     110    7.0000000e-01   0.000000e+00   0.000000e+00      0s\n",
      "\n",
      "Solved in 110 iterations and 0.01 seconds\n",
      "Optimal objective  7.000000000e-01\n",
      "\n",
      "User-callback calls 147, time in user-callback 0.00 sec\n",
      "termination_status = OPTIMAL\n"
     ]
    },
    {
     "data": {
      "text/plain": [
       "(0.7000000000000002, MathOptInterface.OPTIMAL)"
      ]
     },
     "execution_count": 40,
     "metadata": {},
     "output_type": "execute_result"
    }
   ],
   "source": [
    "include(\"./mpc_functions.jl\")\n",
    "include(\"./linear_system.jl\")\n",
    "\n",
    "A = 1\n",
    "B = 1\n",
    "C = 1\n",
    "eta_w = 0.2\n",
    "eta_v = 0.1\n",
    "\n",
    "sys1 = LinearSystem(A,B,C,eta_w,eta_v)\n",
    "\n",
    "eta_x0 = 0.25\n",
    "\n",
    "T = 3\n",
    "\n",
    "T_star = find_time_from_X0_to_bound( sys1 , eta_x0 , 1 )\n",
    "\n",
    "M = alap_estimation_schedule_alg1( 10 , 3 )\n",
    "\n",
    "println(M)\n",
    "\n",
    "T0 = 10\n",
    "obj_val0 , feas_flag0 = evaluate_schedule_wrt( sys1, M , T0 , 1 , eta_x0 )"
   ]
  },
  {
   "cell_type": "code",
   "execution_count": 37,
   "metadata": {},
   "outputs": [
    {
     "name": "stdout",
     "output_type": "stream",
     "text": [
      "[0.0, 0.0]\n"
     ]
    }
   ],
   "source": [
    "println(zeros(2))"
   ]
  },
  {
   "cell_type": "code",
   "execution_count": null,
   "metadata": {},
   "outputs": [],
   "source": []
  }
 ],
 "metadata": {
  "kernelspec": {
   "display_name": "Julia 1.5.2",
   "language": "julia",
   "name": "julia-1.5"
  },
  "language_info": {
   "file_extension": ".jl",
   "mimetype": "application/julia",
   "name": "julia",
   "version": "1.5.2"
  }
 },
 "nbformat": 4,
 "nbformat_minor": 4
}
